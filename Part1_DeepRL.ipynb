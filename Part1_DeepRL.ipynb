{
 "cells": [
  {
   "cell_type": "markdown",
   "metadata": {},
   "source": [
    "$$\n",
    "\\newcommand{\\mat}[1]{\\boldsymbol {#1}}\n",
    "\\newcommand{\\mattr}[1]{\\boldsymbol {#1}^\\top}\n",
    "\\newcommand{\\matinv}[1]{\\boldsymbol {#1}^{-1}}\n",
    "\\newcommand{\\vec}[1]{\\boldsymbol {#1}}\n",
    "\\newcommand{\\vectr}[1]{\\boldsymbol {#1}^\\top}\n",
    "\\newcommand{\\rvar}[1]{\\mathrm {#1}}\n",
    "\\newcommand{\\rvec}[1]{\\boldsymbol{\\mathrm{#1}}}\n",
    "\\newcommand{\\diag}{\\mathop{\\mathrm {diag}}}\n",
    "\\newcommand{\\set}[1]{\\mathbb {#1}}\n",
    "\\newcommand{\\cset}[1]{\\mathcal{#1}}\n",
    "\\newcommand{\\norm}[1]{\\left\\lVert#1\\right\\rVert}\n",
    "\\newcommand{\\pderiv}[2]{\\frac{\\partial #1}{\\partial #2}}\n",
    "\\newcommand{\\bb}[1]{\\boldsymbol{#1}}\n",
    "\\newcommand{\\E}[2][]{\\mathbb{E}_{#1}\\left[#2\\right]}\n",
    "\\newcommand{\\ip}[3]{\\left<#1,#2\\right>_{#3}}\n",
    "\\newcommand{\\given}[]{\\,\\middle\\vert\\,}\n",
    "\\newcommand{\\DKL}[2]{\\cset{D}_{\\text{KL}}\\left(#1\\,\\Vert\\, #2\\right)}\n",
    "\\newcommand{\\grad}[]{\\nabla}\n",
    "$$\n",
    "# Part 1: Deep Reinforcement Learning\n",
    "<a id=part1></a>"
   ]
  },
  {
   "cell_type": "markdown",
   "metadata": {},
   "source": [
    "In the tutorial we have seen value-based reinforcement learning, in which we learn to approximate the action-value function $q(s,a)$.\n",
    "\n",
    "In this exercise we'll explore a different approach, directly learning the agent's policy distribution, $\\pi(a|s)$\n",
    "by using *policy gradients*, in order to safely land on the moon!"
   ]
  },
  {
   "cell_type": "code",
   "execution_count": 1,
   "metadata": {},
   "outputs": [],
   "source": [
    "%load_ext autoreload\n",
    "%autoreload 2\n",
    "%matplotlib inline\n",
    "\n",
    "import unittest\n",
    "import os\n",
    "import sys\n",
    "import pathlib\n",
    "import urllib\n",
    "import shutil\n",
    "import re\n",
    "\n",
    "import numpy as np\n",
    "import torch\n",
    "import torch.nn as nn\n",
    "import torch.optim as optim\n",
    "import matplotlib.pyplot as plt"
   ]
  },
  {
   "cell_type": "code",
   "execution_count": 2,
   "metadata": {},
   "outputs": [
    {
     "name": "stdout",
     "output_type": "stream",
     "text": [
      "Using device: cpu\n"
     ]
    }
   ],
   "source": [
    "test = unittest.TestCase()\n",
    "plt.rcParams.update({'font.size': 12})\n",
    "device = torch.device('cuda' if torch.cuda.is_available() else 'cpu')\n",
    "\n",
    "# Prefer CPU, GPU won't help much in this assignment\n",
    "device = 'cpu'\n",
    "print('Using device:', device)\n",
    "\n",
    "# Seed for deterministic tests\n",
    "SEED = 42"
   ]
  },
  {
   "cell_type": "markdown",
   "metadata": {},
   "source": [
    "Some technical notes before we begin:\n",
    "\n",
    "- This part does not require a GPU. We won't need large models, and the computation bottleneck will be the generation of episodes to train on.\n",
    "- In order to run this notebook on the server, you must prepend the `xvfb-run` command to create a virtual screen. For example,\n",
    "    - to run this notebook with `srun` do\n",
    "        ```\n",
    "        srun -c2 --gres=gpu:1 xvfb-run -a -s \"-screen 0 1440x900x24\" python main.py run-nb <filename>\n",
    "        ```\n",
    "    - To run the submission script, do\n",
    "        ```\n",
    "        srun -c2 xvfb-run -a -s \"-screen 0 1440x900x24\" python main.py prepare-submission ...\n",
    "        ```\n",
    "    - note that we have already included the `xvfb-run` command inside the `jupyter-lab.sh` script, so you can use it as usual with `srun`.\n",
    "    and so on.\n",
    "- The OpenAI `gym` library is not officially supported on windows. However it should be possible to install and run the necessary environment for this exercise. However, we cannot provide you with technical support for this. If you have trouble installing locally, we suggest running on the course server."
   ]
  },
  {
   "cell_type": "markdown",
   "metadata": {},
   "source": [
    "## Policy gradients\n",
    "<a id=part1_1></a>"
   ]
  },
  {
   "cell_type": "markdown",
   "metadata": {},
   "source": [
    "Recall from the tutorial that we define the **policy** of an agent as the conditional distribution,\n",
    "$$\n",
    "\\pi(a|s) = \\Pr(a_t=a\\vert s_t=s),\n",
    "$$\n",
    "which defines how likely the agent is to take action $a$ at state $s$.\n",
    "\n",
    "Furthermore we define the action-value function,\n",
    "$$\n",
    "q_{\\pi}(s,a) = \\E{g_t(\\tau)|s_t = s,a_t=a,\\pi}\n",
    "$$\n",
    "where \n",
    "$$\n",
    "g_t(\\tau) = r_{t+1}+\\gamma r_{t+2} + \\dots = \\sum_{k=0}^{\\infty} \\gamma^k r_{t+1+k},\n",
    "$$\n",
    "is the total discounted reward of a specific trajectory $\\tau$ from time $t$, and the expectation in $q$ is over all possible\n",
    "trajectories,\n",
    "$\n",
    "\\tau=\\left\\{ (s_0,a_0,r_1,s_1), \\dots (s_T,a_T,r_{T+1},s_{T+1}) \\right\\}.\n",
    "$"
   ]
  },
  {
   "cell_type": "markdown",
   "metadata": {},
   "source": [
    "In the tutorial we saw that we can learn a value function starting with some random function and\n",
    "updating it iteratively by using the **Bellman optimality equation**.\n",
    "Given that we have some action-value function, we can immediately create a policy based on that\n",
    "by simply selecting an action which maximize the action-value at the current state, i.e.\n",
    "$$\n",
    "\\pi(a|s) =\n",
    "\\begin{cases}\n",
    "1, & a = \\arg\\max_{a'\\in\\cset{A}} q(s,a') \\\\\n",
    "0, & \\text{else}\n",
    "\\end{cases}.\n",
    "$$\n",
    "This is called $q$-learning. This approach aims to obtain a policy indirectly through the action-value function.\n",
    "Yet, in most cases we don't actually care about knowing the value of particular states,\n",
    "since all we need is a good policy for our agent. \n",
    "\n",
    "Here we'll take a different approach and learn a policy distribution $\\pi(a|s)$ directly - by using **policy gradients**."
   ]
  },
  {
   "cell_type": "markdown",
   "metadata": {},
   "source": [
    "### Formalism"
   ]
  },
  {
   "cell_type": "markdown",
   "metadata": {},
   "source": [
    "We define a parametric policy, $\\pi_\\vec{\\theta}(a|s)$, and maximize total discounted reward (or minimize the negative reward):\n",
    "$$\n",
    "\\mathcal{L}(\\vec{\\theta})=\\E[\\tau]{-g(\\tau)|\\pi_\\vec{\\theta}} = -\\int g(\\tau)p(\\tau|\\vec{\\theta})d\\tau,\n",
    "$$\n",
    "where $p(\\tau|\\vec{\\theta})$ is the probability of a specific trajectory $\\tau$ under the policy defined by $\\vec{\\theta}$.\n"
   ]
  },
  {
   "cell_type": "markdown",
   "metadata": {},
   "source": [
    "Since we want to find the parameters $\\vec{\\theta}$ which minimize $\\mathcal{L}(\\vec{\\theta})$, we'll compute the gradient w.r.t. $\\vec{\\theta}$:\n",
    "$$\n",
    "\\grad\\mathcal{L}(\\vec{\\theta}) = -\\int g(\\tau)\\grad p(\\tau|\\vec{\\theta})d\\tau.\n",
    "$$\n",
    "\n",
    "Unfortunately, if we try to write $p(\\tau|\\vec{\\theta})$ explicitly,\n",
    "we find that computing it's gradient with respect to $\\vec{\\theta}$ is\n",
    "quite intractable due to a huge product of terms depending on $\\vec{\\theta}$:\n",
    "$$\n",
    "p(\\tau|\\vec{\\theta})=p\\left(\\left\\{ (s_t,a_t,r_{t+1},s_{t+1})\\right\\}_{t\\geq0}\\given\\vec{\\theta}\\right)\n",
    "=p(s_0)\\prod_{t\\geq0} \\pi_{\\vec{\\theta}}(a_t|s_t)p(s_{t+1}|s_t,a_t).\n",
    "$$"
   ]
  },
  {
   "cell_type": "markdown",
   "metadata": {},
   "source": [
    "However, by using the fact that $\\grad_{x}\\log(f(x))=\\frac{\\grad_{x}f(x)}{f(x)}$, we can convert the product into a sum:\n",
    "$$\n",
    "\\begin{align}\n",
    "\\grad\\mathcal{L}(\\vec{\\theta})\n",
    "&= -\\int g(\\tau)\\grad p(\\tau|\\vec{\\theta})d\\tau\n",
    "= -\\int g(\\tau)\\frac{\\grad p(\\tau|\\vec{\\theta})}{p(\\tau|\\vec{\\theta})}p(\\tau|\\vec{\\theta})d\\tau \\\\\n",
    "&= -\\int g(\\tau)\\grad\\log\\left(p(\\tau|\\vec{\\theta})\\right)p(\\tau|\\vec{\\theta})d\\tau \\\\\n",
    "&= -\\int g(\\tau)\\grad\\log\\left( p(s_0)\\prod_{t\\geq0} \\pi_{\\vec{\\theta}}(a_t|s_t)p(s_{t+1}|s_t,a_t) \\right)\n",
    "p(\\tau|\\vec{\\theta})d\\tau \\\\\n",
    "&= -\\int g(\\tau)\\grad\\left( \\log p(s_0) + \\sum_{t\\geq0} \\log \\pi_{\\vec{\\theta}}(a_t|s_t) + \n",
    "\\sum_{t\\geq0}\\log p(s_{t+1}|s_t,a_t) \\right) p(\\tau|\\vec{\\theta})d\\tau \\\\\n",
    "&= -\\int g(\\tau)\\sum_{t\\geq0} \\grad\\log \\pi_{\\vec{\\theta}}(a_t|s_t) p(\\tau|\\vec{\\theta})d\\tau \\\\\n",
    "&= \\E[\\tau]{-g(\\tau)\\sum_{t\\geq0} \\grad\\log \\pi_{\\vec{\\theta}}(a_t|s_t)}.\n",
    "\\end{align}\n",
    "$$"
   ]
  },
  {
   "cell_type": "markdown",
   "metadata": {},
   "source": [
    "This is the \"vanilla\" version of the policy gradient. We can interpret is as a weighted log-likelihood function.\n",
    "The log-policy is the log-likelihood term we wish to maximize and the total discounted reward acts as a weight: high-return positive\n",
    "trajectories will cause the probability of actions taken during them to increase, and negative-return trajectories will cause the\n",
    "probabilities of actions taken to decrease.\n",
    "\n",
    "In the following figures we see three trajectories: high-return positive-reward (green), low-return positive-reward (yellow) and negative-return (red) and the action probabilities along the trajectories after the update. Credit: Sergey Levine.\n",
    "\n",
    "|<strong></strong>||\n",
    "|-----| ----|\n",
    "|<img src=\"imgs/pg1.png\" height=\"200\">|<img src=\"imgs/pg2.png\" height=\"200\">|\n"
   ]
  },
  {
   "cell_type": "markdown",
   "metadata": {},
   "source": [
    "The major drawback of the policy-gradient is it's high variance, which causes erratic optimization behavior and therefore slow convergence.\n",
    "One reason for this is that the log-policy weight term, $g(\\tau)$ can vary wildly between different trajectories, even if they're similar in\n",
    "actions. Later on we'll implement the loss and explore some methods of variance reduction."
   ]
  },
  {
   "cell_type": "markdown",
   "metadata": {},
   "source": [
    "### Landing on the moon with policy gradients"
   ]
  },
  {
   "cell_type": "markdown",
   "metadata": {},
   "source": [
    "In the spirit of the recent achievements of the Israeli space industry,\n",
    "we'll apply our reinforcement learning skills to solve a simple game called **LunarLander**.\n",
    "\n",
    "This game is available as an `environment` in OpenAI `gym`.\n",
    "\n",
    "<video loop autoplay src=\"http://gym.openai.com/videos/2019-04-06--My9IiAbqha/LunarLander-v2/original.mp4\" />"
   ]
  },
  {
   "cell_type": "markdown",
   "metadata": {},
   "source": [
    "In this environment, you need to control the lander and get it to land safely on the moon.\n",
    "To do so, you must apply bottom, right or left thrusters (each are either fully on or fully off)\n",
    "and get it to land within the designated zone as quickly as possible and with minimal wasted fuel."
   ]
  },
  {
   "cell_type": "code",
   "execution_count": 3,
   "metadata": {},
   "outputs": [],
   "source": [
    "import gym\n",
    "\n",
    "# Just for fun :) ... but also to re-define the default max number of steps\n",
    "ENV_NAME = 'Beresheet-v2'\n",
    "MAX_EPISODE_STEPS = 300\n",
    "if ENV_NAME not in gym.envs.registry.env_specs:\n",
    "    gym.register(\n",
    "        id=ENV_NAME,\n",
    "        entry_point='gym.envs.box2d:LunarLander',\n",
    "        max_episode_steps=MAX_EPISODE_STEPS,\n",
    "        reward_threshold=200,\n",
    "    )"
   ]
  },
  {
   "cell_type": "code",
   "execution_count": 4,
   "metadata": {},
   "outputs": [
    {
     "name": "stdout",
     "output_type": "stream",
     "text": [
      "<TimeLimit<LunarLander<Beresheet-v2>>>\n",
      "observations space: Box(-inf, inf, (8,), float32)\n",
      "action space: Discrete(4)\n"
     ]
    }
   ],
   "source": [
    "import gym\n",
    "\n",
    "env = gym.make(ENV_NAME)\n",
    "\n",
    "print(env)\n",
    "print(f'observations space: {env.observation_space}')\n",
    "print(f'action space: {env.action_space}')\n",
    "\n",
    "ENV_N_ACTIONS = env.action_space.n\n",
    "ENV_N_OBSERVATIONS = env.observation_space.shape[0]\n"
   ]
  },
  {
   "cell_type": "markdown",
   "metadata": {},
   "source": [
    "The observations at each step is the Lander's position, velocity, angle, angular velocity and ground contact state.\n",
    "The actions are no-op, fire left truster, bottom thruster and right thruster.\n",
    "\n",
    "You are **highly encouraged** to read the [documentation](https://github.com/openai/gym/blob/master/gym/envs/box2d/lunar_lander.py) in the source code of the `LunarLander` environment to understand the reward system,\n",
    "and see how the actions and observations are created."
   ]
  },
  {
   "cell_type": "markdown",
   "metadata": {},
   "source": [
    "### Policy network and Agent"
   ]
  },
  {
   "cell_type": "markdown",
   "metadata": {},
   "source": [
    "Let's start with our policy-model. This will be a simple neural net, which should take an observation and return a score for each possible action."
   ]
  },
  {
   "cell_type": "markdown",
   "metadata": {},
   "source": [
    "**TODO**:\n",
    "1. Implement all methods in the `PolicyNet` class in the `hw4/rl_pg.py` module.\n",
    "   Start small. A simple MLP with a few hidden layers is a good starting point. You can come back and change it later based on the the experiments.  \n",
    "   Notice that we'll use the `build_for_env` method to instantiate a `PolicyNet` based on the configuration of a given environment.\n",
    "2. If you need hyperparameters to configure your model (e.g. number of hidden layers, sizes, etc.), add them in `part1_pg_hyperparams()` in `hw4/answers.py`."
   ]
  },
  {
   "cell_type": "code",
   "execution_count": 5,
   "metadata": {},
   "outputs": [
    {
     "data": {
      "text/plain": [
       "PolicyNet(\n",
       "  (network): Sequential(\n",
       "    (0): Linear(in_features=8, out_features=32, bias=True)\n",
       "    (1): ReLU()\n",
       "    (2): Linear(in_features=32, out_features=32, bias=True)\n",
       "    (3): ReLU()\n",
       "    (4): Linear(in_features=32, out_features=4, bias=True)\n",
       "  )\n",
       ")"
      ]
     },
     "execution_count": 5,
     "metadata": {},
     "output_type": "execute_result"
    }
   ],
   "source": [
    "import hw4.rl_pg as hw4pg\n",
    "import hw4.answers\n",
    "\n",
    "hp = hw4.answers.part1_pg_hyperparams()\n",
    "\n",
    "# You can add keyword-args to this function which will be populated from the\n",
    "# hyperparameters dict.\n",
    "p_net = hw4pg.PolicyNet.build_for_env(env, device, **hp)\n",
    "p_net"
   ]
  },
  {
   "cell_type": "markdown",
   "metadata": {},
   "source": [
    "Now we need an **agent**. The purpose of our agent will be to act according to the current policy and generate experiences.\n",
    "Our `PolicyAgent` will use a `PolicyNet` as the current policy function.\n",
    "\n",
    "\n",
    "We'll also define some extra datatypes to help us represent the data generated by our agent.\n",
    "You can find the `Experience`, `Episode` and `TrainBatch` datatypes in the `hw4/rl_data.py` module."
   ]
  },
  {
   "cell_type": "markdown",
   "metadata": {},
   "source": [
    "**TODO**: Implement the `current_action_distribution()` method of the `PolicyAgent` class in the `hw4/rl_pg.py` module."
   ]
  },
  {
   "cell_type": "code",
   "execution_count": 7,
   "metadata": {},
   "outputs": [
    {
     "name": "stdout",
     "output_type": "stream",
     "text": [
      "tensor([0.2605, 0.2597, 0.2116, 0.2682])\n"
     ]
    }
   ],
   "source": [
    "for i in range (10):\n",
    "    agent = hw4pg.PolicyAgent(env, p_net, device)\n",
    "    d = agent.current_action_distribution()\n",
    "    \n",
    "    test.assertSequenceEqual(d.shape, (env.action_space.n,))\n",
    "    test.assertAlmostEqual(d.sum(), 1.0, delta=1e-5)\n",
    "    \n",
    "print(d)"
   ]
  },
  {
   "cell_type": "markdown",
   "metadata": {},
   "source": [
    "**TODO**: Implement the `step()` method of the `PolicyAgent`."
   ]
  },
  {
   "cell_type": "code",
   "execution_count": 15,
   "metadata": {},
   "outputs": [
    {
     "name": "stdout",
     "output_type": "stream",
     "text": [
      "Experience(state=tensor([ 0.0043,  1.4015,  0.4379, -0.4185, -0.0050, -0.0992,  0.0000,  0.0000]), action=2, reward=2.2809285291077517, is_done=False)\n"
     ]
    }
   ],
   "source": [
    "agent = hw4pg.PolicyAgent(env, p_net, device)\n",
    "exp = agent.step()\n",
    "\n",
    "test.assertIsInstance(exp, hw4pg.Experience)\n",
    "print(exp)"
   ]
  },
  {
   "cell_type": "markdown",
   "metadata": {},
   "source": [
    "To test our agent, we'll write some code that allows it to play an environment. We'll use the `Monitor`\n",
    "wrapper in `gym` to generate a video of the episode for visual debugging."
   ]
  },
  {
   "cell_type": "markdown",
   "metadata": {},
   "source": [
    "**TODO**: Complete the implementation of the `monitor_episode()` method of the `PolicyAgent`."
   ]
  },
  {
   "cell_type": "code",
   "execution_count": 16,
   "metadata": {},
   "outputs": [],
   "source": [
    "env, n_steps, reward = agent.monitor_episode(ENV_NAME, p_net, device=device)"
   ]
  },
  {
   "cell_type": "markdown",
   "metadata": {},
   "source": [
    "To display the Monitor video in this notebook, we'll use a helper function from our `jupyter_utils` and a small wrapper that extracts the path of the last video file. "
   ]
  },
  {
   "cell_type": "code",
   "execution_count": 17,
   "metadata": {},
   "outputs": [],
   "source": [
    "import cs236781.jupyter_utils as jupyter_utils\n",
    "\n",
    "def show_monitor_video(monitor_env, idx=0, **kw):\n",
    "    # Extract video path\n",
    "    video_path = monitor_env.videos[idx][0]\n",
    "    video_path = os.path.relpath(video_path, start=os.path.curdir)\n",
    "    \n",
    "    # Use helper function to embed the video\n",
    "    return jupyter_utils.show_video_in_notebook(video_path, **kw)"
   ]
  },
  {
   "cell_type": "code",
   "execution_count": 20,
   "metadata": {},
   "outputs": [
    {
     "name": "stdout",
     "output_type": "stream",
     "text": [
      "Episode ran for 80 steps. Total reward: -117.13\n"
     ]
    },
    {
     "data": {
      "text/html": [
       "<video src=\"data:video/mp4;base64,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\" controls autoplay width=\"500\" height=\"auto\" />"
      ],
      "text/plain": [
       "<IPython.core.display.HTML object>"
      ]
     },
     "execution_count": 20,
     "metadata": {},
     "output_type": "execute_result"
    }
   ],
   "source": [
    "print(f'Episode ran for {n_steps} steps. Total reward: {reward:.2f}')\n",
    "\n",
    "show_monitor_video(env)"
   ]
  },
  {
   "cell_type": "markdown",
   "metadata": {},
   "source": [
    "### Training data"
   ]
  },
  {
   "cell_type": "markdown",
   "metadata": {},
   "source": [
    "The next step is to create data to train on.\n",
    "We need to train on batches of state-action pairs, so that our network can learn to predict the actions.\n",
    "\n",
    "We'll split this task into three parts:\n",
    "1. Generate a batch of `Episode`s, by using an `Agent` that's playing according to our current policy network.\n",
    "   Each `Episode` object contains the `Experience` objects created by the agent.\n",
    "2. Calculate the total discounted reward for each state we encountered and action we took. This is our action-value estimate.\n",
    "3. Convert the `Episode`s into a batch of tensors to train on.\n",
    "   Each batch will contain states, action taken per state, reward accrued, and the calculated estimated state-values.\n",
    "   These will be stored in a `TrainBatch` object.\n"
   ]
  },
  {
   "cell_type": "markdown",
   "metadata": {},
   "source": [
    "**TODO**: Complete the implementation of the `episode_batch_generator()` method in the `TrainBatchDataset` class within the `hw4.rl_data` module. This will address part 1 in the list above."
   ]
  },
  {
   "cell_type": "code",
   "execution_count": null,
   "metadata": {},
   "outputs": [],
   "source": [
    "import hw4.rl_data as hw4data\n",
    "\n",
    "def agent_fn():\n",
    "    env = gym.make(ENV_NAME)\n",
    "    hp = hw4.answers.part1_pg_hyperparams()\n",
    "    p_net = hw4pg.PolicyNet.build_for_env(env, device, **hp)\n",
    "    return hw4pg.PolicyAgent(env, p_net, device)\n",
    "    \n",
    "ds = hw4data.TrainBatchDataset(agent_fn, episode_batch_size=8, gamma=0.9)\n",
    "batch_gen = ds.episode_batch_generator()\n",
    "b = next(batch_gen)\n",
    "print('First episode:', b[0])\n",
    "\n",
    "test.assertEqual(len(b), 8)\n",
    "for ep in b:\n",
    "    test.assertIsInstance(ep, hw4data.Episode)\n",
    "    \n",
    "    # Check that it's a full episode\n",
    "    is_done = [exp.is_done for exp in ep.experiences]\n",
    "    test.assertFalse(any(is_done[0:-1]))\n",
    "    test.assertTrue(is_done[-1])"
   ]
  },
  {
   "cell_type": "markdown",
   "metadata": {},
   "source": [
    "**TODO**: Complete the implementation of the `calc_qvals()` method in the `Episode` class.\n",
    "This will address part 2.\n",
    "These q-values are an estimate of the actual action value function: $$\\hat{q}_{t} = \\sum_{t'\\geq t} \\gamma^{t'-t}r_{t'+1}.$$"
   ]
  },
  {
   "cell_type": "code",
   "execution_count": null,
   "metadata": {},
   "outputs": [],
   "source": [
    "np.random.seed(SEED)\n",
    "test_rewards = np.random.randint(-10, 10, 100)\n",
    "test_experiences = [hw4pg.Experience(None,None,r,False) for r in test_rewards] \n",
    "test_episode = hw4data.Episode(np.sum(test_rewards), test_experiences)\n",
    "\n",
    "qvals = test_episode.calc_qvals(0.9)\n",
    "qvals = list(qvals)\n",
    "\n",
    "expected_qvals = np.load(os.path.join('tests', 'assets', 'part1_expected_qvals.npy'))\n",
    "for i in range(len(test_rewards)):\n",
    "    test.assertAlmostEqual(expected_qvals[i], qvals[i], delta=1e-3)"
   ]
  },
  {
   "cell_type": "markdown",
   "metadata": {},
   "source": [
    "**TODO**: Complete the implementation of the `from_episodes()` method in the `TrainBatch` class.\n",
    "This will address part 3.\n",
    "\n",
    "Notes:\n",
    "- The `TrainBatchDataset` class provides a generator function that will use the above function to lazily generate batches of training samples and labels on demand.\n",
    "- This allows us to use a standard `PyTorch` dataloader to wrap our Dataset and provide us with parallel data loading for free!\n",
    "  This means we can run multiple environments with multiple agents in separate background processes to generate data for training and thus prevent the data loading bottleneck which is caused by the fact that we must generate full Episodes to train on in order to calculate the q-values.\n",
    "- We'll set the `DataLoader`'s `batch_size` to `None` because we have already implemented custom batching in our dataset.\n",
    "- You can choose the number of worker processes generating data using the `num_workers` parameter in the hyperparams dict. Set `num_workers=0` to disable parallelization."
   ]
  },
  {
   "cell_type": "code",
   "execution_count": null,
   "metadata": {},
   "outputs": [],
   "source": [
    "from torch.utils.data import DataLoader\n",
    "\n",
    "hp = hw4.answers.part1_pg_hyperparams()\n",
    "\n",
    "ds = hw4data.TrainBatchDataset(agent_fn, episode_batch_size=8, gamma=0.9)\n",
    "dl = DataLoader(\n",
    "    ds,\n",
    "    batch_size=None,\n",
    "    num_workers=hp['num_workers'],\n",
    "    multiprocessing_context='fork' if hp['num_workers'] > 0 else None\n",
    ")\n",
    "\n",
    "\n",
    "for i, train_batch in enumerate(dl):\n",
    "    states, actions, qvals, reward_mean = train_batch\n",
    "    print(f'#{i}: {train_batch}')\n",
    "    test.assertEqual(states.shape[0], actions.shape[0])\n",
    "    test.assertEqual(qvals.shape[0], actions.shape[0])\n",
    "    test.assertEqual(states.shape[1], env.observation_space.shape[0])\n",
    "    if i > 5:\n",
    "        break"
   ]
  },
  {
   "cell_type": "markdown",
   "metadata": {},
   "source": [
    "### Loss functions"
   ]
  },
  {
   "cell_type": "markdown",
   "metadata": {},
   "source": [
    "As usual, we need a loss function to optimize over.\n",
    "We'll calculate three types of losses:\n",
    "1. The causal vanilla policy gradient loss.\n",
    "1. The policy gradient loss, with a baseline to reduce variance.\n",
    "2. An entropy-based loss whos purpose is to diversify the agent's action selection,\n",
    "   and prevent it from being \"too sure\" about its actions.\n",
    "   This loss will be used together with one of the above losses."
   ]
  },
  {
   "cell_type": "markdown",
   "metadata": {},
   "source": [
    "#### Causal vanilla policy-gradient"
   ]
  },
  {
   "cell_type": "markdown",
   "metadata": {},
   "source": [
    "We have derived the policy-gradient as\n",
    "$$\n",
    "\\grad\\mathcal{L}(\\vec{\\theta}) = \\E[\\tau]{-g(\\tau)\\sum_{t\\geq0} \\grad\\log \\pi_{\\vec{\\theta}}(a_t|s_t)}.\n",
    "$$\n",
    "\n",
    "By writing the discounted reward explicitly and enforcing causality, i.e. the action taken at time $t$ can't affect\n",
    "the reward at time $t'<t$, we can get a slightly lower-variance version of the policy gradient:\n",
    "\n",
    "$$\n",
    "\\grad\\mathcal{L}_{\\text{PG}}(\\vec{\\theta}) = \n",
    "\\E[\\tau]{-\\sum_{t\\geq0} \\left(\\sum_{t'\\geq t} \\gamma^{t'-t}r_{t'+1} \\right)\\grad\\log \\pi_{\\vec{\\theta}}(a_t|s_t)}.\n",
    "$$"
   ]
  },
  {
   "cell_type": "markdown",
   "metadata": {},
   "source": [
    "In practice, the expectation over trajectories is calculated using a Monte-Carlo approach, i.e. simply sampling $N$\n",
    "trajectories and average the term inside the expectation. Therefore, we will use the following estimated version of the policy gradient:\n",
    "\n",
    "$$\n",
    "\\begin{align}\n",
    "\\hat\\grad\\mathcal{L}_{\\text{PG}}(\\vec{\\theta})\n",
    "&=-\\frac{1}{N}\\sum_{i=1}^{N}\\sum_{t\\geq0} \\left(\\sum_{t'\\geq t} \\gamma^{t'-t}r_{i,t'+1} \\right)\\grad\\log \\pi_{\\vec{\\theta}}(a_{i,t}|s_{i,t}) \\\\\n",
    "&=-\\frac{1}{N}\\sum_{i=1}^{N}\\sum_{t\\geq0} \\hat{q}_{i,t} \\grad\\log \\pi_{\\vec{\\theta}}(a_{i,t}|s_{i,t}).\n",
    "\\end{align}\n",
    "$$\n",
    "\n",
    "Note the use of the notation $\\hat{q}_{i,t}$ to represent the estimated action-value at time $t$ in the sampled trajectory $i$.\n",
    "Here $\\hat{q}_{i,t}$ is acting as the weight-term for the policy gradient."
   ]
  },
  {
   "cell_type": "markdown",
   "metadata": {},
   "source": [
    "**TODO**: Complete the implementation of the `VanillaPolicyGradientLoss` class in the `hw4/rl_pg.py` module."
   ]
  },
  {
   "cell_type": "code",
   "execution_count": null,
   "metadata": {},
   "outputs": [],
   "source": [
    "# Ensure deterministic run\n",
    "env = gym.make(ENV_NAME)\n",
    "env.seed(SEED)\n",
    "torch.manual_seed(SEED)\n",
    "\n",
    "def agent_fn():\n",
    "    # Use a simple \"network\" here, so that this test doesn't depend on\n",
    "    # your specific PolicyNet implementation\n",
    "    p_net_test = nn.Linear(ENV_N_OBSERVATIONS, ENV_N_ACTIONS, bias=True)\n",
    "    agent = hw4pg.PolicyAgent(env, p_net_test)\n",
    "    return agent\n",
    "\n",
    "dataloader = hw4data.TrainBatchDataset(agent_fn, gamma=0.9, episode_batch_size=4)\n",
    "\n",
    "test_batch = next(iter(dataloader))\n",
    "test_action_scores = torch.randn(len(test_batch), env.action_space.n)\n",
    "print(f\"{test_batch=}\", end='\\n\\n')\n",
    "print(f\"test_action_scores=\\n{test_action_scores}\\nshape={test_action_scores.shape}\", end='\\n\\n')\n",
    "\n",
    "loss_fn_p = hw4pg.VanillaPolicyGradientLoss()\n",
    "loss_p, _ = loss_fn_p(test_batch, test_action_scores)\n",
    "\n",
    "print(f'{loss_p=}')\n",
    "test.assertAlmostEqual(loss_p.item(), -36.642, delta=1e-2)"
   ]
  },
  {
   "cell_type": "markdown",
   "metadata": {},
   "source": [
    "#### Policy-gradient with baseline"
   ]
  },
  {
   "cell_type": "markdown",
   "metadata": {},
   "source": [
    "Another way to reduce the variance of our gradient is to use relative weighting of the log-policy instead of absolute reward values.\n",
    "$$\n",
    "\\hat\\grad\\mathcal{L}_{\\text{BPG}}(\\vec{\\theta})\n",
    "=-\\frac{1}{N}\\sum_{i=1}^{N}\\sum_{t\\geq0} \\left(\\hat{q}_{i,t}-b\\right) \\grad\\log \\pi_{\\vec{\\theta}}(a_{i,t}|s_{i,t}).\n",
    "$$\n",
    "In other words, we don't measure a trajectory's worth by it's total reward, but by how much better that total reward is relative to some\n",
    "expected (\"baseline\") reward value, denoted above by $b$.\n",
    "Note that subtracting a baseline has no effect on the expected value of the policy gradient. It's easy to prove this directly by definition.\n",
    "\n",
    "Here we'll implement a very simple baseline (not optimal in terms of variance reduction): the average of the estimated state-values $\\hat{q}_{i,t}$."
   ]
  },
  {
   "cell_type": "markdown",
   "metadata": {},
   "source": [
    "**TODO**: Complete the implementation of the `BaselinePolicyGradientLoss` class in the `hw4/rl_pg.py` module."
   ]
  },
  {
   "cell_type": "code",
   "execution_count": null,
   "metadata": {},
   "outputs": [],
   "source": [
    "# Using the same batch and action_scores from above cell\n",
    "loss_fn_p = hw4pg.BaselinePolicyGradientLoss()\n",
    "loss_p, loss_dict = loss_fn_p(test_batch, test_action_scores)\n",
    "\n",
    "print(f'{loss_dict=}')\n",
    "test.assertAlmostEqual(loss_dict['baseline'], -22.191, delta=1e-2)\n",
    "test.assertAlmostEqual(loss_p.item(), -0.278, delta=1e-2)"
   ]
  },
  {
   "cell_type": "markdown",
   "metadata": {},
   "source": [
    "#### Entropy loss"
   ]
  },
  {
   "cell_type": "markdown",
   "metadata": {},
   "source": [
    "The entropy of a probability distribution (in our case the policy), is\n",
    "$$\n",
    "H(\\pi) = -\\sum_{a} \\pi(a|s)\\log\\pi(a|s).\n",
    "$$\n",
    "The entropy is always positive and obtains it's maximum for a uniform distribution.\n",
    "We'll use the entropy of the policy as a bonus, i.e. we'll try to maximize it.\n",
    "The idea is the prevent the policy distribution from becoming too narrow and thus promote the agent's exploration."
   ]
  },
  {
   "cell_type": "markdown",
   "metadata": {},
   "source": [
    "First, we'll calculate the maximal possible entropy value of the action distribution for a set number of possible actions.\n",
    "This will be used as a normalization term.\n",
    "\n",
    "**TODO**: Complete the implementation of the `calc_max_entropy()` method in the `ActionEntropyLoss` class."
   ]
  },
  {
   "cell_type": "code",
   "execution_count": null,
   "metadata": {},
   "outputs": [],
   "source": [
    "loss_fn_e = hw4pg.ActionEntropyLoss(env.action_space.n)\n",
    "print('max_entropy = ', loss_fn_e.max_entropy)\n",
    "\n",
    "test.assertAlmostEqual(loss_fn_e.max_entropy, 1.38629436, delta=1e-3)"
   ]
  },
  {
   "cell_type": "markdown",
   "metadata": {},
   "source": [
    "**TODO**: Complete the implementation of the `forward()` method in the `ActionEntropyLoss` class."
   ]
  },
  {
   "cell_type": "code",
   "execution_count": null,
   "metadata": {},
   "outputs": [],
   "source": [
    "loss_e, _ = loss_fn_e(test_batch, test_action_scores)\n",
    "print('loss = ', loss_e)\n",
    "\n",
    "test.assertAlmostEqual(loss_e.item(), -0.8103, delta=1e-2)"
   ]
  },
  {
   "cell_type": "markdown",
   "metadata": {},
   "source": [
    "### Training"
   ]
  },
  {
   "cell_type": "markdown",
   "metadata": {},
   "source": [
    "We'll implement our training procedure as follows:\n",
    "\n",
    "1. Initialize the current policy to be a random policy.\n",
    "1. Sample $N$ trajectories from the environment using the current policy.\n",
    "2. Calculate the estimated $q$-values, $\\hat{q}_{i,t} = \\sum_{t'\\geq t} \\gamma^{t'}r_{i,t'+1}$ for each trajectory $i$.\n",
    "3. Calculate policy gradient estimate $\\hat\\grad\\mathcal{L}(\\vec{\\theta})$ as defined above.\n",
    "4. Perform SGD update $\\vec{\\theta}\\leftarrow\\vec{\\theta}-\\eta\\hat\\grad\\mathcal{L}(\\vec{\\theta})$.\n",
    "5. Repeat from step 2.\n",
    "\n",
    "This is known as the **REINFORCE** algorithm."
   ]
  },
  {
   "cell_type": "markdown",
   "metadata": {},
   "source": [
    "Fortunately, we've already implemented everything we need for steps 1-4 so we need only a bit more code to put it all together.\n",
    "\n",
    "The following block implements a wrapper, `train_pg` to create all the objects we need in order to train our policy gradient model.\n"
   ]
  },
  {
   "cell_type": "code",
   "execution_count": null,
   "metadata": {},
   "outputs": [],
   "source": [
    "import hw4.answers\n",
    "from functools import partial\n",
    "\n",
    "ENV_NAME = \"Beresheet-v2\"\n",
    "\n",
    "def agent_fn_train(agent_type, p_net, seed, envs_dict):\n",
    "    winfo = torch.utils.data.get_worker_info()\n",
    "    wid = winfo.id if winfo else 0\n",
    "    seed = seed + wid if seed else wid\n",
    "\n",
    "    env = gym.make(ENV_NAME)\n",
    "    envs_dict[wid] = env\n",
    "    env.seed(seed)\n",
    "    np.random.seed(seed)\n",
    "    torch.manual_seed(seed)\n",
    "\n",
    "    return agent_type(env, p_net)\n",
    "\n",
    "def train_rl(agent_type, net_type, loss_fns, hp, seed=None, checkpoints_file=None, **train_kw):\n",
    "    print(f'hyperparams: {hp}')\n",
    "    \n",
    "    envs = {}\n",
    "    p_net = net_type(ENV_N_OBSERVATIONS, ENV_N_ACTIONS, **hp)\n",
    "    p_net.share_memory()\n",
    "    agent_fn = partial(agent_fn_train, agent_type, p_net, seed, envs)\n",
    "    \n",
    "    dataset = hw4data.TrainBatchDataset(agent_fn, hp['batch_size'], hp['gamma'])\n",
    "    dataloader = DataLoader(\n",
    "        dataset, batch_size=None, num_workers=hp['num_workers'],\n",
    "        multiprocessing_context='fork' if hp['num_workers'] > 0 else None\n",
    "    )\n",
    "    optimizer = optim.Adam(p_net.parameters(), lr=hp['learn_rate'], eps=hp['eps'])\n",
    "    \n",
    "    trainer = hw4pg.PolicyTrainer(p_net, optimizer, loss_fns, dataloader, checkpoints_file)\n",
    "    try:\n",
    "        trainer.train(**train_kw)\n",
    "    except KeyboardInterrupt as e:\n",
    "        print('Training interrupted by user.')\n",
    "    finally:\n",
    "        for env in envs.values():\n",
    "            env.close()\n",
    "\n",
    "    # Include final model state\n",
    "    training_data = trainer.training_data\n",
    "    training_data['model_state'] = p_net.state_dict()\n",
    "    return training_data\n",
    "    \n",
    "def train_pg(baseline=False, entropy=False, **train_kwargs):\n",
    "    hp = hw4.answers.part1_pg_hyperparams()\n",
    "    \n",
    "    loss_fns = []\n",
    "    if baseline:\n",
    "        loss_fns.append(hw4pg.BaselinePolicyGradientLoss())\n",
    "    else:\n",
    "        loss_fns.append(hw4pg.VanillaPolicyGradientLoss())\n",
    "    if entropy:\n",
    "        loss_fns.append(hw4pg.ActionEntropyLoss(ENV_N_ACTIONS, hp['beta']))\n",
    "\n",
    "    return train_rl(hw4pg.PolicyAgent, hw4pg.PolicyNet, loss_fns, hp, **train_kwargs)"
   ]
  },
  {
   "cell_type": "markdown",
   "metadata": {},
   "source": [
    "The `PolicyTrainer` class implements the training loop, collects the losses and rewards and provides some useful checkpointing functionality.\n",
    "The training loop will generate batches of episodes and train on them until either:\n",
    "- The average total reward from the last `running_mean_len` episodes is greater than the `target_reward`, OR\n",
    "- The number of generated episodes reached `max_episodes`.\n",
    "\n",
    "Most of this class is already implemented for you. "
   ]
  },
  {
   "cell_type": "markdown",
   "metadata": {},
   "source": [
    "**TODO**:\n",
    "1. Complete the training loop by implementing the `train_batch()` method of the `PolicyTrainer`.\n",
    "2. Tweak the hyperparameters in the `part1_pg_hyperparams()` function within the `hw4/answers.py` module as needed. You get some sane defaults."
   ]
  },
  {
   "cell_type": "markdown",
   "metadata": {},
   "source": [
    "Let's check whether our model is actually training.\n",
    "We'll try to reach a very low (bad) target reward, just as a sanity check to see that training works.\n",
    "Your model should be able to reach this target reward within a few batches.\n",
    "\n",
    "You can increase the target reward and use this block to manually tweak your model and hyperparameters a few times."
   ]
  },
  {
   "cell_type": "code",
   "execution_count": null,
   "metadata": {},
   "outputs": [],
   "source": [
    "target_reward = -140 # VERY LOW target\n",
    "train_data = train_pg(target_reward=target_reward, seed=SEED, max_episodes=2000, running_mean_len=10)\n",
    "\n",
    "test.assertGreater(train_data['mean_reward'][-1], target_reward)"
   ]
  },
  {
   "cell_type": "markdown",
   "metadata": {},
   "source": [
    "### Experimenting with different losses"
   ]
  },
  {
   "cell_type": "markdown",
   "metadata": {},
   "source": [
    "We'll now run a few experiments to see the effect of diferent loss functions on the training dynamics. Namely, we'll try:\n",
    "1. Vanilla PG (`vpg`): No baseline, no entropy\n",
    "2. Baseline PG (`bpg`): Baseline, no entropy loss\n",
    "3. Entropy PG (`epg`): No baseline, with entropy loss\n",
    "3. Combined PG (`cpg`): Baseline, with entropy loss"
   ]
  },
  {
   "cell_type": "code",
   "execution_count": null,
   "metadata": {},
   "outputs": [],
   "source": [
    "from collections import namedtuple\n",
    "from pprint import pprint\n",
    "import itertools as it\n",
    "\n",
    "\n",
    "ExpConfig = namedtuple('ExpConfig', ('name','baseline','entropy'))\n",
    "\n",
    "def exp_configs():\n",
    "    exp_names = ('vpg', 'epg', 'bpg', 'cpg')\n",
    "    z = zip(exp_names, it.product((False, True), (False, True)))\n",
    "    return (ExpConfig(n, b, e) for (n, (b, e)) in z)\n",
    "\n",
    "pprint(list(exp_configs()))"
   ]
  },
  {
   "cell_type": "markdown",
   "metadata": {},
   "source": [
    "We'll save the training data from each experiment for plotting."
   ]
  },
  {
   "cell_type": "code",
   "execution_count": null,
   "metadata": {},
   "outputs": [],
   "source": [
    "import pickle\n",
    "\n",
    "def dump_training_data(data, filename):\n",
    "    os.makedirs(os.path.dirname(filename), exist_ok=True)\n",
    "    with open(filename, mode='wb') as file:\n",
    "        pickle.dump(data, file)\n",
    "        \n",
    "def load_training_data(filename):\n",
    "    with open(filename, mode='rb') as file:\n",
    "        return pickle.load(file)"
   ]
  },
  {
   "cell_type": "markdown",
   "metadata": {},
   "source": [
    "Let's run the experiments! We'll run each configuration for a fixed number of episodes so that we can compare them.\n",
    "\n",
    "Notes:\n",
    "1. Until your models start working, you can decrease the number of episodes for each experiment, or only run one experiment.\n",
    "2.  The results will be saved in a file. To re-run the experiments, you can set `force_run` to `True`."
   ]
  },
  {
   "cell_type": "code",
   "execution_count": null,
   "metadata": {},
   "outputs": [],
   "source": [
    "import math\n",
    "\n",
    "exp_max_episodes = 4000\n",
    "\n",
    "results = {}\n",
    "training_data_filename = os.path.join('results', f'part1_exp.dat')\n",
    "\n",
    "# Set to True to force re-run (careful! will delete old experiment results)\n",
    "force_run = False\n",
    "\n",
    "# Skip running if results file exists.\n",
    "if os.path.isfile(training_data_filename) and not force_run:\n",
    "    print(f'=== results file {training_data_filename} exists, skipping experiments.')\n",
    "    results = load_training_data(training_data_filename)\n",
    "    \n",
    "else:\n",
    "    for n, b, e in exp_configs():\n",
    "        print(f'=== Experiment {n}')\n",
    "        results[n] = train_pg(baseline=b, entropy=e, max_episodes=exp_max_episodes, post_batch_fn=None)\n",
    "        \n",
    "    dump_training_data(results, training_data_filename)"
   ]
  },
  {
   "cell_type": "code",
   "execution_count": null,
   "metadata": {},
   "outputs": [],
   "source": [
    "def plot_experiment_results(results, fig=None):\n",
    "    if fig is None:\n",
    "        fig, _ = plt.subplots(nrows=2, ncols=2, sharex=True, figsize=(18,12))\n",
    "    for i, plot_type in enumerate(('loss_p', 'baseline', 'loss_e', 'mean_reward')):\n",
    "        ax = fig.axes[i]\n",
    "        for exp_name, exp_res in results.items():\n",
    "            if plot_type not in exp_res:\n",
    "                continue\n",
    "            ax.plot(exp_res['episode_num'], exp_res[plot_type], label=exp_name)\n",
    "        ax.set_title(plot_type)\n",
    "        ax.set_xlabel('episode')\n",
    "        ax.legend()\n",
    "    return fig\n",
    "    \n",
    "experiments_results_fig = plot_experiment_results(results)"
   ]
  },
  {
   "cell_type": "markdown",
   "metadata": {},
   "source": [
    "You should see positive training dynamics in the graphs (reward going up).\n",
    "If you don't, use them to further update your model or hyperparams.\n",
    "\n",
    "To pass the test, you'll need to get a best total mean reward of at least 10 in the fixed number of epochs using the combined loss.\n",
    "It's possible to get much higher (over 100)."
   ]
  },
  {
   "cell_type": "code",
   "execution_count": null,
   "metadata": {},
   "outputs": [],
   "source": [
    "best_cpg_mean_reward = max(results['cpg']['mean_reward'])\n",
    "print(f'Best CPG mean reward: {best_cpg_mean_reward:.2f}')\n",
    "\n",
    "test.assertGreater(best_cpg_mean_reward, 10)"
   ]
  },
  {
   "cell_type": "markdown",
   "metadata": {},
   "source": [
    "Now let's take a look at a gameplay video of our `cpg` model after the short training!"
   ]
  },
  {
   "cell_type": "code",
   "execution_count": null,
   "metadata": {},
   "outputs": [],
   "source": [
    "hp = hw4.answers.part1_pg_hyperparams()\n",
    "p_net_cpg = hw4pg.PolicyNet.build_for_env(env, **hp)\n",
    "p_net_cpg.load_state_dict(results['cpg']['model_state'])\n",
    "\n",
    "env, n_steps, reward = hw4pg.PolicyAgent.monitor_episode(ENV_NAME, p_net_cpg)\n",
    "print(f'{n_steps} steps, total reward: {reward:.2f}')\n",
    "show_monitor_video(env)"
   ]
  },
  {
   "cell_type": "markdown",
   "metadata": {},
   "source": [
    "## Advantage Actor-Critic (AAC)\n",
    "<a id=part1_2></a>"
   ]
  },
  {
   "cell_type": "markdown",
   "metadata": {},
   "source": [
    "We have seen that the policy-gradient loss can be interpreted as a log-likelihood of the policy term\n",
    "(selecting a specific action at a specific state), weighted by the future rewards of that choice of action.\n",
    "\n",
    "However, naïvely weighting by rewards has significant drawbacks in terms of the variance of the resulting gradient.\n",
    "We addressed this by adding a simple baseline term which represented our \"expected reward\" so that we increase probability of actions\n",
    "leading to trajectories which exceed this expectation and vice-versa.\n",
    "\n",
    "In this part we'll explore a more powerful baseline, which is the idea behind the AAC method."
   ]
  },
  {
   "cell_type": "markdown",
   "metadata": {},
   "source": [
    "### The advantage function"
   ]
  },
  {
   "cell_type": "markdown",
   "metadata": {},
   "source": [
    "Recall the definition of the state-value function $v_{\\pi}(s)$ and action-value function $q_{\\pi}(s,a)$:\n",
    "\n",
    "$$\n",
    "\\begin{align}\n",
    "v_{\\pi}(s) &= \\E{g(\\tau)|s_0 = s,\\pi} \\\\\n",
    "q_{\\pi}(s,a) &= \\E{g(\\tau)|s_0 = s,a_0=a,\\pi}.\n",
    "\\end{align}\n",
    "$$\n",
    "\n",
    "Both these functions represent the value of the state $s$. However, $v_\\pi$ averages over the first action according to the policy,\n",
    "while $q_\\pi$ fixes the first action and then continues according to the policy."
   ]
  },
  {
   "cell_type": "markdown",
   "metadata": {},
   "source": [
    "Their difference is known as the **advantage function**:\n",
    "$$\n",
    "a_\\pi(s,a) = q_\\pi(s,a)-v_\\pi(s).\n",
    "$$\n",
    "\n",
    "If $a_\\pi(s,a)>0$ it means that it's better (in expectation) to take action $a$ in state $s$ compared to the average action.\n",
    "In other words, $a_\\pi(s,a)$ represents the *advantage* of using action $a$ in state $s$ compared to the others."
   ]
  },
  {
   "cell_type": "markdown",
   "metadata": {},
   "source": [
    "So far we have used an estimate for $q_\\pi$ as our weighting term for the log-policy, with a fixed baseline per batch.\n",
    "\n",
    "$$\n",
    "\\hat\\grad\\mathcal{L}_{\\text{BPG}}(\\vec{\\theta})\n",
    "=-\\frac{1}{N}\\sum_{i=1}^{N}\\sum_{t\\geq0} \\left(\\hat{q}_{i,t}-b\\right) \\grad\\log \\pi_{\\vec{\\theta}}(a_{i,t}|s_{i,t}).\n",
    "$$\n"
   ]
  },
  {
   "cell_type": "markdown",
   "metadata": {},
   "source": [
    "Now, we will use the state value as a baseline, so that an estimate of the advantage function is our weighting term:\n",
    "\n",
    "$$\n",
    "\\hat\\grad\\mathcal{L}_{\\text{AAC}}(\\vec{\\theta})\n",
    "=-\\frac{1}{N}\\sum_{i=1}^{N}\\sum_{t\\geq0} \\left(\\hat{q}_{i,t}-v_\\pi(s_t)\\right) \\grad\\log \\pi_{\\vec{\\theta}}(a_{i,t}|s_{i,t}).\n",
    "$$\n",
    "\n",
    "Intuitively, using the advantage function makes sense because it means we're weighting our policy's actions according to\n",
    "how advantageous they are compared to other possible actions."
   ]
  },
  {
   "cell_type": "markdown",
   "metadata": {},
   "source": [
    "But how will we know $v_\\pi(s)$? We'll learn it of course, using another neural network.\n",
    "This is known as actor-critic learning. We simultaneously learn the policy (actor) and the value of states (critic).\n",
    "We'll treat it as a regression task: given a state $s_t$, our state-value network will output $\\hat{v}_\\pi(s_t)$,\n",
    "an estimate of the actual unknown state-value.\n",
    "Our regression targets will be the discounted rewards, $\\hat{q}_{i,t}$ (see question 2),\n",
    "and we can use a simple MSE as the loss function,\n",
    "$$\n",
    "\\mathcal{L}_{\\text{SV}} = \\frac{1}{N}\\sum_{i=1}^{N}\\sum_{t\\geq0}\\left(\\hat{v}_\\pi(s_t) - \\hat{q}_{i,t}\\right)^2.\n",
    "$$\n"
   ]
  },
  {
   "cell_type": "markdown",
   "metadata": {},
   "source": [
    "### Implementation"
   ]
  },
  {
   "cell_type": "markdown",
   "metadata": {},
   "source": [
    "We'll build heavily on our implementation of the regular policy-gradient method, and just add a new model class and a new loss class, with a small modification to the agent."
   ]
  },
  {
   "cell_type": "markdown",
   "metadata": {},
   "source": [
    "Let's start with the model. It will accept a state, and return action scores (as before), but also the value of that state.\n",
    "You can experiment with a dual-head network that has a shared base, or implement two separate parts within the network.\n",
    "\n",
    "**TODO**:\n",
    "1. Implement the model as the `AACPolicyNet` class in the `hw4/rl_ac.py` module.\n",
    "1. Set the hyperparameters in the `part1_aac_hyperparams()` function of the `hw4.answers` module."
   ]
  },
  {
   "cell_type": "code",
   "execution_count": null,
   "metadata": {},
   "outputs": [],
   "source": [
    "import hw4.rl_ac as hw4ac\n",
    "\n",
    "hp = hw4.answers.part1_aac_hyperparams()\n",
    "pv_net = hw4ac.AACPolicyNet.build_for_env(env, device, **hp)\n",
    "pv_net"
   ]
  },
  {
   "cell_type": "markdown",
   "metadata": {},
   "source": [
    "**TODO**: Complete the implementation of the agent class, `AACPolicyAgent`, in the `hw4/rl_ac.py` module."
   ]
  },
  {
   "cell_type": "code",
   "execution_count": null,
   "metadata": {},
   "outputs": [],
   "source": [
    "agent = hw4ac.AACPolicyAgent(env, pv_net, device)\n",
    "exp = agent.step()\n",
    "\n",
    "test.assertIsInstance(exp, hw4pg.Experience)\n",
    "print(exp)"
   ]
  },
  {
   "cell_type": "markdown",
   "metadata": {},
   "source": [
    "**TODO**: Implement the AAC loss function as the class `AACPolicyGradientLoss` in the `hw4/rl_ac.py` module."
   ]
  },
  {
   "cell_type": "code",
   "execution_count": null,
   "metadata": {},
   "outputs": [],
   "source": [
    "loss_fn_aac = hw4ac.AACPolicyGradientLoss(delta=1.)\n",
    "test_state_values = torch.ones(test_action_scores.shape[0], 1)\n",
    "loss_t, loss_dict = loss_fn_aac(test_batch, (test_action_scores, test_state_values))\n",
    "\n",
    "print(f'{loss_dict=}')\n",
    "test.assertAlmostEqual(loss_dict['adv_m'], -23.191, delta=1e-2)\n",
    "test.assertAlmostEqual(loss_t.item(), 1183.948, delta=1e-2)"
   ]
  },
  {
   "cell_type": "markdown",
   "metadata": {},
   "source": [
    "### Experimentation"
   ]
  },
  {
   "cell_type": "markdown",
   "metadata": {},
   "source": [
    "Let's run the same experiment as before, but with the AAC method and compare the results."
   ]
  },
  {
   "cell_type": "code",
   "execution_count": null,
   "metadata": {},
   "outputs": [],
   "source": [
    "def train_aac(baseline=False, entropy=False, **train_kwargs):\n",
    "    hp = hw4.answers.part1_aac_hyperparams()\n",
    "    loss_fns = [hw4ac.AACPolicyGradientLoss(hp['delta']), hw4pg.ActionEntropyLoss(ENV_N_ACTIONS, hp['beta'])]\n",
    "    return train_rl(hw4ac.AACPolicyAgent, hw4ac.AACPolicyNet, loss_fns, hp, **train_kwargs)"
   ]
  },
  {
   "cell_type": "code",
   "execution_count": null,
   "metadata": {},
   "outputs": [],
   "source": [
    "training_data_filename = os.path.join('results', f'part1_exp_aac.dat')\n",
    "\n",
    "# Set to True to force re-run (careful, will delete old experiment results)\n",
    "force_run = False\n",
    "\n",
    "if os.path.isfile(training_data_filename) and not force_run:\n",
    "    print(f'=== results file {training_data_filename} exists, skipping experiments.')\n",
    "    results_aac = load_training_data(training_data_filename)\n",
    "    \n",
    "else:\n",
    "    print(f'=== Running AAC experiment')\n",
    "    training_data = train_aac(max_episodes=exp_max_episodes)\n",
    "    results_aac = dict(aac=training_data)\n",
    "    dump_training_data(results_aac, training_data_filename)"
   ]
  },
  {
   "cell_type": "code",
   "execution_count": null,
   "metadata": {},
   "outputs": [],
   "source": [
    "experiments_results_fig = plot_experiment_results(results)\n",
    "plot_experiment_results(results_aac, fig=experiments_results_fig);"
   ]
  },
  {
   "cell_type": "markdown",
   "metadata": {},
   "source": [
    "You should get better results with the AAC method, so this time the bar is higher (again, you should aim for a mean reward of 100+).\n",
    "Compare the graphs with combined PG method and see if they make sense."
   ]
  },
  {
   "cell_type": "code",
   "execution_count": null,
   "metadata": {},
   "outputs": [],
   "source": [
    "best_aac_mean_reward = max(results_aac['aac']['mean_reward'])\n",
    "print(f'Best AAC mean reward: {best_aac_mean_reward:.2f}')\n",
    "\n",
    "test.assertGreater(best_aac_mean_reward, 50)"
   ]
  },
  {
   "cell_type": "markdown",
   "metadata": {},
   "source": [
    "### Final model training and visualization"
   ]
  },
  {
   "cell_type": "markdown",
   "metadata": {},
   "source": [
    "Now, using your best model and hyperparams, let's train model for much longer and see the performance.\n",
    "Just for fun, we'll also visualize an episode every now and then so that we can see how well the agent is playing."
   ]
  },
  {
   "cell_type": "markdown",
   "metadata": {},
   "source": [
    "**TODO**:\n",
    "- Run the following block to train.\n",
    "- Tweak model or hyperparams as necessary.\n",
    "- Aim for high mean reward, at least 150+. It's possible to get over 200.\n",
    "- When training is done and you're satisfied with the model's outputs, rename the checkpoint file by adding `_final` to the file name.\n",
    "  This will cause the block to skip training and instead load your saved model when running the homework submission script.\n",
    "  Note that your submission zip file will not include the checkpoint file. This is OK."
   ]
  },
  {
   "cell_type": "code",
   "execution_count": null,
   "metadata": {},
   "outputs": [],
   "source": [
    "import IPython.display\n",
    "\n",
    "CHECKPOINTS_FILE = f'checkpoints/{ENV_NAME}-ac.dat'\n",
    "CHECKPOINTS_FILE_FINAL = f'checkpoints/{ENV_NAME}-ac_final.dat'\n",
    "TARGET_REWARD = 125\n",
    "MAX_EPISODES = 15_000\n",
    "\n",
    "def post_batch_fn(batch_idx, p_net, batch, print_every=20, final=False):\n",
    "    if not final and batch_idx % print_every != 0:\n",
    "        return\n",
    "    env, n_steps, reward = hw4ac.AACPolicyAgent.monitor_episode(ENV_NAME, p_net)\n",
    "    html = show_monitor_video(env, width=\"500\")\n",
    "    IPython.display.clear_output(wait=True)\n",
    "    print(f'Monitor@#{batch_idx}: n_steps={n_steps}, total_reward={reward:.3f}, final={final}')\n",
    "    IPython.display.display_html(html)\n",
    "    \n",
    "    \n",
    "if os.path.isfile(CHECKPOINTS_FILE_FINAL):\n",
    "    print(f'=== {CHECKPOINTS_FILE_FINAL} exists, skipping training...')\n",
    "    checkpoint_data = torch.load(CHECKPOINTS_FILE_FINAL)\n",
    "    hp = hw4.answers.part1_aac_hyperparams()\n",
    "    pv_net = hw4ac.AACPolicyNet.build_for_env(env, **hp)\n",
    "    pv_net.load_state_dict(checkpoint_data['params'])\n",
    "    print(f'=== Running best model...')\n",
    "    env, n_steps, reward = hw4ac.AACPolicyAgent.monitor_episode(ENV_NAME, pv_net)\n",
    "    print(f'=== Best model ran for {n_steps} steps. Total reward: {reward:.2f}')\n",
    "    IPython.display.display_html(show_monitor_video(env))\n",
    "    best_mean_reward = checkpoint_data[\"best_mean_reward\"]\n",
    "else:\n",
    "    print(f'=== Starting training...')\n",
    "    train_data = train_aac(TARGET_REWARD, max_episodes=MAX_EPISODES,\n",
    "                           seed=None, checkpoints_file=CHECKPOINTS_FILE, post_batch_fn=post_batch_fn)\n",
    "    print(f'=== Done, ', end='')\n",
    "    best_mean_reward = train_data[\"best_mean_reward\"][-1]\n",
    "    print(f'num_episodes={train_data[\"episode_num\"][-1]}, best_mean_reward={best_mean_reward:.1f}')\n",
    "          \n",
    "test.assertGreaterEqual(best_mean_reward, TARGET_REWARD)"
   ]
  },
  {
   "cell_type": "markdown",
   "metadata": {},
   "source": [
    "## Questions\n",
    "<a id=part1_3></a>"
   ]
  },
  {
   "cell_type": "markdown",
   "metadata": {},
   "source": [
    "**TODO**: Answer the following questions. Write your answers in the appropriate variables in the module `hw4/answers.py`."
   ]
  },
  {
   "cell_type": "code",
   "execution_count": null,
   "metadata": {},
   "outputs": [],
   "source": [
    "from cs236781.answers import display_answer\n",
    "import hw4.answers"
   ]
  },
  {
   "cell_type": "markdown",
   "metadata": {},
   "source": [
    "### Question 1\n",
    "\n",
    "Explain qualitatively why subtracting a baseline in the policy-gradient helps reduce it's variance.\n",
    "Specifically, give an example where it helps."
   ]
  },
  {
   "cell_type": "code",
   "execution_count": null,
   "metadata": {},
   "outputs": [],
   "source": [
    "display_answer(hw4.answers.part1_q1)"
   ]
  },
  {
   "cell_type": "markdown",
   "metadata": {},
   "source": [
    "### Question 2\n",
    "\n",
    "In AAC, when using the estimated q-values as regression targets for our state-values, why do we get a valid approximation?\n",
    "Hint: how is $v_\\pi(s)$ expressed in terms of $q_\\pi(s,a)$?"
   ]
  },
  {
   "cell_type": "code",
   "execution_count": null,
   "metadata": {},
   "outputs": [],
   "source": [
    "display_answer(hw4.answers.part1_q2)"
   ]
  },
  {
   "cell_type": "markdown",
   "metadata": {},
   "source": [
    "### Question 3\n",
    "\n",
    "1. Analyze and explain the graphs you got in first experiment run.\n",
    "2. Compare the experiment graphs you got with the AAC method to the regular PG method (`cpg`)."
   ]
  },
  {
   "cell_type": "code",
   "execution_count": null,
   "metadata": {},
   "outputs": [],
   "source": [
    "display_answer(hw4.answers.part1_q3)"
   ]
  }
 ],
 "metadata": {
  "kernelspec": {
   "display_name": "Python 3",
   "language": "python",
   "name": "python3"
  },
  "language_info": {
   "codemirror_mode": {
    "name": "ipython",
    "version": 3
   },
   "file_extension": ".py",
   "mimetype": "text/x-python",
   "name": "python",
   "nbconvert_exporter": "python",
   "pygments_lexer": "ipython3",
   "version": "3.8.6"
  }
 },
 "nbformat": 4,
 "nbformat_minor": 4
}
