{
 "cells": [
  {
   "cell_type": "markdown",
   "metadata": {},
   "source": [
    "$$\n",
    "\\newcommand{\\mat}[1]{\\boldsymbol {#1}}\n",
    "\\newcommand{\\mattr}[1]{\\boldsymbol {#1}^\\top}\n",
    "\\newcommand{\\matinv}[1]{\\boldsymbol {#1}^{-1}}\n",
    "\\newcommand{\\vec}[1]{\\boldsymbol {#1}}\n",
    "\\newcommand{\\vectr}[1]{\\boldsymbol {#1}^\\top}\n",
    "\\newcommand{\\rvar}[1]{\\mathrm {#1}}\n",
    "\\newcommand{\\rvec}[1]{\\boldsymbol{\\mathrm{#1}}}\n",
    "\\newcommand{\\diag}{\\mathop{\\mathrm {diag}}}\n",
    "\\newcommand{\\set}[1]{\\mathbb {#1}}\n",
    "\\newcommand{\\cset}[1]{\\mathcal{#1}}\n",
    "\\newcommand{\\norm}[1]{\\left\\lVert#1\\right\\rVert}\n",
    "\\newcommand{\\pderiv}[2]{\\frac{\\partial #1}{\\partial #2}}\n",
    "\\newcommand{\\bb}[1]{\\boldsymbol{#1}}\n",
    "\\newcommand{\\E}[2][]{\\mathbb{E}_{#1}\\left[#2\\right]}\n",
    "\\newcommand{\\ip}[3]{\\left<#1,#2\\right>_{#3}}\n",
    "\\newcommand{\\given}[]{\\,\\middle\\vert\\,}\n",
    "\\newcommand{\\DKL}[2]{\\cset{D}_{\\text{KL}}\\left(#1\\,\\Vert\\, #2\\right)}\n",
    "\\newcommand{\\grad}[]{\\nabla}\n",
    "$$\n",
    "# Part 1: Deep Reinforcement Learning\n",
    "<a id=part1></a>"
   ]
  },
  {
   "cell_type": "markdown",
   "metadata": {},
   "source": [
    "In the tutorial we have seen value-based reinforcement learning, in which we learn to approximate the action-value function $q(s,a)$.\n",
    "\n",
    "In this exercise we'll explore a different approach, directly learning the agent's policy distribution, $\\pi(a|s)$\n",
    "by using *policy gradients*, in order to safely land on the moon!"
   ]
  },
  {
   "cell_type": "code",
   "execution_count": 1,
   "metadata": {},
   "outputs": [],
   "source": [
    "%load_ext autoreload\n",
    "%autoreload 2\n",
    "%matplotlib inline\n",
    "\n",
    "import unittest\n",
    "import os\n",
    "import sys\n",
    "import pathlib\n",
    "import urllib\n",
    "import shutil\n",
    "import re\n",
    "\n",
    "import numpy as np\n",
    "import torch\n",
    "import torch.nn as nn\n",
    "import torch.optim as optim\n",
    "import matplotlib.pyplot as plt"
   ]
  },
  {
   "cell_type": "code",
   "execution_count": 2,
   "metadata": {},
   "outputs": [
    {
     "name": "stdout",
     "output_type": "stream",
     "text": [
      "Using device: cpu\n"
     ]
    }
   ],
   "source": [
    "test = unittest.TestCase()\n",
    "plt.rcParams.update({'font.size': 12})\n",
    "device = torch.device('cuda' if torch.cuda.is_available() else 'cpu')\n",
    "\n",
    "# Prefer CPU, GPU won't help much in this assignment\n",
    "device = 'cpu'\n",
    "print('Using device:', device)\n",
    "\n",
    "# Seed for deterministic tests\n",
    "SEED = 42"
   ]
  },
  {
   "cell_type": "markdown",
   "metadata": {},
   "source": [
    "Some technical notes before we begin:\n",
    "\n",
    "- This part does not require a GPU. We won't need large models, and the computation bottleneck will be the generation of episodes to train on.\n",
    "- In order to run this notebook on the server, you must prepend the `xvfb-run` command to create a virtual screen. For example,\n",
    "    - to run this notebook with `srun` do\n",
    "        ```\n",
    "        srun -c2 --gres=gpu:1 xvfb-run -a -s \"-screen 0 1440x900x24\" python main.py run-nb <filename>\n",
    "        ```\n",
    "    - To run the submission script, do\n",
    "        ```\n",
    "        srun -c2 xvfb-run -a -s \"-screen 0 1440x900x24\" python main.py prepare-submission ...\n",
    "        ```\n",
    "    - note that we have already included the `xvfb-run` command inside the `jupyter-lab.sh` script, so you can use it as usual with `srun`.\n",
    "    and so on.\n",
    "- The OpenAI `gym` library is not officially supported on windows. However it should be possible to install and run the necessary environment for this exercise. However, we cannot provide you with technical support for this. If you have trouble installing locally, we suggest running on the course server."
   ]
  },
  {
   "cell_type": "markdown",
   "metadata": {},
   "source": [
    "## Policy gradients\n",
    "<a id=part1_1></a>"
   ]
  },
  {
   "cell_type": "markdown",
   "metadata": {},
   "source": [
    "Recall from the tutorial that we define the **policy** of an agent as the conditional distribution,\n",
    "$$\n",
    "\\pi(a|s) = \\Pr(a_t=a\\vert s_t=s),\n",
    "$$\n",
    "which defines how likely the agent is to take action $a$ at state $s$.\n",
    "\n",
    "Furthermore we define the action-value function,\n",
    "$$\n",
    "q_{\\pi}(s,a) = \\E{g_t(\\tau)|s_t = s,a_t=a,\\pi}\n",
    "$$\n",
    "where \n",
    "$$\n",
    "g_t(\\tau) = r_{t+1}+\\gamma r_{t+2} + \\dots = \\sum_{k=0}^{\\infty} \\gamma^k r_{t+1+k},\n",
    "$$\n",
    "is the total discounted reward of a specific trajectory $\\tau$ from time $t$, and the expectation in $q$ is over all possible\n",
    "trajectories,\n",
    "$\n",
    "\\tau=\\left\\{ (s_0,a_0,r_1,s_1), \\dots (s_T,a_T,r_{T+1},s_{T+1}) \\right\\}.\n",
    "$"
   ]
  },
  {
   "cell_type": "markdown",
   "metadata": {},
   "source": [
    "In the tutorial we saw that we can learn a value function starting with some random function and\n",
    "updating it iteratively by using the **Bellman optimality equation**.\n",
    "Given that we have some action-value function, we can immediately create a policy based on that\n",
    "by simply selecting an action which maximize the action-value at the current state, i.e.\n",
    "$$\n",
    "\\pi(a|s) =\n",
    "\\begin{cases}\n",
    "1, & a = \\arg\\max_{a'\\in\\cset{A}} q(s,a') \\\\\n",
    "0, & \\text{else}\n",
    "\\end{cases}.\n",
    "$$\n",
    "This is called $q$-learning. This approach aims to obtain a policy indirectly through the action-value function.\n",
    "Yet, in most cases we don't actually care about knowing the value of particular states,\n",
    "since all we need is a good policy for our agent. \n",
    "\n",
    "Here we'll take a different approach and learn a policy distribution $\\pi(a|s)$ directly - by using **policy gradients**."
   ]
  },
  {
   "cell_type": "markdown",
   "metadata": {},
   "source": [
    "### Formalism"
   ]
  },
  {
   "cell_type": "markdown",
   "metadata": {},
   "source": [
    "We define a parametric policy, $\\pi_\\vec{\\theta}(a|s)$, and maximize total discounted reward (or minimize the negative reward):\n",
    "$$\n",
    "\\mathcal{L}(\\vec{\\theta})=\\E[\\tau]{-g(\\tau)|\\pi_\\vec{\\theta}} = -\\int g(\\tau)p(\\tau|\\vec{\\theta})d\\tau,\n",
    "$$\n",
    "where $p(\\tau|\\vec{\\theta})$ is the probability of a specific trajectory $\\tau$ under the policy defined by $\\vec{\\theta}$.\n"
   ]
  },
  {
   "cell_type": "markdown",
   "metadata": {},
   "source": [
    "Since we want to find the parameters $\\vec{\\theta}$ which minimize $\\mathcal{L}(\\vec{\\theta})$, we'll compute the gradient w.r.t. $\\vec{\\theta}$:\n",
    "$$\n",
    "\\grad\\mathcal{L}(\\vec{\\theta}) = -\\int g(\\tau)\\grad p(\\tau|\\vec{\\theta})d\\tau.\n",
    "$$\n",
    "\n",
    "Unfortunately, if we try to write $p(\\tau|\\vec{\\theta})$ explicitly,\n",
    "we find that computing it's gradient with respect to $\\vec{\\theta}$ is\n",
    "quite intractable due to a huge product of terms depending on $\\vec{\\theta}$:\n",
    "$$\n",
    "p(\\tau|\\vec{\\theta})=p\\left(\\left\\{ (s_t,a_t,r_{t+1},s_{t+1})\\right\\}_{t\\geq0}\\given\\vec{\\theta}\\right)\n",
    "=p(s_0)\\prod_{t\\geq0} \\pi_{\\vec{\\theta}}(a_t|s_t)p(s_{t+1}|s_t,a_t).\n",
    "$$"
   ]
  },
  {
   "cell_type": "markdown",
   "metadata": {},
   "source": [
    "However, by using the fact that $\\grad_{x}\\log(f(x))=\\frac{\\grad_{x}f(x)}{f(x)}$, we can convert the product into a sum:\n",
    "$$\n",
    "\\begin{align}\n",
    "\\grad\\mathcal{L}(\\vec{\\theta})\n",
    "&= -\\int g(\\tau)\\grad p(\\tau|\\vec{\\theta})d\\tau\n",
    "= -\\int g(\\tau)\\frac{\\grad p(\\tau|\\vec{\\theta})}{p(\\tau|\\vec{\\theta})}p(\\tau|\\vec{\\theta})d\\tau \\\\\n",
    "&= -\\int g(\\tau)\\grad\\log\\left(p(\\tau|\\vec{\\theta})\\right)p(\\tau|\\vec{\\theta})d\\tau \\\\\n",
    "&= -\\int g(\\tau)\\grad\\log\\left( p(s_0)\\prod_{t\\geq0} \\pi_{\\vec{\\theta}}(a_t|s_t)p(s_{t+1}|s_t,a_t) \\right)\n",
    "p(\\tau|\\vec{\\theta})d\\tau \\\\\n",
    "&= -\\int g(\\tau)\\grad\\left( \\log p(s_0) + \\sum_{t\\geq0} \\log \\pi_{\\vec{\\theta}}(a_t|s_t) + \n",
    "\\sum_{t\\geq0}\\log p(s_{t+1}|s_t,a_t) \\right) p(\\tau|\\vec{\\theta})d\\tau \\\\\n",
    "&= -\\int g(\\tau)\\sum_{t\\geq0} \\grad\\log \\pi_{\\vec{\\theta}}(a_t|s_t) p(\\tau|\\vec{\\theta})d\\tau \\\\\n",
    "&= \\E[\\tau]{-g(\\tau)\\sum_{t\\geq0} \\grad\\log \\pi_{\\vec{\\theta}}(a_t|s_t)}.\n",
    "\\end{align}\n",
    "$$"
   ]
  },
  {
   "cell_type": "markdown",
   "metadata": {},
   "source": [
    "This is the \"vanilla\" version of the policy gradient. We can interpret is as a weighted log-likelihood function.\n",
    "The log-policy is the log-likelihood term we wish to maximize and the total discounted reward acts as a weight: high-return positive\n",
    "trajectories will cause the probability of actions taken during them to increase, and negative-return trajectories will cause the\n",
    "probabilities of actions taken to decrease.\n",
    "\n",
    "In the following figures we see three trajectories: high-return positive-reward (green), low-return positive-reward (yellow) and negative-return (red) and the action probabilities along the trajectories after the update. Credit: Sergey Levine.\n",
    "\n",
    "|<strong></strong>||\n",
    "|-----| ----|\n",
    "|<img src=\"imgs/pg1.png\" height=\"200\">|<img src=\"imgs/pg2.png\" height=\"200\">|\n"
   ]
  },
  {
   "cell_type": "markdown",
   "metadata": {},
   "source": [
    "The major drawback of the policy-gradient is it's high variance, which causes erratic optimization behavior and therefore slow convergence.\n",
    "One reason for this is that the log-policy weight term, $g(\\tau)$ can vary wildly between different trajectories, even if they're similar in\n",
    "actions. Later on we'll implement the loss and explore some methods of variance reduction."
   ]
  },
  {
   "cell_type": "markdown",
   "metadata": {},
   "source": [
    "### Landing on the moon with policy gradients"
   ]
  },
  {
   "cell_type": "markdown",
   "metadata": {},
   "source": [
    "In the spirit of the recent achievements of the Israeli space industry,\n",
    "we'll apply our reinforcement learning skills to solve a simple game called **LunarLander**.\n",
    "\n",
    "This game is available as an `environment` in OpenAI `gym`.\n",
    "\n",
    "<video loop autoplay src=\"http://gym.openai.com/videos/2019-04-06--My9IiAbqha/LunarLander-v2/original.mp4\" />"
   ]
  },
  {
   "cell_type": "markdown",
   "metadata": {},
   "source": [
    "In this environment, you need to control the lander and get it to land safely on the moon.\n",
    "To do so, you must apply bottom, right or left thrusters (each are either fully on or fully off)\n",
    "and get it to land within the designated zone as quickly as possible and with minimal wasted fuel."
   ]
  },
  {
   "cell_type": "code",
   "execution_count": 3,
   "metadata": {},
   "outputs": [],
   "source": [
    "import gym\n",
    "\n",
    "# Just for fun :) ... but also to re-define the default max number of steps\n",
    "ENV_NAME = 'Beresheet-v2'\n",
    "MAX_EPISODE_STEPS = 300\n",
    "if ENV_NAME not in gym.envs.registry.env_specs:\n",
    "    gym.register(\n",
    "        id=ENV_NAME,\n",
    "        entry_point='gym.envs.box2d:LunarLander',\n",
    "        max_episode_steps=MAX_EPISODE_STEPS,\n",
    "        reward_threshold=200,\n",
    "    )"
   ]
  },
  {
   "cell_type": "code",
   "execution_count": 4,
   "metadata": {},
   "outputs": [
    {
     "name": "stdout",
     "output_type": "stream",
     "text": [
      "<TimeLimit<LunarLander<Beresheet-v2>>>\n",
      "observations space: Box(-inf, inf, (8,), float32)\n",
      "action space: Discrete(4)\n"
     ]
    }
   ],
   "source": [
    "import gym\n",
    "\n",
    "env = gym.make(ENV_NAME)\n",
    "\n",
    "print(env)\n",
    "print(f'observations space: {env.observation_space}')\n",
    "print(f'action space: {env.action_space}')\n",
    "\n",
    "ENV_N_ACTIONS = env.action_space.n\n",
    "ENV_N_OBSERVATIONS = env.observation_space.shape[0]\n"
   ]
  },
  {
   "cell_type": "markdown",
   "metadata": {},
   "source": [
    "The observations at each step is the Lander's position, velocity, angle, angular velocity and ground contact state.\n",
    "The actions are no-op, fire left truster, bottom thruster and right thruster.\n",
    "\n",
    "You are **highly encouraged** to read the [documentation](https://github.com/openai/gym/blob/master/gym/envs/box2d/lunar_lander.py) in the source code of the `LunarLander` environment to understand the reward system,\n",
    "and see how the actions and observations are created."
   ]
  },
  {
   "cell_type": "markdown",
   "metadata": {},
   "source": [
    "### Policy network and Agent"
   ]
  },
  {
   "cell_type": "markdown",
   "metadata": {},
   "source": [
    "Let's start with our policy-model. This will be a simple neural net, which should take an observation and return a score for each possible action."
   ]
  },
  {
   "cell_type": "markdown",
   "metadata": {},
   "source": [
    "**TODO**:\n",
    "1. Implement all methods in the `PolicyNet` class in the `hw4/rl_pg.py` module.\n",
    "   Start small. A simple MLP with a few hidden layers is a good starting point. You can come back and change it later based on the the experiments.  \n",
    "   Notice that we'll use the `build_for_env` method to instantiate a `PolicyNet` based on the configuration of a given environment.\n",
    "2. If you need hyperparameters to configure your model (e.g. number of hidden layers, sizes, etc.), add them in `part1_pg_hyperparams()` in `hw4/answers.py`."
   ]
  },
  {
   "cell_type": "code",
   "execution_count": 10,
   "metadata": {},
   "outputs": [
    {
     "data": {
      "text/plain": [
       "PolicyNet(\n",
       "  (network): Sequential(\n",
       "    (0): Linear(in_features=8, out_features=32, bias=True)\n",
       "    (1): ReLU()\n",
       "    (2): Linear(in_features=32, out_features=32, bias=True)\n",
       "    (3): ReLU()\n",
       "    (4): Linear(in_features=32, out_features=4, bias=True)\n",
       "  )\n",
       ")"
      ]
     },
     "execution_count": 10,
     "metadata": {},
     "output_type": "execute_result"
    }
   ],
   "source": [
    "import hw4.rl_pg as hw4pg\n",
    "import hw4.answers\n",
    "\n",
    "hp = hw4.answers.part1_pg_hyperparams()\n",
    "\n",
    "# You can add keyword-args to this function which will be populated from the\n",
    "# hyperparameters dict.\n",
    "p_net = hw4pg.PolicyNet.build_for_env(env, device, **hp)\n",
    "p_net"
   ]
  },
  {
   "cell_type": "markdown",
   "metadata": {},
   "source": [
    "Now we need an **agent**. The purpose of our agent will be to act according to the current policy and generate experiences.\n",
    "Our `PolicyAgent` will use a `PolicyNet` as the current policy function.\n",
    "\n",
    "\n",
    "We'll also define some extra datatypes to help us represent the data generated by our agent.\n",
    "You can find the `Experience`, `Episode` and `TrainBatch` datatypes in the `hw4/rl_data.py` module."
   ]
  },
  {
   "cell_type": "markdown",
   "metadata": {},
   "source": [
    "**TODO**: Implement the `current_action_distribution()` method of the `PolicyAgent` class in the `hw4/rl_pg.py` module."
   ]
  },
  {
   "cell_type": "code",
   "execution_count": 11,
   "metadata": {},
   "outputs": [
    {
     "name": "stdout",
     "output_type": "stream",
     "text": [
      "tensor([0.3082, 0.2264, 0.2294, 0.2360])\n"
     ]
    }
   ],
   "source": [
    "for i in range (10):\n",
    "    agent = hw4pg.PolicyAgent(env, p_net, device)\n",
    "    d = agent.current_action_distribution()\n",
    "    \n",
    "    test.assertSequenceEqual(d.shape, (env.action_space.n,))\n",
    "    test.assertAlmostEqual(d.sum(), 1.0, delta=1e-5)\n",
    "    \n",
    "print(d)"
   ]
  },
  {
   "cell_type": "markdown",
   "metadata": {},
   "source": [
    "**TODO**: Implement the `step()` method of the `PolicyAgent`."
   ]
  },
  {
   "cell_type": "code",
   "execution_count": 34,
   "metadata": {},
   "outputs": [
    {
     "name": "stdout",
     "output_type": "stream",
     "text": [
      "Experience(state=tensor([ 0.0064,  1.4017,  0.6502, -0.4106, -0.0074, -0.1473,  0.0000,  0.0000]), action=0, reward=-1.0768883241227343, is_done=False)\n"
     ]
    }
   ],
   "source": [
    "agent = hw4pg.PolicyAgent(env, p_net, device)\n",
    "exp = agent.step()\n",
    "\n",
    "test.assertIsInstance(exp, hw4pg.Experience)\n",
    "print(exp)"
   ]
  },
  {
   "cell_type": "markdown",
   "metadata": {},
   "source": [
    "To test our agent, we'll write some code that allows it to play an environment. We'll use the `Monitor`\n",
    "wrapper in `gym` to generate a video of the episode for visual debugging."
   ]
  },
  {
   "cell_type": "markdown",
   "metadata": {},
   "source": [
    "**TODO**: Complete the implementation of the `monitor_episode()` method of the `PolicyAgent`."
   ]
  },
  {
   "cell_type": "code",
   "execution_count": 35,
   "metadata": {},
   "outputs": [],
   "source": [
    "env, n_steps, reward = agent.monitor_episode(ENV_NAME, p_net, device=device)"
   ]
  },
  {
   "cell_type": "markdown",
   "metadata": {},
   "source": [
    "To display the Monitor video in this notebook, we'll use a helper function from our `jupyter_utils` and a small wrapper that extracts the path of the last video file. "
   ]
  },
  {
   "cell_type": "code",
   "execution_count": 36,
   "metadata": {},
   "outputs": [],
   "source": [
    "import cs236781.jupyter_utils as jupyter_utils\n",
    "\n",
    "def show_monitor_video(monitor_env, idx=0, **kw):\n",
    "    # Extract video path\n",
    "    video_path = monitor_env.videos[idx][0]\n",
    "    video_path = os.path.relpath(video_path, start=os.path.curdir)\n",
    "    \n",
    "    # Use helper function to embed the video\n",
    "    return jupyter_utils.show_video_in_notebook(video_path, **kw)"
   ]
  },
  {
   "cell_type": "code",
   "execution_count": 37,
   "metadata": {},
   "outputs": [
    {
     "name": "stdout",
     "output_type": "stream",
     "text": [
      "Episode ran for 70 steps. Total reward: -133.91\n"
     ]
    },
    {
     "data": {
      "text/html": [
       "<video src=\"data:video/mp4;base64,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\" controls autoplay width=\"500\" height=\"auto\" />"
      ],
      "text/plain": [
       "<IPython.core.display.HTML object>"
      ]
     },
     "execution_count": 37,
     "metadata": {},
     "output_type": "execute_result"
    }
   ],
   "source": [
    "print(f'Episode ran for {n_steps} steps. Total reward: {reward:.2f}')\n",
    "\n",
    "show_monitor_video(env)"
   ]
  },
  {
   "cell_type": "markdown",
   "metadata": {},
   "source": [
    "### Training data"
   ]
  },
  {
   "cell_type": "markdown",
   "metadata": {},
   "source": [
    "The next step is to create data to train on.\n",
    "We need to train on batches of state-action pairs, so that our network can learn to predict the actions.\n",
    "\n",
    "We'll split this task into three parts:\n",
    "1. Generate a batch of `Episode`s, by using an `Agent` that's playing according to our current policy network.\n",
    "   Each `Episode` object contains the `Experience` objects created by the agent.\n",
    "2. Calculate the total discounted reward for each state we encountered and action we took. This is our action-value estimate.\n",
    "3. Convert the `Episode`s into a batch of tensors to train on.\n",
    "   Each batch will contain states, action taken per state, reward accrued, and the calculated estimated state-values.\n",
    "   These will be stored in a `TrainBatch` object.\n"
   ]
  },
  {
   "cell_type": "markdown",
   "metadata": {},
   "source": [
    "**TODO**: Complete the implementation of the `episode_batch_generator()` method in the `TrainBatchDataset` class within the `hw4.rl_data` module. This will address part 1 in the list above."
   ]
  },
  {
   "cell_type": "code",
   "execution_count": 38,
   "metadata": {},
   "outputs": [
    {
     "name": "stdout",
     "output_type": "stream",
     "text": [
      "First episode: Episode(total_reward=-120.45, #experences=59)\n"
     ]
    }
   ],
   "source": [
    "import hw4.rl_data as hw4data\n",
    "\n",
    "def agent_fn():\n",
    "    env = gym.make(ENV_NAME)\n",
    "    hp = hw4.answers.part1_pg_hyperparams()\n",
    "    p_net = hw4pg.PolicyNet.build_for_env(env, device, **hp)\n",
    "    return hw4pg.PolicyAgent(env, p_net, device)\n",
    "    \n",
    "ds = hw4data.TrainBatchDataset(agent_fn, episode_batch_size=8, gamma=0.9)\n",
    "batch_gen = ds.episode_batch_generator()\n",
    "b = next(batch_gen)\n",
    "print('First episode:', b[0])\n",
    "\n",
    "test.assertEqual(len(b), 8)\n",
    "for ep in b:\n",
    "    test.assertIsInstance(ep, hw4data.Episode)\n",
    "    \n",
    "    # Check that it's a full episode\n",
    "    is_done = [exp.is_done for exp in ep.experiences]\n",
    "    test.assertFalse(any(is_done[0:-1]))\n",
    "    test.assertTrue(is_done[-1])"
   ]
  },
  {
   "cell_type": "markdown",
   "metadata": {},
   "source": [
    "**TODO**: Complete the implementation of the `calc_qvals()` method in the `Episode` class.\n",
    "This will address part 2.\n",
    "These q-values are an estimate of the actual action value function: $$\\hat{q}_{t} = \\sum_{t'\\geq t} \\gamma^{t'-t}r_{t'+1}.$$"
   ]
  },
  {
   "cell_type": "code",
   "execution_count": 39,
   "metadata": {},
   "outputs": [],
   "source": [
    "np.random.seed(SEED)\n",
    "test_rewards = np.random.randint(-10, 10, 100)\n",
    "test_experiences = [hw4pg.Experience(None,None,r,False) for r in test_rewards] \n",
    "test_episode = hw4data.Episode(np.sum(test_rewards), test_experiences)\n",
    "\n",
    "qvals = test_episode.calc_qvals(0.9)\n",
    "qvals = list(qvals)\n",
    "\n",
    "expected_qvals = np.load(os.path.join('tests', 'assets', 'part1_expected_qvals.npy'))\n",
    "for i in range(len(test_rewards)):\n",
    "    test.assertAlmostEqual(expected_qvals[i], qvals[i], delta=1e-3)"
   ]
  },
  {
   "cell_type": "markdown",
   "metadata": {},
   "source": [
    "**TODO**: Complete the implementation of the `from_episodes()` method in the `TrainBatch` class.\n",
    "This will address part 3.\n",
    "\n",
    "Notes:\n",
    "- The `TrainBatchDataset` class provides a generator function that will use the above function to lazily generate batches of training samples and labels on demand.\n",
    "- This allows us to use a standard `PyTorch` dataloader to wrap our Dataset and provide us with parallel data loading for free!\n",
    "  This means we can run multiple environments with multiple agents in separate background processes to generate data for training and thus prevent the data loading bottleneck which is caused by the fact that we must generate full Episodes to train on in order to calculate the q-values.\n",
    "- We'll set the `DataLoader`'s `batch_size` to `None` because we have already implemented custom batching in our dataset.\n",
    "- You can choose the number of worker processes generating data using the `num_workers` parameter in the hyperparams dict. Set `num_workers=0` to disable parallelization."
   ]
  },
  {
   "cell_type": "code",
   "execution_count": 40,
   "metadata": {},
   "outputs": [
    {
     "name": "stdout",
     "output_type": "stream",
     "text": [
      "#0: TrainBatch(states: torch.Size([771, 8]), actions: torch.Size([771]), q_vals: torch.Size([771])), num_episodes: 8)\n",
      "#1: TrainBatch(states: torch.Size([685, 8]), actions: torch.Size([685]), q_vals: torch.Size([685])), num_episodes: 8)\n",
      "#2: TrainBatch(states: torch.Size([690, 8]), actions: torch.Size([690]), q_vals: torch.Size([690])), num_episodes: 8)\n",
      "#3: TrainBatch(states: torch.Size([697, 8]), actions: torch.Size([697]), q_vals: torch.Size([697])), num_episodes: 8)\n",
      "#4: TrainBatch(states: torch.Size([683, 8]), actions: torch.Size([683]), q_vals: torch.Size([683])), num_episodes: 8)\n",
      "#5: TrainBatch(states: torch.Size([715, 8]), actions: torch.Size([715]), q_vals: torch.Size([715])), num_episodes: 8)\n",
      "#6: TrainBatch(states: torch.Size([709, 8]), actions: torch.Size([709]), q_vals: torch.Size([709])), num_episodes: 8)\n"
     ]
    }
   ],
   "source": [
    "from torch.utils.data import DataLoader\n",
    "\n",
    "hp = hw4.answers.part1_pg_hyperparams()\n",
    "\n",
    "ds = hw4data.TrainBatchDataset(agent_fn, episode_batch_size=8, gamma=0.9)\n",
    "dl = DataLoader(\n",
    "    ds,\n",
    "    batch_size=None,\n",
    "    num_workers=hp['num_workers'],\n",
    "    multiprocessing_context='fork' if hp['num_workers'] > 0 else None\n",
    ")\n",
    "\n",
    "\n",
    "for i, train_batch in enumerate(dl):\n",
    "    states, actions, qvals, reward_mean = train_batch\n",
    "    print(f'#{i}: {train_batch}')\n",
    "    test.assertEqual(states.shape[0], actions.shape[0])\n",
    "    test.assertEqual(qvals.shape[0], actions.shape[0])\n",
    "    test.assertEqual(states.shape[1], env.observation_space.shape[0])\n",
    "    if i > 5:\n",
    "        break"
   ]
  },
  {
   "cell_type": "markdown",
   "metadata": {},
   "source": [
    "### Loss functions"
   ]
  },
  {
   "cell_type": "markdown",
   "metadata": {},
   "source": [
    "As usual, we need a loss function to optimize over.\n",
    "We'll calculate three types of losses:\n",
    "1. The causal vanilla policy gradient loss.\n",
    "1. The policy gradient loss, with a baseline to reduce variance.\n",
    "2. An entropy-based loss whos purpose is to diversify the agent's action selection,\n",
    "   and prevent it from being \"too sure\" about its actions.\n",
    "   This loss will be used together with one of the above losses."
   ]
  },
  {
   "cell_type": "markdown",
   "metadata": {},
   "source": [
    "#### Causal vanilla policy-gradient"
   ]
  },
  {
   "cell_type": "markdown",
   "metadata": {},
   "source": [
    "We have derived the policy-gradient as\n",
    "$$\n",
    "\\grad\\mathcal{L}(\\vec{\\theta}) = \\E[\\tau]{-g(\\tau)\\sum_{t\\geq0} \\grad\\log \\pi_{\\vec{\\theta}}(a_t|s_t)}.\n",
    "$$\n",
    "\n",
    "By writing the discounted reward explicitly and enforcing causality, i.e. the action taken at time $t$ can't affect\n",
    "the reward at time $t'<t$, we can get a slightly lower-variance version of the policy gradient:\n",
    "\n",
    "$$\n",
    "\\grad\\mathcal{L}_{\\text{PG}}(\\vec{\\theta}) = \n",
    "\\E[\\tau]{-\\sum_{t\\geq0} \\left(\\sum_{t'\\geq t} \\gamma^{t'-t}r_{t'+1} \\right)\\grad\\log \\pi_{\\vec{\\theta}}(a_t|s_t)}.\n",
    "$$"
   ]
  },
  {
   "cell_type": "markdown",
   "metadata": {},
   "source": [
    "In practice, the expectation over trajectories is calculated using a Monte-Carlo approach, i.e. simply sampling $N$\n",
    "trajectories and average the term inside the expectation. Therefore, we will use the following estimated version of the policy gradient:\n",
    "\n",
    "$$\n",
    "\\begin{align}\n",
    "\\hat\\grad\\mathcal{L}_{\\text{PG}}(\\vec{\\theta})\n",
    "&=-\\frac{1}{N}\\sum_{i=1}^{N}\\sum_{t\\geq0} \\left(\\sum_{t'\\geq t} \\gamma^{t'-t}r_{i,t'+1} \\right)\\grad\\log \\pi_{\\vec{\\theta}}(a_{i,t}|s_{i,t}) \\\\\n",
    "&=-\\frac{1}{N}\\sum_{i=1}^{N}\\sum_{t\\geq0} \\hat{q}_{i,t} \\grad\\log \\pi_{\\vec{\\theta}}(a_{i,t}|s_{i,t}).\n",
    "\\end{align}\n",
    "$$\n",
    "\n",
    "Note the use of the notation $\\hat{q}_{i,t}$ to represent the estimated action-value at time $t$ in the sampled trajectory $i$.\n",
    "Here $\\hat{q}_{i,t}$ is acting as the weight-term for the policy gradient."
   ]
  },
  {
   "cell_type": "markdown",
   "metadata": {},
   "source": [
    "**TODO**: Complete the implementation of the `VanillaPolicyGradientLoss` class in the `hw4/rl_pg.py` module."
   ]
  },
  {
   "cell_type": "code",
   "execution_count": 45,
   "metadata": {},
   "outputs": [
    {
     "name": "stdout",
     "output_type": "stream",
     "text": [
      "test_batch=TrainBatch(states: torch.Size([388, 8]), actions: torch.Size([388]), q_vals: torch.Size([388])), num_episodes: 4)\n",
      "\n",
      "test_action_scores=\n",
      "tensor([[-7.8158e-01, -1.5094e-01,  4.1993e-01,  1.4059e+00],\n",
      "        [ 1.3185e+00,  2.8492e-05,  1.4242e+00, -6.2004e-01],\n",
      "        [ 1.1881e+00,  2.0556e+00,  6.6027e-01, -1.1078e+00],\n",
      "        ...,\n",
      "        [-3.4807e-01, -9.6609e-01, -6.5453e-01, -2.0421e+00],\n",
      "        [-1.1453e+00,  8.8890e-01,  2.4767e-01,  9.7610e-01],\n",
      "        [-1.2878e+00,  1.9194e+00, -9.3162e-01, -3.8786e-01]])\n",
      "shape=torch.Size([388, 4])\n",
      "\n",
      "loss_p=tensor(-36.6423)\n"
     ]
    }
   ],
   "source": [
    "# Ensure deterministic run\n",
    "env = gym.make(ENV_NAME)\n",
    "env.seed(SEED)\n",
    "torch.manual_seed(SEED)\n",
    "\n",
    "def agent_fn():\n",
    "    # Use a simple \"network\" here, so that this test doesn't depend on\n",
    "    # your specific PolicyNet implementation\n",
    "    p_net_test = nn.Linear(ENV_N_OBSERVATIONS, ENV_N_ACTIONS, bias=True)\n",
    "    agent = hw4pg.PolicyAgent(env, p_net_test)\n",
    "    return agent\n",
    "\n",
    "dataloader = hw4data.TrainBatchDataset(agent_fn, gamma=0.9, episode_batch_size=4)\n",
    "\n",
    "test_batch = next(iter(dataloader))\n",
    "test_action_scores = torch.randn(len(test_batch), env.action_space.n)\n",
    "print(f\"{test_batch=}\", end='\\n\\n')\n",
    "print(f\"test_action_scores=\\n{test_action_scores}\\nshape={test_action_scores.shape}\", end='\\n\\n')\n",
    "\n",
    "loss_fn_p = hw4pg.VanillaPolicyGradientLoss()\n",
    "loss_p, _ = loss_fn_p(test_batch, test_action_scores)\n",
    "\n",
    "print(f'{loss_p=}')\n",
    "test.assertAlmostEqual(loss_p.item(), -36.642, delta=1e-2)"
   ]
  },
  {
   "cell_type": "markdown",
   "metadata": {},
   "source": [
    "#### Policy-gradient with baseline"
   ]
  },
  {
   "cell_type": "markdown",
   "metadata": {},
   "source": [
    "Another way to reduce the variance of our gradient is to use relative weighting of the log-policy instead of absolute reward values.\n",
    "$$\n",
    "\\hat\\grad\\mathcal{L}_{\\text{BPG}}(\\vec{\\theta})\n",
    "=-\\frac{1}{N}\\sum_{i=1}^{N}\\sum_{t\\geq0} \\left(\\hat{q}_{i,t}-b\\right) \\grad\\log \\pi_{\\vec{\\theta}}(a_{i,t}|s_{i,t}).\n",
    "$$\n",
    "In other words, we don't measure a trajectory's worth by it's total reward, but by how much better that total reward is relative to some\n",
    "expected (\"baseline\") reward value, denoted above by $b$.\n",
    "Note that subtracting a baseline has no effect on the expected value of the policy gradient. It's easy to prove this directly by definition.\n",
    "\n",
    "Here we'll implement a very simple baseline (not optimal in terms of variance reduction): the average of the estimated state-values $\\hat{q}_{i,t}$."
   ]
  },
  {
   "cell_type": "markdown",
   "metadata": {},
   "source": [
    "**TODO**: Complete the implementation of the `BaselinePolicyGradientLoss` class in the `hw4/rl_pg.py` module."
   ]
  },
  {
   "cell_type": "code",
   "execution_count": 52,
   "metadata": {},
   "outputs": [
    {
     "name": "stdout",
     "output_type": "stream",
     "text": [
      "loss_dict={'loss_p': -0.2786775529384613, 'baseline': -22.191164016723633}\n"
     ]
    }
   ],
   "source": [
    "# Using the same batch and action_scores from above cell\n",
    "loss_fn_p = hw4pg.BaselinePolicyGradientLoss()\n",
    "loss_p, loss_dict = loss_fn_p(test_batch, test_action_scores)\n",
    "\n",
    "print(f'{loss_dict=}')\n",
    "test.assertAlmostEqual(loss_dict['baseline'], -22.191, delta=1e-2)\n",
    "test.assertAlmostEqual(loss_p.item(), -0.278, delta=1e-2)"
   ]
  },
  {
   "cell_type": "markdown",
   "metadata": {},
   "source": [
    "#### Entropy loss"
   ]
  },
  {
   "cell_type": "markdown",
   "metadata": {},
   "source": [
    "The entropy of a probability distribution (in our case the policy), is\n",
    "$$\n",
    "H(\\pi) = -\\sum_{a} \\pi(a|s)\\log\\pi(a|s).\n",
    "$$\n",
    "The entropy is always positive and obtains it's maximum for a uniform distribution.\n",
    "We'll use the entropy of the policy as a bonus, i.e. we'll try to maximize it.\n",
    "The idea is the prevent the policy distribution from becoming too narrow and thus promote the agent's exploration."
   ]
  },
  {
   "cell_type": "markdown",
   "metadata": {},
   "source": [
    "First, we'll calculate the maximal possible entropy value of the action distribution for a set number of possible actions.\n",
    "This will be used as a normalization term.\n",
    "\n",
    "**TODO**: Complete the implementation of the `calc_max_entropy()` method in the `ActionEntropyLoss` class."
   ]
  },
  {
   "cell_type": "code",
   "execution_count": 54,
   "metadata": {},
   "outputs": [
    {
     "name": "stdout",
     "output_type": "stream",
     "text": [
      "max_entropy =  1.3862943611198906\n"
     ]
    }
   ],
   "source": [
    "loss_fn_e = hw4pg.ActionEntropyLoss(env.action_space.n)\n",
    "print('max_entropy = ', loss_fn_e.max_entropy)\n",
    "\n",
    "test.assertAlmostEqual(loss_fn_e.max_entropy, 1.38629436, delta=1e-3)"
   ]
  },
  {
   "cell_type": "markdown",
   "metadata": {},
   "source": [
    "**TODO**: Complete the implementation of the `forward()` method in the `ActionEntropyLoss` class."
   ]
  },
  {
   "cell_type": "code",
   "execution_count": 63,
   "metadata": {},
   "outputs": [
    {
     "name": "stdout",
     "output_type": "stream",
     "text": [
      "loss =  tensor(-0.8103)\n"
     ]
    }
   ],
   "source": [
    "loss_e, _ = loss_fn_e(test_batch, test_action_scores)\n",
    "print('loss = ', loss_e)\n",
    "\n",
    "test.assertAlmostEqual(loss_e.item(), -0.8103, delta=1e-2)"
   ]
  },
  {
   "cell_type": "markdown",
   "metadata": {},
   "source": [
    "### Training"
   ]
  },
  {
   "cell_type": "markdown",
   "metadata": {},
   "source": [
    "We'll implement our training procedure as follows:\n",
    "\n",
    "1. Initialize the current policy to be a random policy.\n",
    "1. Sample $N$ trajectories from the environment using the current policy.\n",
    "2. Calculate the estimated $q$-values, $\\hat{q}_{i,t} = \\sum_{t'\\geq t} \\gamma^{t'}r_{i,t'+1}$ for each trajectory $i$.\n",
    "3. Calculate policy gradient estimate $\\hat\\grad\\mathcal{L}(\\vec{\\theta})$ as defined above.\n",
    "4. Perform SGD update $\\vec{\\theta}\\leftarrow\\vec{\\theta}-\\eta\\hat\\grad\\mathcal{L}(\\vec{\\theta})$.\n",
    "5. Repeat from step 2.\n",
    "\n",
    "This is known as the **REINFORCE** algorithm."
   ]
  },
  {
   "cell_type": "markdown",
   "metadata": {},
   "source": [
    "Fortunately, we've already implemented everything we need for steps 1-4 so we need only a bit more code to put it all together.\n",
    "\n",
    "The following block implements a wrapper, `train_pg` to create all the objects we need in order to train our policy gradient model.\n"
   ]
  },
  {
   "cell_type": "code",
   "execution_count": null,
   "metadata": {},
   "outputs": [],
   "source": [
    "import hw4.answers\n",
    "from functools import partial\n",
    "\n",
    "ENV_NAME = \"Beresheet-v2\"\n",
    "\n",
    "def agent_fn_train(agent_type, p_net, seed, envs_dict):\n",
    "    winfo = torch.utils.data.get_worker_info()\n",
    "    wid = winfo.id if winfo else 0\n",
    "    seed = seed + wid if seed else wid\n",
    "\n",
    "    env = gym.make(ENV_NAME)\n",
    "    envs_dict[wid] = env\n",
    "    env.seed(seed)\n",
    "    np.random.seed(seed)\n",
    "    torch.manual_seed(seed)\n",
    "\n",
    "    return agent_type(env, p_net)\n",
    "\n",
    "def train_rl(agent_type, net_type, loss_fns, hp, seed=None, checkpoints_file=None, **train_kw):\n",
    "    print(f'hyperparams: {hp}')\n",
    "    \n",
    "    envs = {}\n",
    "    p_net = net_type(ENV_N_OBSERVATIONS, ENV_N_ACTIONS, **hp)\n",
    "    p_net.share_memory()\n",
    "    agent_fn = partial(agent_fn_train, agent_type, p_net, seed, envs)\n",
    "    \n",
    "    dataset = hw4data.TrainBatchDataset(agent_fn, hp['batch_size'], hp['gamma'])\n",
    "    dataloader = DataLoader(\n",
    "        dataset, batch_size=None, num_workers=hp['num_workers'],\n",
    "        multiprocessing_context='fork' if hp['num_workers'] > 0 else None\n",
    "    )\n",
    "    optimizer = optim.Adam(p_net.parameters(), lr=hp['learn_rate'], eps=hp['eps'])\n",
    "    \n",
    "    trainer = hw4pg.PolicyTrainer(p_net, optimizer, loss_fns, dataloader, checkpoints_file)\n",
    "    try:\n",
    "        trainer.train(**train_kw)\n",
    "    except KeyboardInterrupt as e:\n",
    "        print('Training interrupted by user.')\n",
    "    finally:\n",
    "        for env in envs.values():\n",
    "            env.close()\n",
    "\n",
    "    # Include final model state\n",
    "    training_data = trainer.training_data\n",
    "    training_data['model_state'] = p_net.state_dict()\n",
    "    return training_data\n",
    "    \n",
    "def train_pg(baseline=False, entropy=False, **train_kwargs):\n",
    "    hp = hw4.answers.part1_pg_hyperparams()\n",
    "    \n",
    "    loss_fns = []\n",
    "    if baseline:\n",
    "        loss_fns.append(hw4pg.BaselinePolicyGradientLoss())\n",
    "    else:\n",
    "        loss_fns.append(hw4pg.VanillaPolicyGradientLoss())\n",
    "    if entropy:\n",
    "        loss_fns.append(hw4pg.ActionEntropyLoss(ENV_N_ACTIONS, hp['beta']))\n",
    "\n",
    "    return train_rl(hw4pg.PolicyAgent, hw4pg.PolicyNet, loss_fns, hp, **train_kwargs)"
   ]
  },
  {
   "cell_type": "markdown",
   "metadata": {},
   "source": [
    "The `PolicyTrainer` class implements the training loop, collects the losses and rewards and provides some useful checkpointing functionality.\n",
    "The training loop will generate batches of episodes and train on them until either:\n",
    "- The average total reward from the last `running_mean_len` episodes is greater than the `target_reward`, OR\n",
    "- The number of generated episodes reached `max_episodes`.\n",
    "\n",
    "Most of this class is already implemented for you. "
   ]
  },
  {
   "cell_type": "markdown",
   "metadata": {},
   "source": [
    "**TODO**:\n",
    "1. Complete the training loop by implementing the `train_batch()` method of the `PolicyTrainer`.\n",
    "2. Tweak the hyperparameters in the `part1_pg_hyperparams()` function within the `hw4/answers.py` module as needed. You get some sane defaults."
   ]
  },
  {
   "cell_type": "markdown",
   "metadata": {},
   "source": [
    "Let's check whether our model is actually training.\n",
    "We'll try to reach a very low (bad) target reward, just as a sanity check to see that training works.\n",
    "Your model should be able to reach this target reward within a few batches.\n",
    "\n",
    "You can increase the target reward and use this block to manually tweak your model and hyperparameters a few times."
   ]
  },
  {
   "cell_type": "code",
   "execution_count": null,
   "metadata": {},
   "outputs": [],
   "source": [
    "target_reward = -140 # VERY LOW target\n",
    "train_data = train_pg(target_reward=target_reward, seed=SEED, max_episodes=2000, running_mean_len=10)\n",
    "\n",
    "test.assertGreater(train_data['mean_reward'][-1], target_reward)"
   ]
  },
  {
   "cell_type": "markdown",
   "metadata": {},
   "source": [
    "### Experimenting with different losses"
   ]
  },
  {
   "cell_type": "markdown",
   "metadata": {},
   "source": [
    "We'll now run a few experiments to see the effect of diferent loss functions on the training dynamics. Namely, we'll try:\n",
    "1. Vanilla PG (`vpg`): No baseline, no entropy\n",
    "2. Baseline PG (`bpg`): Baseline, no entropy loss\n",
    "3. Entropy PG (`epg`): No baseline, with entropy loss\n",
    "3. Combined PG (`cpg`): Baseline, with entropy loss"
   ]
  },
  {
   "cell_type": "code",
   "execution_count": null,
   "metadata": {},
   "outputs": [],
   "source": [
    "from collections import namedtuple\n",
    "from pprint import pprint\n",
    "import itertools as it\n",
    "\n",
    "\n",
    "ExpConfig = namedtuple('ExpConfig', ('name','baseline','entropy'))\n",
    "\n",
    "def exp_configs():\n",
    "    exp_names = ('vpg', 'epg', 'bpg', 'cpg')\n",
    "    z = zip(exp_names, it.product((False, True), (False, True)))\n",
    "    return (ExpConfig(n, b, e) for (n, (b, e)) in z)\n",
    "\n",
    "pprint(list(exp_configs()))"
   ]
  },
  {
   "cell_type": "markdown",
   "metadata": {},
   "source": [
    "We'll save the training data from each experiment for plotting."
   ]
  },
  {
   "cell_type": "code",
   "execution_count": null,
   "metadata": {},
   "outputs": [],
   "source": [
    "import pickle\n",
    "\n",
    "def dump_training_data(data, filename):\n",
    "    os.makedirs(os.path.dirname(filename), exist_ok=True)\n",
    "    with open(filename, mode='wb') as file:\n",
    "        pickle.dump(data, file)\n",
    "        \n",
    "def load_training_data(filename):\n",
    "    with open(filename, mode='rb') as file:\n",
    "        return pickle.load(file)"
   ]
  },
  {
   "cell_type": "markdown",
   "metadata": {},
   "source": [
    "Let's run the experiments! We'll run each configuration for a fixed number of episodes so that we can compare them.\n",
    "\n",
    "Notes:\n",
    "1. Until your models start working, you can decrease the number of episodes for each experiment, or only run one experiment.\n",
    "2.  The results will be saved in a file. To re-run the experiments, you can set `force_run` to `True`."
   ]
  },
  {
   "cell_type": "code",
   "execution_count": null,
   "metadata": {},
   "outputs": [],
   "source": [
    "import math\n",
    "\n",
    "exp_max_episodes = 4000\n",
    "\n",
    "results = {}\n",
    "training_data_filename = os.path.join('results', f'part1_exp.dat')\n",
    "\n",
    "# Set to True to force re-run (careful! will delete old experiment results)\n",
    "force_run = False\n",
    "\n",
    "# Skip running if results file exists.\n",
    "if os.path.isfile(training_data_filename) and not force_run:\n",
    "    print(f'=== results file {training_data_filename} exists, skipping experiments.')\n",
    "    results = load_training_data(training_data_filename)\n",
    "    \n",
    "else:\n",
    "    for n, b, e in exp_configs():\n",
    "        print(f'=== Experiment {n}')\n",
    "        results[n] = train_pg(baseline=b, entropy=e, max_episodes=exp_max_episodes, post_batch_fn=None)\n",
    "        \n",
    "    dump_training_data(results, training_data_filename)"
   ]
  },
  {
   "cell_type": "code",
   "execution_count": null,
   "metadata": {},
   "outputs": [],
   "source": [
    "def plot_experiment_results(results, fig=None):\n",
    "    if fig is None:\n",
    "        fig, _ = plt.subplots(nrows=2, ncols=2, sharex=True, figsize=(18,12))\n",
    "    for i, plot_type in enumerate(('loss_p', 'baseline', 'loss_e', 'mean_reward')):\n",
    "        ax = fig.axes[i]\n",
    "        for exp_name, exp_res in results.items():\n",
    "            if plot_type not in exp_res:\n",
    "                continue\n",
    "            ax.plot(exp_res['episode_num'], exp_res[plot_type], label=exp_name)\n",
    "        ax.set_title(plot_type)\n",
    "        ax.set_xlabel('episode')\n",
    "        ax.legend()\n",
    "    return fig\n",
    "    \n",
    "experiments_results_fig = plot_experiment_results(results)"
   ]
  },
  {
   "cell_type": "markdown",
   "metadata": {},
   "source": [
    "You should see positive training dynamics in the graphs (reward going up).\n",
    "If you don't, use them to further update your model or hyperparams.\n",
    "\n",
    "To pass the test, you'll need to get a best total mean reward of at least 10 in the fixed number of epochs using the combined loss.\n",
    "It's possible to get much higher (over 100)."
   ]
  },
  {
   "cell_type": "code",
   "execution_count": null,
   "metadata": {},
   "outputs": [],
   "source": [
    "best_cpg_mean_reward = max(results['cpg']['mean_reward'])\n",
    "print(f'Best CPG mean reward: {best_cpg_mean_reward:.2f}')\n",
    "\n",
    "test.assertGreater(best_cpg_mean_reward, 10)"
   ]
  },
  {
   "cell_type": "markdown",
   "metadata": {},
   "source": [
    "Now let's take a look at a gameplay video of our `cpg` model after the short training!"
   ]
  },
  {
   "cell_type": "code",
   "execution_count": null,
   "metadata": {},
   "outputs": [],
   "source": [
    "hp = hw4.answers.part1_pg_hyperparams()\n",
    "p_net_cpg = hw4pg.PolicyNet.build_for_env(env, **hp)\n",
    "p_net_cpg.load_state_dict(results['cpg']['model_state'])\n",
    "\n",
    "env, n_steps, reward = hw4pg.PolicyAgent.monitor_episode(ENV_NAME, p_net_cpg)\n",
    "print(f'{n_steps} steps, total reward: {reward:.2f}')\n",
    "show_monitor_video(env)"
   ]
  },
  {
   "cell_type": "markdown",
   "metadata": {},
   "source": [
    "## Advantage Actor-Critic (AAC)\n",
    "<a id=part1_2></a>"
   ]
  },
  {
   "cell_type": "markdown",
   "metadata": {},
   "source": [
    "We have seen that the policy-gradient loss can be interpreted as a log-likelihood of the policy term\n",
    "(selecting a specific action at a specific state), weighted by the future rewards of that choice of action.\n",
    "\n",
    "However, naïvely weighting by rewards has significant drawbacks in terms of the variance of the resulting gradient.\n",
    "We addressed this by adding a simple baseline term which represented our \"expected reward\" so that we increase probability of actions\n",
    "leading to trajectories which exceed this expectation and vice-versa.\n",
    "\n",
    "In this part we'll explore a more powerful baseline, which is the idea behind the AAC method."
   ]
  },
  {
   "cell_type": "markdown",
   "metadata": {},
   "source": [
    "### The advantage function"
   ]
  },
  {
   "cell_type": "markdown",
   "metadata": {},
   "source": [
    "Recall the definition of the state-value function $v_{\\pi}(s)$ and action-value function $q_{\\pi}(s,a)$:\n",
    "\n",
    "$$\n",
    "\\begin{align}\n",
    "v_{\\pi}(s) &= \\E{g(\\tau)|s_0 = s,\\pi} \\\\\n",
    "q_{\\pi}(s,a) &= \\E{g(\\tau)|s_0 = s,a_0=a,\\pi}.\n",
    "\\end{align}\n",
    "$$\n",
    "\n",
    "Both these functions represent the value of the state $s$. However, $v_\\pi$ averages over the first action according to the policy,\n",
    "while $q_\\pi$ fixes the first action and then continues according to the policy."
   ]
  },
  {
   "cell_type": "markdown",
   "metadata": {},
   "source": [
    "Their difference is known as the **advantage function**:\n",
    "$$\n",
    "a_\\pi(s,a) = q_\\pi(s,a)-v_\\pi(s).\n",
    "$$\n",
    "\n",
    "If $a_\\pi(s,a)>0$ it means that it's better (in expectation) to take action $a$ in state $s$ compared to the average action.\n",
    "In other words, $a_\\pi(s,a)$ represents the *advantage* of using action $a$ in state $s$ compared to the others."
   ]
  },
  {
   "cell_type": "markdown",
   "metadata": {},
   "source": [
    "So far we have used an estimate for $q_\\pi$ as our weighting term for the log-policy, with a fixed baseline per batch.\n",
    "\n",
    "$$\n",
    "\\hat\\grad\\mathcal{L}_{\\text{BPG}}(\\vec{\\theta})\n",
    "=-\\frac{1}{N}\\sum_{i=1}^{N}\\sum_{t\\geq0} \\left(\\hat{q}_{i,t}-b\\right) \\grad\\log \\pi_{\\vec{\\theta}}(a_{i,t}|s_{i,t}).\n",
    "$$\n"
   ]
  },
  {
   "cell_type": "markdown",
   "metadata": {},
   "source": [
    "Now, we will use the state value as a baseline, so that an estimate of the advantage function is our weighting term:\n",
    "\n",
    "$$\n",
    "\\hat\\grad\\mathcal{L}_{\\text{AAC}}(\\vec{\\theta})\n",
    "=-\\frac{1}{N}\\sum_{i=1}^{N}\\sum_{t\\geq0} \\left(\\hat{q}_{i,t}-v_\\pi(s_t)\\right) \\grad\\log \\pi_{\\vec{\\theta}}(a_{i,t}|s_{i,t}).\n",
    "$$\n",
    "\n",
    "Intuitively, using the advantage function makes sense because it means we're weighting our policy's actions according to\n",
    "how advantageous they are compared to other possible actions."
   ]
  },
  {
   "cell_type": "markdown",
   "metadata": {},
   "source": [
    "But how will we know $v_\\pi(s)$? We'll learn it of course, using another neural network.\n",
    "This is known as actor-critic learning. We simultaneously learn the policy (actor) and the value of states (critic).\n",
    "We'll treat it as a regression task: given a state $s_t$, our state-value network will output $\\hat{v}_\\pi(s_t)$,\n",
    "an estimate of the actual unknown state-value.\n",
    "Our regression targets will be the discounted rewards, $\\hat{q}_{i,t}$ (see question 2),\n",
    "and we can use a simple MSE as the loss function,\n",
    "$$\n",
    "\\mathcal{L}_{\\text{SV}} = \\frac{1}{N}\\sum_{i=1}^{N}\\sum_{t\\geq0}\\left(\\hat{v}_\\pi(s_t) - \\hat{q}_{i,t}\\right)^2.\n",
    "$$\n"
   ]
  },
  {
   "cell_type": "markdown",
   "metadata": {},
   "source": [
    "### Implementation"
   ]
  },
  {
   "cell_type": "markdown",
   "metadata": {},
   "source": [
    "We'll build heavily on our implementation of the regular policy-gradient method, and just add a new model class and a new loss class, with a small modification to the agent."
   ]
  },
  {
   "cell_type": "markdown",
   "metadata": {},
   "source": [
    "Let's start with the model. It will accept a state, and return action scores (as before), but also the value of that state.\n",
    "You can experiment with a dual-head network that has a shared base, or implement two separate parts within the network.\n",
    "\n",
    "**TODO**:\n",
    "1. Implement the model as the `AACPolicyNet` class in the `hw4/rl_ac.py` module.\n",
    "1. Set the hyperparameters in the `part1_aac_hyperparams()` function of the `hw4.answers` module."
   ]
  },
  {
   "cell_type": "code",
   "execution_count": null,
   "metadata": {},
   "outputs": [],
   "source": [
    "import hw4.rl_ac as hw4ac\n",
    "\n",
    "hp = hw4.answers.part1_aac_hyperparams()\n",
    "pv_net = hw4ac.AACPolicyNet.build_for_env(env, device, **hp)\n",
    "pv_net"
   ]
  },
  {
   "cell_type": "markdown",
   "metadata": {},
   "source": [
    "**TODO**: Complete the implementation of the agent class, `AACPolicyAgent`, in the `hw4/rl_ac.py` module."
   ]
  },
  {
   "cell_type": "code",
   "execution_count": null,
   "metadata": {},
   "outputs": [],
   "source": [
    "agent = hw4ac.AACPolicyAgent(env, pv_net, device)\n",
    "exp = agent.step()\n",
    "\n",
    "test.assertIsInstance(exp, hw4pg.Experience)\n",
    "print(exp)"
   ]
  },
  {
   "cell_type": "markdown",
   "metadata": {},
   "source": [
    "**TODO**: Implement the AAC loss function as the class `AACPolicyGradientLoss` in the `hw4/rl_ac.py` module."
   ]
  },
  {
   "cell_type": "code",
   "execution_count": null,
   "metadata": {},
   "outputs": [],
   "source": [
    "loss_fn_aac = hw4ac.AACPolicyGradientLoss(delta=1.)\n",
    "test_state_values = torch.ones(test_action_scores.shape[0], 1)\n",
    "loss_t, loss_dict = loss_fn_aac(test_batch, (test_action_scores, test_state_values))\n",
    "\n",
    "print(f'{loss_dict=}')\n",
    "test.assertAlmostEqual(loss_dict['adv_m'], -23.191, delta=1e-2)\n",
    "test.assertAlmostEqual(loss_t.item(), 1183.948, delta=1e-2)"
   ]
  },
  {
   "cell_type": "markdown",
   "metadata": {},
   "source": [
    "### Experimentation"
   ]
  },
  {
   "cell_type": "markdown",
   "metadata": {},
   "source": [
    "Let's run the same experiment as before, but with the AAC method and compare the results."
   ]
  },
  {
   "cell_type": "code",
   "execution_count": null,
   "metadata": {},
   "outputs": [],
   "source": [
    "def train_aac(baseline=False, entropy=False, **train_kwargs):\n",
    "    hp = hw4.answers.part1_aac_hyperparams()\n",
    "    loss_fns = [hw4ac.AACPolicyGradientLoss(hp['delta']), hw4pg.ActionEntropyLoss(ENV_N_ACTIONS, hp['beta'])]\n",
    "    return train_rl(hw4ac.AACPolicyAgent, hw4ac.AACPolicyNet, loss_fns, hp, **train_kwargs)"
   ]
  },
  {
   "cell_type": "code",
   "execution_count": null,
   "metadata": {},
   "outputs": [],
   "source": [
    "training_data_filename = os.path.join('results', f'part1_exp_aac.dat')\n",
    "\n",
    "# Set to True to force re-run (careful, will delete old experiment results)\n",
    "force_run = False\n",
    "\n",
    "if os.path.isfile(training_data_filename) and not force_run:\n",
    "    print(f'=== results file {training_data_filename} exists, skipping experiments.')\n",
    "    results_aac = load_training_data(training_data_filename)\n",
    "    \n",
    "else:\n",
    "    print(f'=== Running AAC experiment')\n",
    "    training_data = train_aac(max_episodes=exp_max_episodes)\n",
    "    results_aac = dict(aac=training_data)\n",
    "    dump_training_data(results_aac, training_data_filename)"
   ]
  },
  {
   "cell_type": "code",
   "execution_count": null,
   "metadata": {},
   "outputs": [],
   "source": [
    "experiments_results_fig = plot_experiment_results(results)\n",
    "plot_experiment_results(results_aac, fig=experiments_results_fig);"
   ]
  },
  {
   "cell_type": "markdown",
   "metadata": {},
   "source": [
    "You should get better results with the AAC method, so this time the bar is higher (again, you should aim for a mean reward of 100+).\n",
    "Compare the graphs with combined PG method and see if they make sense."
   ]
  },
  {
   "cell_type": "code",
   "execution_count": null,
   "metadata": {},
   "outputs": [],
   "source": [
    "best_aac_mean_reward = max(results_aac['aac']['mean_reward'])\n",
    "print(f'Best AAC mean reward: {best_aac_mean_reward:.2f}')\n",
    "\n",
    "test.assertGreater(best_aac_mean_reward, 50)"
   ]
  },
  {
   "cell_type": "markdown",
   "metadata": {},
   "source": [
    "### Final model training and visualization"
   ]
  },
  {
   "cell_type": "markdown",
   "metadata": {},
   "source": [
    "Now, using your best model and hyperparams, let's train model for much longer and see the performance.\n",
    "Just for fun, we'll also visualize an episode every now and then so that we can see how well the agent is playing."
   ]
  },
  {
   "cell_type": "markdown",
   "metadata": {},
   "source": [
    "**TODO**:\n",
    "- Run the following block to train.\n",
    "- Tweak model or hyperparams as necessary.\n",
    "- Aim for high mean reward, at least 150+. It's possible to get over 200.\n",
    "- When training is done and you're satisfied with the model's outputs, rename the checkpoint file by adding `_final` to the file name.\n",
    "  This will cause the block to skip training and instead load your saved model when running the homework submission script.\n",
    "  Note that your submission zip file will not include the checkpoint file. This is OK."
   ]
  },
  {
   "cell_type": "code",
   "execution_count": null,
   "metadata": {},
   "outputs": [],
   "source": [
    "import IPython.display\n",
    "\n",
    "CHECKPOINTS_FILE = f'checkpoints/{ENV_NAME}-ac.dat'\n",
    "CHECKPOINTS_FILE_FINAL = f'checkpoints/{ENV_NAME}-ac_final.dat'\n",
    "TARGET_REWARD = 125\n",
    "MAX_EPISODES = 15_000\n",
    "\n",
    "def post_batch_fn(batch_idx, p_net, batch, print_every=20, final=False):\n",
    "    if not final and batch_idx % print_every != 0:\n",
    "        return\n",
    "    env, n_steps, reward = hw4ac.AACPolicyAgent.monitor_episode(ENV_NAME, p_net)\n",
    "    html = show_monitor_video(env, width=\"500\")\n",
    "    IPython.display.clear_output(wait=True)\n",
    "    print(f'Monitor@#{batch_idx}: n_steps={n_steps}, total_reward={reward:.3f}, final={final}')\n",
    "    IPython.display.display_html(html)\n",
    "    \n",
    "    \n",
    "if os.path.isfile(CHECKPOINTS_FILE_FINAL):\n",
    "    print(f'=== {CHECKPOINTS_FILE_FINAL} exists, skipping training...')\n",
    "    checkpoint_data = torch.load(CHECKPOINTS_FILE_FINAL)\n",
    "    hp = hw4.answers.part1_aac_hyperparams()\n",
    "    pv_net = hw4ac.AACPolicyNet.build_for_env(env, **hp)\n",
    "    pv_net.load_state_dict(checkpoint_data['params'])\n",
    "    print(f'=== Running best model...')\n",
    "    env, n_steps, reward = hw4ac.AACPolicyAgent.monitor_episode(ENV_NAME, pv_net)\n",
    "    print(f'=== Best model ran for {n_steps} steps. Total reward: {reward:.2f}')\n",
    "    IPython.display.display_html(show_monitor_video(env))\n",
    "    best_mean_reward = checkpoint_data[\"best_mean_reward\"]\n",
    "else:\n",
    "    print(f'=== Starting training...')\n",
    "    train_data = train_aac(TARGET_REWARD, max_episodes=MAX_EPISODES,\n",
    "                           seed=None, checkpoints_file=CHECKPOINTS_FILE, post_batch_fn=post_batch_fn)\n",
    "    print(f'=== Done, ', end='')\n",
    "    best_mean_reward = train_data[\"best_mean_reward\"][-1]\n",
    "    print(f'num_episodes={train_data[\"episode_num\"][-1]}, best_mean_reward={best_mean_reward:.1f}')\n",
    "          \n",
    "test.assertGreaterEqual(best_mean_reward, TARGET_REWARD)"
   ]
  },
  {
   "cell_type": "markdown",
   "metadata": {},
   "source": [
    "## Questions\n",
    "<a id=part1_3></a>"
   ]
  },
  {
   "cell_type": "markdown",
   "metadata": {},
   "source": [
    "**TODO**: Answer the following questions. Write your answers in the appropriate variables in the module `hw4/answers.py`."
   ]
  },
  {
   "cell_type": "code",
   "execution_count": null,
   "metadata": {},
   "outputs": [],
   "source": [
    "from cs236781.answers import display_answer\n",
    "import hw4.answers"
   ]
  },
  {
   "cell_type": "markdown",
   "metadata": {},
   "source": [
    "### Question 1\n",
    "\n",
    "Explain qualitatively why subtracting a baseline in the policy-gradient helps reduce it's variance.\n",
    "Specifically, give an example where it helps."
   ]
  },
  {
   "cell_type": "code",
   "execution_count": null,
   "metadata": {},
   "outputs": [],
   "source": [
    "display_answer(hw4.answers.part1_q1)"
   ]
  },
  {
   "cell_type": "markdown",
   "metadata": {},
   "source": [
    "### Question 2\n",
    "\n",
    "In AAC, when using the estimated q-values as regression targets for our state-values, why do we get a valid approximation?\n",
    "Hint: how is $v_\\pi(s)$ expressed in terms of $q_\\pi(s,a)$?"
   ]
  },
  {
   "cell_type": "code",
   "execution_count": null,
   "metadata": {},
   "outputs": [],
   "source": [
    "display_answer(hw4.answers.part1_q2)"
   ]
  },
  {
   "cell_type": "markdown",
   "metadata": {},
   "source": [
    "### Question 3\n",
    "\n",
    "1. Analyze and explain the graphs you got in first experiment run.\n",
    "2. Compare the experiment graphs you got with the AAC method to the regular PG method (`cpg`)."
   ]
  },
  {
   "cell_type": "code",
   "execution_count": null,
   "metadata": {},
   "outputs": [],
   "source": [
    "display_answer(hw4.answers.part1_q3)"
   ]
  }
 ],
 "metadata": {
  "kernelspec": {
   "display_name": "Python 3",
   "language": "python",
   "name": "python3"
  },
  "language_info": {
   "codemirror_mode": {
    "name": "ipython",
    "version": 3
   },
   "file_extension": ".py",
   "mimetype": "text/x-python",
   "name": "python",
   "nbconvert_exporter": "python",
   "pygments_lexer": "ipython3",
   "version": "3.8.6"
  }
 },
 "nbformat": 4,
 "nbformat_minor": 4
}
