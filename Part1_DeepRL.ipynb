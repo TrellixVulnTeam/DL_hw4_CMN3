{
 "cells": [
  {
   "cell_type": "markdown",
   "metadata": {},
   "source": [
    "$$\n",
    "\\newcommand{\\mat}[1]{\\boldsymbol {#1}}\n",
    "\\newcommand{\\mattr}[1]{\\boldsymbol {#1}^\\top}\n",
    "\\newcommand{\\matinv}[1]{\\boldsymbol {#1}^{-1}}\n",
    "\\newcommand{\\vec}[1]{\\boldsymbol {#1}}\n",
    "\\newcommand{\\vectr}[1]{\\boldsymbol {#1}^\\top}\n",
    "\\newcommand{\\rvar}[1]{\\mathrm {#1}}\n",
    "\\newcommand{\\rvec}[1]{\\boldsymbol{\\mathrm{#1}}}\n",
    "\\newcommand{\\diag}{\\mathop{\\mathrm {diag}}}\n",
    "\\newcommand{\\set}[1]{\\mathbb {#1}}\n",
    "\\newcommand{\\cset}[1]{\\mathcal{#1}}\n",
    "\\newcommand{\\norm}[1]{\\left\\lVert#1\\right\\rVert}\n",
    "\\newcommand{\\pderiv}[2]{\\frac{\\partial #1}{\\partial #2}}\n",
    "\\newcommand{\\bb}[1]{\\boldsymbol{#1}}\n",
    "\\newcommand{\\E}[2][]{\\mathbb{E}_{#1}\\left[#2\\right]}\n",
    "\\newcommand{\\ip}[3]{\\left<#1,#2\\right>_{#3}}\n",
    "\\newcommand{\\given}[]{\\,\\middle\\vert\\,}\n",
    "\\newcommand{\\DKL}[2]{\\cset{D}_{\\text{KL}}\\left(#1\\,\\Vert\\, #2\\right)}\n",
    "\\newcommand{\\grad}[]{\\nabla}\n",
    "$$\n",
    "# Part 1: Deep Reinforcement Learning\n",
    "<a id=part1></a>"
   ]
  },
  {
   "cell_type": "markdown",
   "metadata": {},
   "source": [
    "In the tutorial we have seen value-based reinforcement learning, in which we learn to approximate the action-value function $q(s,a)$.\n",
    "\n",
    "In this exercise we'll explore a different approach, directly learning the agent's policy distribution, $\\pi(a|s)$\n",
    "by using *policy gradients*, in order to safely land on the moon!"
   ]
  },
  {
   "cell_type": "code",
   "execution_count": 1,
   "metadata": {},
   "outputs": [],
   "source": [
    "%load_ext autoreload\n",
    "%autoreload 2\n",
    "%matplotlib inline\n",
    "\n",
    "import unittest\n",
    "import os\n",
    "import sys\n",
    "import pathlib\n",
    "import urllib\n",
    "import shutil\n",
    "import re\n",
    "\n",
    "import numpy as np\n",
    "import torch\n",
    "import torch.nn as nn\n",
    "import torch.optim as optim\n",
    "import matplotlib.pyplot as plt"
   ]
  },
  {
   "cell_type": "code",
   "execution_count": 2,
   "metadata": {},
   "outputs": [
    {
     "name": "stdout",
     "output_type": "stream",
     "text": [
      "Using device: cpu\n"
     ]
    }
   ],
   "source": [
    "test = unittest.TestCase()\n",
    "plt.rcParams.update({'font.size': 12})\n",
    "device = torch.device('cuda' if torch.cuda.is_available() else 'cpu')\n",
    "\n",
    "# Prefer CPU, GPU won't help much in this assignment\n",
    "device = 'cpu'\n",
    "print('Using device:', device)\n",
    "\n",
    "# Seed for deterministic tests\n",
    "SEED = 42"
   ]
  },
  {
   "cell_type": "markdown",
   "metadata": {},
   "source": [
    "Some technical notes before we begin:\n",
    "\n",
    "- This part does not require a GPU. We won't need large models, and the computation bottleneck will be the generation of episodes to train on.\n",
    "- In order to run this notebook on the server, you must prepend the `xvfb-run` command to create a virtual screen. For example,\n",
    "    - to run this notebook with `srun` do\n",
    "        ```\n",
    "        srun -c2 --gres=gpu:1 xvfb-run -a -s \"-screen 0 1440x900x24\" python main.py run-nb <filename>\n",
    "        ```\n",
    "    - To run the submission script, do\n",
    "        ```\n",
    "        srun -c2 xvfb-run -a -s \"-screen 0 1440x900x24\" python main.py prepare-submission ...\n",
    "        ```\n",
    "    - note that we have already included the `xvfb-run` command inside the `jupyter-lab.sh` script, so you can use it as usual with `srun`.\n",
    "    and so on.\n",
    "- The OpenAI `gym` library is not officially supported on windows. However it should be possible to install and run the necessary environment for this exercise. However, we cannot provide you with technical support for this. If you have trouble installing locally, we suggest running on the course server."
   ]
  },
  {
   "cell_type": "markdown",
   "metadata": {},
   "source": [
    "## Policy gradients\n",
    "<a id=part1_1></a>"
   ]
  },
  {
   "cell_type": "markdown",
   "metadata": {},
   "source": [
    "Recall from the tutorial that we define the **policy** of an agent as the conditional distribution,\n",
    "$$\n",
    "\\pi(a|s) = \\Pr(a_t=a\\vert s_t=s),\n",
    "$$\n",
    "which defines how likely the agent is to take action $a$ at state $s$.\n",
    "\n",
    "Furthermore we define the action-value function,\n",
    "$$\n",
    "q_{\\pi}(s,a) = \\E{g_t(\\tau)|s_t = s,a_t=a,\\pi}\n",
    "$$\n",
    "where \n",
    "$$\n",
    "g_t(\\tau) = r_{t+1}+\\gamma r_{t+2} + \\dots = \\sum_{k=0}^{\\infty} \\gamma^k r_{t+1+k},\n",
    "$$\n",
    "is the total discounted reward of a specific trajectory $\\tau$ from time $t$, and the expectation in $q$ is over all possible\n",
    "trajectories,\n",
    "$\n",
    "\\tau=\\left\\{ (s_0,a_0,r_1,s_1), \\dots (s_T,a_T,r_{T+1},s_{T+1}) \\right\\}.\n",
    "$"
   ]
  },
  {
   "cell_type": "markdown",
   "metadata": {},
   "source": [
    "In the tutorial we saw that we can learn a value function starting with some random function and\n",
    "updating it iteratively by using the **Bellman optimality equation**.\n",
    "Given that we have some action-value function, we can immediately create a policy based on that\n",
    "by simply selecting an action which maximize the action-value at the current state, i.e.\n",
    "$$\n",
    "\\pi(a|s) =\n",
    "\\begin{cases}\n",
    "1, & a = \\arg\\max_{a'\\in\\cset{A}} q(s,a') \\\\\n",
    "0, & \\text{else}\n",
    "\\end{cases}.\n",
    "$$\n",
    "This is called $q$-learning. This approach aims to obtain a policy indirectly through the action-value function.\n",
    "Yet, in most cases we don't actually care about knowing the value of particular states,\n",
    "since all we need is a good policy for our agent. \n",
    "\n",
    "Here we'll take a different approach and learn a policy distribution $\\pi(a|s)$ directly - by using **policy gradients**."
   ]
  },
  {
   "cell_type": "markdown",
   "metadata": {},
   "source": [
    "### Formalism"
   ]
  },
  {
   "cell_type": "markdown",
   "metadata": {},
   "source": [
    "We define a parametric policy, $\\pi_\\vec{\\theta}(a|s)$, and maximize total discounted reward (or minimize the negative reward):\n",
    "$$\n",
    "\\mathcal{L}(\\vec{\\theta})=\\E[\\tau]{-g(\\tau)|\\pi_\\vec{\\theta}} = -\\int g(\\tau)p(\\tau|\\vec{\\theta})d\\tau,\n",
    "$$\n",
    "where $p(\\tau|\\vec{\\theta})$ is the probability of a specific trajectory $\\tau$ under the policy defined by $\\vec{\\theta}$.\n"
   ]
  },
  {
   "cell_type": "markdown",
   "metadata": {},
   "source": [
    "Since we want to find the parameters $\\vec{\\theta}$ which minimize $\\mathcal{L}(\\vec{\\theta})$, we'll compute the gradient w.r.t. $\\vec{\\theta}$:\n",
    "$$\n",
    "\\grad\\mathcal{L}(\\vec{\\theta}) = -\\int g(\\tau)\\grad p(\\tau|\\vec{\\theta})d\\tau.\n",
    "$$\n",
    "\n",
    "Unfortunately, if we try to write $p(\\tau|\\vec{\\theta})$ explicitly,\n",
    "we find that computing it's gradient with respect to $\\vec{\\theta}$ is\n",
    "quite intractable due to a huge product of terms depending on $\\vec{\\theta}$:\n",
    "$$\n",
    "p(\\tau|\\vec{\\theta})=p\\left(\\left\\{ (s_t,a_t,r_{t+1},s_{t+1})\\right\\}_{t\\geq0}\\given\\vec{\\theta}\\right)\n",
    "=p(s_0)\\prod_{t\\geq0} \\pi_{\\vec{\\theta}}(a_t|s_t)p(s_{t+1}|s_t,a_t).\n",
    "$$"
   ]
  },
  {
   "cell_type": "markdown",
   "metadata": {},
   "source": [
    "However, by using the fact that $\\grad_{x}\\log(f(x))=\\frac{\\grad_{x}f(x)}{f(x)}$, we can convert the product into a sum:\n",
    "$$\n",
    "\\begin{align}\n",
    "\\grad\\mathcal{L}(\\vec{\\theta})\n",
    "&= -\\int g(\\tau)\\grad p(\\tau|\\vec{\\theta})d\\tau\n",
    "= -\\int g(\\tau)\\frac{\\grad p(\\tau|\\vec{\\theta})}{p(\\tau|\\vec{\\theta})}p(\\tau|\\vec{\\theta})d\\tau \\\\\n",
    "&= -\\int g(\\tau)\\grad\\log\\left(p(\\tau|\\vec{\\theta})\\right)p(\\tau|\\vec{\\theta})d\\tau \\\\\n",
    "&= -\\int g(\\tau)\\grad\\log\\left( p(s_0)\\prod_{t\\geq0} \\pi_{\\vec{\\theta}}(a_t|s_t)p(s_{t+1}|s_t,a_t) \\right)\n",
    "p(\\tau|\\vec{\\theta})d\\tau \\\\\n",
    "&= -\\int g(\\tau)\\grad\\left( \\log p(s_0) + \\sum_{t\\geq0} \\log \\pi_{\\vec{\\theta}}(a_t|s_t) + \n",
    "\\sum_{t\\geq0}\\log p(s_{t+1}|s_t,a_t) \\right) p(\\tau|\\vec{\\theta})d\\tau \\\\\n",
    "&= -\\int g(\\tau)\\sum_{t\\geq0} \\grad\\log \\pi_{\\vec{\\theta}}(a_t|s_t) p(\\tau|\\vec{\\theta})d\\tau \\\\\n",
    "&= \\E[\\tau]{-g(\\tau)\\sum_{t\\geq0} \\grad\\log \\pi_{\\vec{\\theta}}(a_t|s_t)}.\n",
    "\\end{align}\n",
    "$$"
   ]
  },
  {
   "cell_type": "markdown",
   "metadata": {},
   "source": [
    "This is the \"vanilla\" version of the policy gradient. We can interpret is as a weighted log-likelihood function.\n",
    "The log-policy is the log-likelihood term we wish to maximize and the total discounted reward acts as a weight: high-return positive\n",
    "trajectories will cause the probability of actions taken during them to increase, and negative-return trajectories will cause the\n",
    "probabilities of actions taken to decrease.\n",
    "\n",
    "In the following figures we see three trajectories: high-return positive-reward (green), low-return positive-reward (yellow) and negative-return (red) and the action probabilities along the trajectories after the update. Credit: Sergey Levine.\n",
    "\n",
    "|<strong></strong>||\n",
    "|-----| ----|\n",
    "|<img src=\"imgs/pg1.png\" height=\"200\">|<img src=\"imgs/pg2.png\" height=\"200\">|\n"
   ]
  },
  {
   "cell_type": "markdown",
   "metadata": {},
   "source": [
    "The major drawback of the policy-gradient is it's high variance, which causes erratic optimization behavior and therefore slow convergence.\n",
    "One reason for this is that the log-policy weight term, $g(\\tau)$ can vary wildly between different trajectories, even if they're similar in\n",
    "actions. Later on we'll implement the loss and explore some methods of variance reduction."
   ]
  },
  {
   "cell_type": "markdown",
   "metadata": {},
   "source": [
    "### Landing on the moon with policy gradients"
   ]
  },
  {
   "cell_type": "markdown",
   "metadata": {},
   "source": [
    "In the spirit of the recent achievements of the Israeli space industry,\n",
    "we'll apply our reinforcement learning skills to solve a simple game called **LunarLander**.\n",
    "\n",
    "This game is available as an `environment` in OpenAI `gym`.\n",
    "\n",
    "<video loop autoplay src=\"http://gym.openai.com/videos/2019-04-06--My9IiAbqha/LunarLander-v2/original.mp4\" />"
   ]
  },
  {
   "cell_type": "markdown",
   "metadata": {},
   "source": [
    "In this environment, you need to control the lander and get it to land safely on the moon.\n",
    "To do so, you must apply bottom, right or left thrusters (each are either fully on or fully off)\n",
    "and get it to land within the designated zone as quickly as possible and with minimal wasted fuel."
   ]
  },
  {
   "cell_type": "code",
   "execution_count": 3,
   "metadata": {},
   "outputs": [],
   "source": [
    "import gym\n",
    "\n",
    "# Just for fun :) ... but also to re-define the default max number of steps\n",
    "ENV_NAME = 'Beresheet-v2'\n",
    "MAX_EPISODE_STEPS = 300\n",
    "if ENV_NAME not in gym.envs.registry.env_specs:\n",
    "    gym.register(\n",
    "        id=ENV_NAME,\n",
    "        entry_point='gym.envs.box2d:LunarLander',\n",
    "        max_episode_steps=MAX_EPISODE_STEPS,\n",
    "        reward_threshold=200,\n",
    "    )"
   ]
  },
  {
   "cell_type": "code",
   "execution_count": 4,
   "metadata": {},
   "outputs": [
    {
     "name": "stdout",
     "output_type": "stream",
     "text": [
      "<TimeLimit<LunarLander<Beresheet-v2>>>\n",
      "observations space: Box(-inf, inf, (8,), float32)\n",
      "action space: Discrete(4)\n"
     ]
    }
   ],
   "source": [
    "import gym\n",
    "\n",
    "env = gym.make(ENV_NAME)\n",
    "\n",
    "print(env)\n",
    "print(f'observations space: {env.observation_space}')\n",
    "print(f'action space: {env.action_space}')\n",
    "\n",
    "ENV_N_ACTIONS = env.action_space.n\n",
    "ENV_N_OBSERVATIONS = env.observation_space.shape[0]\n"
   ]
  },
  {
   "cell_type": "markdown",
   "metadata": {},
   "source": [
    "The observations at each step is the Lander's position, velocity, angle, angular velocity and ground contact state.\n",
    "The actions are no-op, fire left truster, bottom thruster and right thruster.\n",
    "\n",
    "You are **highly encouraged** to read the [documentation](https://github.com/openai/gym/blob/master/gym/envs/box2d/lunar_lander.py) in the source code of the `LunarLander` environment to understand the reward system,\n",
    "and see how the actions and observations are created."
   ]
  },
  {
   "cell_type": "markdown",
   "metadata": {},
   "source": [
    "### Policy network and Agent"
   ]
  },
  {
   "cell_type": "markdown",
   "metadata": {},
   "source": [
    "Let's start with our policy-model. This will be a simple neural net, which should take an observation and return a score for each possible action."
   ]
  },
  {
   "cell_type": "markdown",
   "metadata": {},
   "source": [
    "**TODO**:\n",
    "1. Implement all methods in the `PolicyNet` class in the `hw4/rl_pg.py` module.\n",
    "   Start small. A simple MLP with a few hidden layers is a good starting point. You can come back and change it later based on the the experiments.  \n",
    "   Notice that we'll use the `build_for_env` method to instantiate a `PolicyNet` based on the configuration of a given environment.\n",
    "2. If you need hyperparameters to configure your model (e.g. number of hidden layers, sizes, etc.), add them in `part1_pg_hyperparams()` in `hw4/answers.py`."
   ]
  },
  {
   "cell_type": "code",
   "execution_count": 5,
   "metadata": {},
   "outputs": [
    {
     "data": {
      "text/plain": [
       "PolicyNet(\n",
       "  (network): Sequential(\n",
       "    (0): Linear(in_features=8, out_features=32, bias=True)\n",
       "    (1): ReLU()\n",
       "    (2): Linear(in_features=32, out_features=32, bias=True)\n",
       "    (3): ReLU()\n",
       "    (4): Linear(in_features=32, out_features=4, bias=True)\n",
       "  )\n",
       ")"
      ]
     },
     "execution_count": 5,
     "metadata": {},
     "output_type": "execute_result"
    }
   ],
   "source": [
    "import hw4.rl_pg as hw4pg\n",
    "import hw4.answers\n",
    "\n",
    "hp = hw4.answers.part1_pg_hyperparams()\n",
    "\n",
    "# You can add keyword-args to this function which will be populated from the\n",
    "# hyperparameters dict.\n",
    "p_net = hw4pg.PolicyNet.build_for_env(env, device, **hp)\n",
    "p_net"
   ]
  },
  {
   "cell_type": "markdown",
   "metadata": {},
   "source": [
    "Now we need an **agent**. The purpose of our agent will be to act according to the current policy and generate experiences.\n",
    "Our `PolicyAgent` will use a `PolicyNet` as the current policy function.\n",
    "\n",
    "\n",
    "We'll also define some extra datatypes to help us represent the data generated by our agent.\n",
    "You can find the `Experience`, `Episode` and `TrainBatch` datatypes in the `hw4/rl_data.py` module."
   ]
  },
  {
   "cell_type": "markdown",
   "metadata": {},
   "source": [
    "**TODO**: Implement the `current_action_distribution()` method of the `PolicyAgent` class in the `hw4/rl_pg.py` module."
   ]
  },
  {
   "cell_type": "code",
   "execution_count": 6,
   "metadata": {},
   "outputs": [
    {
     "name": "stdout",
     "output_type": "stream",
     "text": [
      "tensor([0.2602, 0.2577, 0.2447, 0.2374])\n"
     ]
    }
   ],
   "source": [
    "for i in range (10):\n",
    "    agent = hw4pg.PolicyAgent(env, p_net, device)\n",
    "    d = agent.current_action_distribution()\n",
    "    \n",
    "    test.assertSequenceEqual(d.shape, (env.action_space.n,))\n",
    "    test.assertAlmostEqual(d.sum(), 1.0, delta=1e-5)\n",
    "    \n",
    "print(d)"
   ]
  },
  {
   "cell_type": "markdown",
   "metadata": {},
   "source": [
    "**TODO**: Implement the `step()` method of the `PolicyAgent`."
   ]
  },
  {
   "cell_type": "code",
   "execution_count": 7,
   "metadata": {},
   "outputs": [
    {
     "name": "stdout",
     "output_type": "stream",
     "text": [
      "Experience(state=tensor([ 0.0053,  1.4218,  0.5408,  0.4854, -0.0062, -0.1225,  0.0000,  0.0000]), action=0, reward=0.10526435730369599, is_done=False)\n"
     ]
    }
   ],
   "source": [
    "agent = hw4pg.PolicyAgent(env, p_net, device)\n",
    "exp = agent.step()\n",
    "\n",
    "test.assertIsInstance(exp, hw4pg.Experience)\n",
    "print(exp)"
   ]
  },
  {
   "cell_type": "markdown",
   "metadata": {},
   "source": [
    "To test our agent, we'll write some code that allows it to play an environment. We'll use the `Monitor`\n",
    "wrapper in `gym` to generate a video of the episode for visual debugging."
   ]
  },
  {
   "cell_type": "markdown",
   "metadata": {},
   "source": [
    "**TODO**: Complete the implementation of the `monitor_episode()` method of the `PolicyAgent`."
   ]
  },
  {
   "cell_type": "code",
   "execution_count": 8,
   "metadata": {},
   "outputs": [],
   "source": [
    "env, n_steps, reward = agent.monitor_episode(ENV_NAME, p_net, device=device)"
   ]
  },
  {
   "cell_type": "markdown",
   "metadata": {},
   "source": [
    "To display the Monitor video in this notebook, we'll use a helper function from our `jupyter_utils` and a small wrapper that extracts the path of the last video file. "
   ]
  },
  {
   "cell_type": "code",
   "execution_count": 9,
   "metadata": {},
   "outputs": [],
   "source": [
    "import cs236781.jupyter_utils as jupyter_utils\n",
    "\n",
    "def show_monitor_video(monitor_env, idx=0, **kw):\n",
    "    # Extract video path\n",
    "    video_path = monitor_env.videos[idx][0]\n",
    "    video_path = os.path.relpath(video_path, start=os.path.curdir)\n",
    "    \n",
    "    # Use helper function to embed the video\n",
    "    return jupyter_utils.show_video_in_notebook(video_path, **kw)"
   ]
  },
  {
   "cell_type": "code",
   "execution_count": 10,
   "metadata": {},
   "outputs": [
    {
     "name": "stdout",
     "output_type": "stream",
     "text": [
      "Episode ran for 106 steps. Total reward: -161.97\n"
     ]
    },
    {
     "data": {
      "text/html": [
       "<video src=\"data:video/mp4;base64,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\" controls autoplay width=\"500\" height=\"auto\" />"
      ],
      "text/plain": [
       "<IPython.core.display.HTML object>"
      ]
     },
     "execution_count": 10,
     "metadata": {},
     "output_type": "execute_result"
    }
   ],
   "source": [
    "print(f'Episode ran for {n_steps} steps. Total reward: {reward:.2f}')\n",
    "\n",
    "show_monitor_video(env)"
   ]
  },
  {
   "cell_type": "markdown",
   "metadata": {},
   "source": [
    "### Training data"
   ]
  },
  {
   "cell_type": "markdown",
   "metadata": {},
   "source": [
    "The next step is to create data to train on.\n",
    "We need to train on batches of state-action pairs, so that our network can learn to predict the actions.\n",
    "\n",
    "We'll split this task into three parts:\n",
    "1. Generate a batch of `Episode`s, by using an `Agent` that's playing according to our current policy network.\n",
    "   Each `Episode` object contains the `Experience` objects created by the agent.\n",
    "2. Calculate the total discounted reward for each state we encountered and action we took. This is our action-value estimate.\n",
    "3. Convert the `Episode`s into a batch of tensors to train on.\n",
    "   Each batch will contain states, action taken per state, reward accrued, and the calculated estimated state-values.\n",
    "   These will be stored in a `TrainBatch` object.\n"
   ]
  },
  {
   "cell_type": "markdown",
   "metadata": {},
   "source": [
    "**TODO**: Complete the implementation of the `episode_batch_generator()` method in the `TrainBatchDataset` class within the `hw4.rl_data` module. This will address part 1 in the list above."
   ]
  },
  {
   "cell_type": "code",
   "execution_count": 11,
   "metadata": {},
   "outputs": [
    {
     "name": "stdout",
     "output_type": "stream",
     "text": [
      "First episode: Episode(total_reward=-105.86, #experences=103)\n"
     ]
    }
   ],
   "source": [
    "import hw4.rl_data as hw4data\n",
    "\n",
    "def agent_fn():\n",
    "    env = gym.make(ENV_NAME)\n",
    "    hp = hw4.answers.part1_pg_hyperparams()\n",
    "    p_net = hw4pg.PolicyNet.build_for_env(env, device, **hp)\n",
    "    return hw4pg.PolicyAgent(env, p_net, device)\n",
    "    \n",
    "ds = hw4data.TrainBatchDataset(agent_fn, episode_batch_size=8, gamma=0.9)\n",
    "batch_gen = ds.episode_batch_generator()\n",
    "b = next(batch_gen)\n",
    "print('First episode:', b[0])\n",
    "\n",
    "test.assertEqual(len(b), 8)\n",
    "for ep in b:\n",
    "    test.assertIsInstance(ep, hw4data.Episode)\n",
    "    \n",
    "    # Check that it's a full episode\n",
    "    is_done = [exp.is_done for exp in ep.experiences]\n",
    "    test.assertFalse(any(is_done[0:-1]))\n",
    "    test.assertTrue(is_done[-1])"
   ]
  },
  {
   "cell_type": "markdown",
   "metadata": {},
   "source": [
    "**TODO**: Complete the implementation of the `calc_qvals()` method in the `Episode` class.\n",
    "This will address part 2.\n",
    "These q-values are an estimate of the actual action value function: $$\\hat{q}_{t} = \\sum_{t'\\geq t} \\gamma^{t'-t}r_{t'+1}.$$"
   ]
  },
  {
   "cell_type": "code",
   "execution_count": 24,
   "metadata": {},
   "outputs": [],
   "source": [
    "np.random.seed(SEED)\n",
    "test_rewards = np.random.randint(-10, 10, 100)\n",
    "test_experiences = [hw4pg.Experience(None,None,r,False) for r in test_rewards] \n",
    "test_episode = hw4data.Episode(np.sum(test_rewards), test_experiences)\n",
    "\n",
    "qvals = test_episode.calc_qvals(0.9)\n",
    "qvals = list(qvals)\n",
    "\n",
    "expected_qvals = np.load(os.path.join('tests', 'assets', 'part1_expected_qvals.npy'))\n",
    "for i in range(len(test_rewards)):\n",
    "    test.assertAlmostEqual(expected_qvals[i], qvals[i], delta=1e-3)"
   ]
  },
  {
   "cell_type": "markdown",
   "metadata": {},
   "source": [
    "**TODO**: Complete the implementation of the `from_episodes()` method in the `TrainBatch` class.\n",
    "This will address part 3.\n",
    "\n",
    "Notes:\n",
    "- The `TrainBatchDataset` class provides a generator function that will use the above function to lazily generate batches of training samples and labels on demand.\n",
    "- This allows us to use a standard `PyTorch` dataloader to wrap our Dataset and provide us with parallel data loading for free!\n",
    "  This means we can run multiple environments with multiple agents in separate background processes to generate data for training and thus prevent the data loading bottleneck which is caused by the fact that we must generate full Episodes to train on in order to calculate the q-values.\n",
    "- We'll set the `DataLoader`'s `batch_size` to `None` because we have already implemented custom batching in our dataset.\n",
    "- You can choose the number of worker processes generating data using the `num_workers` parameter in the hyperparams dict. Set `num_workers=0` to disable parallelization."
   ]
  },
  {
   "cell_type": "code",
   "execution_count": 13,
   "metadata": {},
   "outputs": [
    {
     "name": "stdout",
     "output_type": "stream",
     "text": [
      "#0: TrainBatch(states: torch.Size([695, 8]), actions: torch.Size([695]), q_vals: torch.Size([695])), num_episodes: 8)\n",
      "#1: TrainBatch(states: torch.Size([644, 8]), actions: torch.Size([644]), q_vals: torch.Size([644])), num_episodes: 8)\n",
      "#2: TrainBatch(states: torch.Size([676, 8]), actions: torch.Size([676]), q_vals: torch.Size([676])), num_episodes: 8)\n",
      "#3: TrainBatch(states: torch.Size([715, 8]), actions: torch.Size([715]), q_vals: torch.Size([715])), num_episodes: 8)\n",
      "#4: TrainBatch(states: torch.Size([867, 8]), actions: torch.Size([867]), q_vals: torch.Size([867])), num_episodes: 8)\n",
      "#5: TrainBatch(states: torch.Size([767, 8]), actions: torch.Size([767]), q_vals: torch.Size([767])), num_episodes: 8)\n",
      "#6: TrainBatch(states: torch.Size([672, 8]), actions: torch.Size([672]), q_vals: torch.Size([672])), num_episodes: 8)\n"
     ]
    }
   ],
   "source": [
    "from torch.utils.data import DataLoader\n",
    "\n",
    "hp = hw4.answers.part1_pg_hyperparams()\n",
    "\n",
    "ds = hw4data.TrainBatchDataset(agent_fn, episode_batch_size=8, gamma=0.9)\n",
    "dl = DataLoader(\n",
    "    ds,\n",
    "    batch_size=None,\n",
    "    num_workers=hp['num_workers'],\n",
    "    multiprocessing_context='fork' if hp['num_workers'] > 0 else None\n",
    ")\n",
    "\n",
    "\n",
    "for i, train_batch in enumerate(dl):\n",
    "    states, actions, qvals, reward_mean = train_batch\n",
    "    print(f'#{i}: {train_batch}')\n",
    "    test.assertEqual(states.shape[0], actions.shape[0])\n",
    "    test.assertEqual(qvals.shape[0], actions.shape[0])\n",
    "    test.assertEqual(states.shape[1], env.observation_space.shape[0])\n",
    "    if i > 5:\n",
    "        break"
   ]
  },
  {
   "cell_type": "markdown",
   "metadata": {},
   "source": [
    "### Loss functions"
   ]
  },
  {
   "cell_type": "markdown",
   "metadata": {},
   "source": [
    "As usual, we need a loss function to optimize over.\n",
    "We'll calculate three types of losses:\n",
    "1. The causal vanilla policy gradient loss.\n",
    "1. The policy gradient loss, with a baseline to reduce variance.\n",
    "2. An entropy-based loss whos purpose is to diversify the agent's action selection,\n",
    "   and prevent it from being \"too sure\" about its actions.\n",
    "   This loss will be used together with one of the above losses."
   ]
  },
  {
   "cell_type": "markdown",
   "metadata": {},
   "source": [
    "#### Causal vanilla policy-gradient"
   ]
  },
  {
   "cell_type": "markdown",
   "metadata": {},
   "source": [
    "We have derived the policy-gradient as\n",
    "$$\n",
    "\\grad\\mathcal{L}(\\vec{\\theta}) = \\E[\\tau]{-g(\\tau)\\sum_{t\\geq0} \\grad\\log \\pi_{\\vec{\\theta}}(a_t|s_t)}.\n",
    "$$\n",
    "\n",
    "By writing the discounted reward explicitly and enforcing causality, i.e. the action taken at time $t$ can't affect\n",
    "the reward at time $t'<t$, we can get a slightly lower-variance version of the policy gradient:\n",
    "\n",
    "$$\n",
    "\\grad\\mathcal{L}_{\\text{PG}}(\\vec{\\theta}) = \n",
    "\\E[\\tau]{-\\sum_{t\\geq0} \\left(\\sum_{t'\\geq t} \\gamma^{t'-t}r_{t'+1} \\right)\\grad\\log \\pi_{\\vec{\\theta}}(a_t|s_t)}.\n",
    "$$"
   ]
  },
  {
   "cell_type": "markdown",
   "metadata": {},
   "source": [
    "In practice, the expectation over trajectories is calculated using a Monte-Carlo approach, i.e. simply sampling $N$\n",
    "trajectories and average the term inside the expectation. Therefore, we will use the following estimated version of the policy gradient:\n",
    "\n",
    "$$\n",
    "\\begin{align}\n",
    "\\hat\\grad\\mathcal{L}_{\\text{PG}}(\\vec{\\theta})\n",
    "&=-\\frac{1}{N}\\sum_{i=1}^{N}\\sum_{t\\geq0} \\left(\\sum_{t'\\geq t} \\gamma^{t'-t}r_{i,t'+1} \\right)\\grad\\log \\pi_{\\vec{\\theta}}(a_{i,t}|s_{i,t}) \\\\\n",
    "&=-\\frac{1}{N}\\sum_{i=1}^{N}\\sum_{t\\geq0} \\hat{q}_{i,t} \\grad\\log \\pi_{\\vec{\\theta}}(a_{i,t}|s_{i,t}).\n",
    "\\end{align}\n",
    "$$\n",
    "\n",
    "Note the use of the notation $\\hat{q}_{i,t}$ to represent the estimated action-value at time $t$ in the sampled trajectory $i$.\n",
    "Here $\\hat{q}_{i,t}$ is acting as the weight-term for the policy gradient."
   ]
  },
  {
   "cell_type": "markdown",
   "metadata": {},
   "source": [
    "**TODO**: Complete the implementation of the `VanillaPolicyGradientLoss` class in the `hw4/rl_pg.py` module."
   ]
  },
  {
   "cell_type": "code",
   "execution_count": 20,
   "metadata": {},
   "outputs": [
    {
     "name": "stdout",
     "output_type": "stream",
     "text": [
      "test_batch=TrainBatch(states: torch.Size([450, 8]), actions: torch.Size([450]), q_vals: torch.Size([450])), num_episodes: 4)\n",
      "\n",
      "test_action_scores=\n",
      "tensor([[ 0.7070, -1.2130,  0.8917,  0.7002],\n",
      "        [ 0.4082, -0.2351,  0.2602, -0.2455],\n",
      "        [ 0.2245, -0.9745,  0.9817,  0.5837],\n",
      "        ...,\n",
      "        [-0.3845,  0.6585,  0.7617, -0.6451],\n",
      "        [-3.6308, -2.1864,  0.2644, -0.5599],\n",
      "        [ 1.4537, -0.2963, -0.4702, -1.4991]])\n",
      "shape=torch.Size([450, 4])\n",
      "\n",
      "loss_p=tensor(-35.5355)\n"
     ]
    },
    {
     "ename": "AssertionError",
     "evalue": "-35.5355224609375 != -36.642 within 0.01 delta (1.106477539062503 difference)",
     "output_type": "error",
     "traceback": [
      "\u001b[1;31m---------------------------------------------------------------------------\u001b[0m",
      "\u001b[1;31mAssertionError\u001b[0m                            Traceback (most recent call last)",
      "\u001b[1;32m<ipython-input-20-522a8e3585c0>\u001b[0m in \u001b[0;36m<module>\u001b[1;34m\u001b[0m\n\u001b[0;32m     22\u001b[0m \u001b[1;33m\u001b[0m\u001b[0m\n\u001b[0;32m     23\u001b[0m \u001b[0mprint\u001b[0m\u001b[1;33m(\u001b[0m\u001b[1;34mf'{loss_p=}'\u001b[0m\u001b[1;33m)\u001b[0m\u001b[1;33m\u001b[0m\u001b[1;33m\u001b[0m\u001b[0m\n\u001b[1;32m---> 24\u001b[1;33m \u001b[0mtest\u001b[0m\u001b[1;33m.\u001b[0m\u001b[0massertAlmostEqual\u001b[0m\u001b[1;33m(\u001b[0m\u001b[0mloss_p\u001b[0m\u001b[1;33m.\u001b[0m\u001b[0mitem\u001b[0m\u001b[1;33m(\u001b[0m\u001b[1;33m)\u001b[0m\u001b[1;33m,\u001b[0m \u001b[1;33m-\u001b[0m\u001b[1;36m36.642\u001b[0m\u001b[1;33m,\u001b[0m \u001b[0mdelta\u001b[0m\u001b[1;33m=\u001b[0m\u001b[1;36m1e-2\u001b[0m\u001b[1;33m)\u001b[0m\u001b[1;33m\u001b[0m\u001b[1;33m\u001b[0m\u001b[0m\n\u001b[0m",
      "\u001b[1;32m~\\.conda\\envs\\cs236781-hw\\lib\\unittest\\case.py\u001b[0m in \u001b[0;36massertAlmostEqual\u001b[1;34m(self, first, second, places, msg, delta)\u001b[0m\n\u001b[0;32m    964\u001b[0m                 safe_repr(diff))\n\u001b[0;32m    965\u001b[0m         \u001b[0mmsg\u001b[0m \u001b[1;33m=\u001b[0m \u001b[0mself\u001b[0m\u001b[1;33m.\u001b[0m\u001b[0m_formatMessage\u001b[0m\u001b[1;33m(\u001b[0m\u001b[0mmsg\u001b[0m\u001b[1;33m,\u001b[0m \u001b[0mstandardMsg\u001b[0m\u001b[1;33m)\u001b[0m\u001b[1;33m\u001b[0m\u001b[1;33m\u001b[0m\u001b[0m\n\u001b[1;32m--> 966\u001b[1;33m         \u001b[1;32mraise\u001b[0m \u001b[0mself\u001b[0m\u001b[1;33m.\u001b[0m\u001b[0mfailureException\u001b[0m\u001b[1;33m(\u001b[0m\u001b[0mmsg\u001b[0m\u001b[1;33m)\u001b[0m\u001b[1;33m\u001b[0m\u001b[1;33m\u001b[0m\u001b[0m\n\u001b[0m\u001b[0;32m    967\u001b[0m \u001b[1;33m\u001b[0m\u001b[0m\n\u001b[0;32m    968\u001b[0m     def assertNotAlmostEqual(self, first, second, places=None, msg=None,\n",
      "\u001b[1;31mAssertionError\u001b[0m: -35.5355224609375 != -36.642 within 0.01 delta (1.106477539062503 difference)"
     ]
    }
   ],
   "source": [
    "# Ensure deterministic run\n",
    "env = gym.make(ENV_NAME)\n",
    "env.seed(SEED)\n",
    "torch.manual_seed(SEED)\n",
    "\n",
    "def agent_fn():\n",
    "    # Use a simple \"network\" here, so that this test doesn't depend on\n",
    "    # your specific PolicyNet implementation\n",
    "    p_net_test = nn.Linear(ENV_N_OBSERVATIONS, ENV_N_ACTIONS, bias=True)\n",
    "    agent = hw4pg.PolicyAgent(env, p_net_test)\n",
    "    return agent\n",
    "\n",
    "dataloader = hw4data.TrainBatchDataset(agent_fn, gamma=0.9, episode_batch_size=4)\n",
    "\n",
    "test_batch = next(iter(dataloader))\n",
    "test_action_scores = torch.randn(len(test_batch), env.action_space.n)\n",
    "print(f\"{test_batch=}\", end='\\n\\n')\n",
    "print(f\"test_action_scores=\\n{test_action_scores}\\nshape={test_action_scores.shape}\", end='\\n\\n')\n",
    "\n",
    "loss_fn_p = hw4pg.VanillaPolicyGradientLoss()\n",
    "loss_p, _ = loss_fn_p(test_batch, test_action_scores)\n",
    "\n",
    "print(f'{loss_p=}')\n",
    "test.assertAlmostEqual(loss_p.item(), -36.642, delta=1e-2)"
   ]
  },
  {
   "cell_type": "markdown",
   "metadata": {},
   "source": [
    "#### Policy-gradient with baseline"
   ]
  },
  {
   "cell_type": "markdown",
   "metadata": {},
   "source": [
    "Another way to reduce the variance of our gradient is to use relative weighting of the log-policy instead of absolute reward values.\n",
    "$$\n",
    "\\hat\\grad\\mathcal{L}_{\\text{BPG}}(\\vec{\\theta})\n",
    "=-\\frac{1}{N}\\sum_{i=1}^{N}\\sum_{t\\geq0} \\left(\\hat{q}_{i,t}-b\\right) \\grad\\log \\pi_{\\vec{\\theta}}(a_{i,t}|s_{i,t}).\n",
    "$$\n",
    "In other words, we don't measure a trajectory's worth by it's total reward, but by how much better that total reward is relative to some\n",
    "expected (\"baseline\") reward value, denoted above by $b$.\n",
    "Note that subtracting a baseline has no effect on the expected value of the policy gradient. It's easy to prove this directly by definition.\n",
    "\n",
    "Here we'll implement a very simple baseline (not optimal in terms of variance reduction): the average of the estimated state-values $\\hat{q}_{i,t}$."
   ]
  },
  {
   "cell_type": "markdown",
   "metadata": {},
   "source": [
    "**TODO**: Complete the implementation of the `BaselinePolicyGradientLoss` class in the `hw4/rl_pg.py` module."
   ]
  },
  {
   "cell_type": "code",
   "execution_count": null,
   "metadata": {},
   "outputs": [],
   "source": [
    "# Using the same batch and action_scores from above cell\n",
    "loss_fn_p = hw4pg.BaselinePolicyGradientLoss()\n",
    "loss_p, loss_dict = loss_fn_p(test_batch, test_action_scores)\n",
    "\n",
    "print(f'{loss_dict=}')\n",
    "test.assertAlmostEqual(loss_dict['baseline'], -22.191, delta=1e-2)\n",
    "test.assertAlmostEqual(loss_p.item(), -0.278, delta=1e-2)"
   ]
  },
  {
   "cell_type": "markdown",
   "metadata": {},
   "source": [
    "#### Entropy loss"
   ]
  },
  {
   "cell_type": "markdown",
   "metadata": {},
   "source": [
    "The entropy of a probability distribution (in our case the policy), is\n",
    "$$\n",
    "H(\\pi) = -\\sum_{a} \\pi(a|s)\\log\\pi(a|s).\n",
    "$$\n",
    "The entropy is always positive and obtains it's maximum for a uniform distribution.\n",
    "We'll use the entropy of the policy as a bonus, i.e. we'll try to maximize it.\n",
    "The idea is the prevent the policy distribution from becoming too narrow and thus promote the agent's exploration."
   ]
  },
  {
   "cell_type": "markdown",
   "metadata": {},
   "source": [
    "First, we'll calculate the maximal possible entropy value of the action distribution for a set number of possible actions.\n",
    "This will be used as a normalization term.\n",
    "\n",
    "**TODO**: Complete the implementation of the `calc_max_entropy()` method in the `ActionEntropyLoss` class."
   ]
  },
  {
   "cell_type": "code",
   "execution_count": null,
   "metadata": {},
   "outputs": [],
   "source": [
    "loss_fn_e = hw4pg.ActionEntropyLoss(env.action_space.n)\n",
    "print('max_entropy = ', loss_fn_e.max_entropy)\n",
    "\n",
    "test.assertAlmostEqual(loss_fn_e.max_entropy, 1.38629436, delta=1e-3)"
   ]
  },
  {
   "cell_type": "markdown",
   "metadata": {},
   "source": [
    "**TODO**: Complete the implementation of the `forward()` method in the `ActionEntropyLoss` class."
   ]
  },
  {
   "cell_type": "code",
   "execution_count": null,
   "metadata": {},
   "outputs": [],
   "source": [
    "loss_e, _ = loss_fn_e(test_batch, test_action_scores)\n",
    "print('loss = ', loss_e)\n",
    "\n",
    "test.assertAlmostEqual(loss_e.item(), -0.8103, delta=1e-2)"
   ]
  },
  {
   "cell_type": "markdown",
   "metadata": {},
   "source": [
    "### Training"
   ]
  },
  {
   "cell_type": "markdown",
   "metadata": {},
   "source": [
    "We'll implement our training procedure as follows:\n",
    "\n",
    "1. Initialize the current policy to be a random policy.\n",
    "1. Sample $N$ trajectories from the environment using the current policy.\n",
    "2. Calculate the estimated $q$-values, $\\hat{q}_{i,t} = \\sum_{t'\\geq t} \\gamma^{t'}r_{i,t'+1}$ for each trajectory $i$.\n",
    "3. Calculate policy gradient estimate $\\hat\\grad\\mathcal{L}(\\vec{\\theta})$ as defined above.\n",
    "4. Perform SGD update $\\vec{\\theta}\\leftarrow\\vec{\\theta}-\\eta\\hat\\grad\\mathcal{L}(\\vec{\\theta})$.\n",
    "5. Repeat from step 2.\n",
    "\n",
    "This is known as the **REINFORCE** algorithm."
   ]
  },
  {
   "cell_type": "markdown",
   "metadata": {},
   "source": [
    "Fortunately, we've already implemented everything we need for steps 1-4 so we need only a bit more code to put it all together.\n",
    "\n",
    "The following block implements a wrapper, `train_pg` to create all the objects we need in order to train our policy gradient model.\n"
   ]
  },
  {
   "cell_type": "code",
   "execution_count": null,
   "metadata": {},
   "outputs": [],
   "source": [
    "import hw4.answers\n",
    "from functools import partial\n",
    "\n",
    "ENV_NAME = \"Beresheet-v2\"\n",
    "\n",
    "def agent_fn_train(agent_type, p_net, seed, envs_dict):\n",
    "    winfo = torch.utils.data.get_worker_info()\n",
    "    wid = winfo.id if winfo else 0\n",
    "    seed = seed + wid if seed else wid\n",
    "\n",
    "    env = gym.make(ENV_NAME)\n",
    "    envs_dict[wid] = env\n",
    "    env.seed(seed)\n",
    "    np.random.seed(seed)\n",
    "    torch.manual_seed(seed)\n",
    "\n",
    "    return agent_type(env, p_net)\n",
    "\n",
    "def train_rl(agent_type, net_type, loss_fns, hp, seed=None, checkpoints_file=None, **train_kw):\n",
    "    print(f'hyperparams: {hp}')\n",
    "    \n",
    "    envs = {}\n",
    "    p_net = net_type(ENV_N_OBSERVATIONS, ENV_N_ACTIONS, **hp)\n",
    "    p_net.share_memory()\n",
    "    agent_fn = partial(agent_fn_train, agent_type, p_net, seed, envs)\n",
    "    \n",
    "    dataset = hw4data.TrainBatchDataset(agent_fn, hp['batch_size'], hp['gamma'])\n",
    "    dataloader = DataLoader(\n",
    "        dataset, batch_size=None, num_workers=hp['num_workers'],\n",
    "        multiprocessing_context='fork' if hp['num_workers'] > 0 else None\n",
    "    )\n",
    "    optimizer = optim.Adam(p_net.parameters(), lr=hp['learn_rate'], eps=hp['eps'])\n",
    "    \n",
    "    trainer = hw4pg.PolicyTrainer(p_net, optimizer, loss_fns, dataloader, checkpoints_file)\n",
    "    try:\n",
    "        trainer.train(**train_kw)\n",
    "    except KeyboardInterrupt as e:\n",
    "        print('Training interrupted by user.')\n",
    "    finally:\n",
    "        for env in envs.values():\n",
    "            env.close()\n",
    "\n",
    "    # Include final model state\n",
    "    training_data = trainer.training_data\n",
    "    training_data['model_state'] = p_net.state_dict()\n",
    "    return training_data\n",
    "    \n",
    "def train_pg(baseline=False, entropy=False, **train_kwargs):\n",
    "    hp = hw4.answers.part1_pg_hyperparams()\n",
    "    \n",
    "    loss_fns = []\n",
    "    if baseline:\n",
    "        loss_fns.append(hw4pg.BaselinePolicyGradientLoss())\n",
    "    else:\n",
    "        loss_fns.append(hw4pg.VanillaPolicyGradientLoss())\n",
    "    if entropy:\n",
    "        loss_fns.append(hw4pg.ActionEntropyLoss(ENV_N_ACTIONS, hp['beta']))\n",
    "\n",
    "    return train_rl(hw4pg.PolicyAgent, hw4pg.PolicyNet, loss_fns, hp, **train_kwargs)"
   ]
  },
  {
   "cell_type": "markdown",
   "metadata": {},
   "source": [
    "The `PolicyTrainer` class implements the training loop, collects the losses and rewards and provides some useful checkpointing functionality.\n",
    "The training loop will generate batches of episodes and train on them until either:\n",
    "- The average total reward from the last `running_mean_len` episodes is greater than the `target_reward`, OR\n",
    "- The number of generated episodes reached `max_episodes`.\n",
    "\n",
    "Most of this class is already implemented for you. "
   ]
  },
  {
   "cell_type": "markdown",
   "metadata": {},
   "source": [
    "**TODO**:\n",
    "1. Complete the training loop by implementing the `train_batch()` method of the `PolicyTrainer`.\n",
    "2. Tweak the hyperparameters in the `part1_pg_hyperparams()` function within the `hw4/answers.py` module as needed. You get some sane defaults."
   ]
  },
  {
   "cell_type": "markdown",
   "metadata": {},
   "source": [
    "Let's check whether our model is actually training.\n",
    "We'll try to reach a very low (bad) target reward, just as a sanity check to see that training works.\n",
    "Your model should be able to reach this target reward within a few batches.\n",
    "\n",
    "You can increase the target reward and use this block to manually tweak your model and hyperparameters a few times."
   ]
  },
  {
   "cell_type": "code",
   "execution_count": null,
   "metadata": {},
   "outputs": [],
   "source": [
    "target_reward = -140 # VERY LOW target\n",
    "train_data = train_pg(target_reward=target_reward, seed=SEED, max_episodes=2000, running_mean_len=10)\n",
    "\n",
    "test.assertGreater(train_data['mean_reward'][-1], target_reward)"
   ]
  },
  {
   "cell_type": "markdown",
   "metadata": {},
   "source": [
    "### Experimenting with different losses"
   ]
  },
  {
   "cell_type": "markdown",
   "metadata": {},
   "source": [
    "We'll now run a few experiments to see the effect of diferent loss functions on the training dynamics. Namely, we'll try:\n",
    "1. Vanilla PG (`vpg`): No baseline, no entropy\n",
    "2. Baseline PG (`bpg`): Baseline, no entropy loss\n",
    "3. Entropy PG (`epg`): No baseline, with entropy loss\n",
    "3. Combined PG (`cpg`): Baseline, with entropy loss"
   ]
  },
  {
   "cell_type": "code",
   "execution_count": null,
   "metadata": {},
   "outputs": [],
   "source": [
    "from collections import namedtuple\n",
    "from pprint import pprint\n",
    "import itertools as it\n",
    "\n",
    "\n",
    "ExpConfig = namedtuple('ExpConfig', ('name','baseline','entropy'))\n",
    "\n",
    "def exp_configs():\n",
    "    exp_names = ('vpg', 'epg', 'bpg', 'cpg')\n",
    "    z = zip(exp_names, it.product((False, True), (False, True)))\n",
    "    return (ExpConfig(n, b, e) for (n, (b, e)) in z)\n",
    "\n",
    "pprint(list(exp_configs()))"
   ]
  },
  {
   "cell_type": "markdown",
   "metadata": {},
   "source": [
    "We'll save the training data from each experiment for plotting."
   ]
  },
  {
   "cell_type": "code",
   "execution_count": null,
   "metadata": {},
   "outputs": [],
   "source": [
    "import pickle\n",
    "\n",
    "def dump_training_data(data, filename):\n",
    "    os.makedirs(os.path.dirname(filename), exist_ok=True)\n",
    "    with open(filename, mode='wb') as file:\n",
    "        pickle.dump(data, file)\n",
    "        \n",
    "def load_training_data(filename):\n",
    "    with open(filename, mode='rb') as file:\n",
    "        return pickle.load(file)"
   ]
  },
  {
   "cell_type": "markdown",
   "metadata": {},
   "source": [
    "Let's run the experiments! We'll run each configuration for a fixed number of episodes so that we can compare them.\n",
    "\n",
    "Notes:\n",
    "1. Until your models start working, you can decrease the number of episodes for each experiment, or only run one experiment.\n",
    "2.  The results will be saved in a file. To re-run the experiments, you can set `force_run` to `True`."
   ]
  },
  {
   "cell_type": "code",
   "execution_count": null,
   "metadata": {},
   "outputs": [],
   "source": [
    "import math\n",
    "\n",
    "exp_max_episodes = 4000\n",
    "\n",
    "results = {}\n",
    "training_data_filename = os.path.join('results', f'part1_exp.dat')\n",
    "\n",
    "# Set to True to force re-run (careful! will delete old experiment results)\n",
    "force_run = False\n",
    "\n",
    "# Skip running if results file exists.\n",
    "if os.path.isfile(training_data_filename) and not force_run:\n",
    "    print(f'=== results file {training_data_filename} exists, skipping experiments.')\n",
    "    results = load_training_data(training_data_filename)\n",
    "    \n",
    "else:\n",
    "    for n, b, e in exp_configs():\n",
    "        print(f'=== Experiment {n}')\n",
    "        results[n] = train_pg(baseline=b, entropy=e, max_episodes=exp_max_episodes, post_batch_fn=None)\n",
    "        \n",
    "    dump_training_data(results, training_data_filename)"
   ]
  },
  {
   "cell_type": "code",
   "execution_count": null,
   "metadata": {},
   "outputs": [],
   "source": [
    "def plot_experiment_results(results, fig=None):\n",
    "    if fig is None:\n",
    "        fig, _ = plt.subplots(nrows=2, ncols=2, sharex=True, figsize=(18,12))\n",
    "    for i, plot_type in enumerate(('loss_p', 'baseline', 'loss_e', 'mean_reward')):\n",
    "        ax = fig.axes[i]\n",
    "        for exp_name, exp_res in results.items():\n",
    "            if plot_type not in exp_res:\n",
    "                continue\n",
    "            ax.plot(exp_res['episode_num'], exp_res[plot_type], label=exp_name)\n",
    "        ax.set_title(plot_type)\n",
    "        ax.set_xlabel('episode')\n",
    "        ax.legend()\n",
    "    return fig\n",
    "    \n",
    "experiments_results_fig = plot_experiment_results(results)"
   ]
  },
  {
   "cell_type": "markdown",
   "metadata": {},
   "source": [
    "You should see positive training dynamics in the graphs (reward going up).\n",
    "If you don't, use them to further update your model or hyperparams.\n",
    "\n",
    "To pass the test, you'll need to get a best total mean reward of at least 10 in the fixed number of epochs using the combined loss.\n",
    "It's possible to get much higher (over 100)."
   ]
  },
  {
   "cell_type": "code",
   "execution_count": null,
   "metadata": {},
   "outputs": [],
   "source": [
    "best_cpg_mean_reward = max(results['cpg']['mean_reward'])\n",
    "print(f'Best CPG mean reward: {best_cpg_mean_reward:.2f}')\n",
    "\n",
    "test.assertGreater(best_cpg_mean_reward, 10)"
   ]
  },
  {
   "cell_type": "markdown",
   "metadata": {},
   "source": [
    "Now let's take a look at a gameplay video of our `cpg` model after the short training!"
   ]
  },
  {
   "cell_type": "code",
   "execution_count": null,
   "metadata": {},
   "outputs": [],
   "source": [
    "hp = hw4.answers.part1_pg_hyperparams()\n",
    "p_net_cpg = hw4pg.PolicyNet.build_for_env(env, **hp)\n",
    "p_net_cpg.load_state_dict(results['cpg']['model_state'])\n",
    "\n",
    "env, n_steps, reward = hw4pg.PolicyAgent.monitor_episode(ENV_NAME, p_net_cpg)\n",
    "print(f'{n_steps} steps, total reward: {reward:.2f}')\n",
    "show_monitor_video(env)"
   ]
  },
  {
   "cell_type": "markdown",
   "metadata": {},
   "source": [
    "## Advantage Actor-Critic (AAC)\n",
    "<a id=part1_2></a>"
   ]
  },
  {
   "cell_type": "markdown",
   "metadata": {},
   "source": [
    "We have seen that the policy-gradient loss can be interpreted as a log-likelihood of the policy term\n",
    "(selecting a specific action at a specific state), weighted by the future rewards of that choice of action.\n",
    "\n",
    "However, naïvely weighting by rewards has significant drawbacks in terms of the variance of the resulting gradient.\n",
    "We addressed this by adding a simple baseline term which represented our \"expected reward\" so that we increase probability of actions\n",
    "leading to trajectories which exceed this expectation and vice-versa.\n",
    "\n",
    "In this part we'll explore a more powerful baseline, which is the idea behind the AAC method."
   ]
  },
  {
   "cell_type": "markdown",
   "metadata": {},
   "source": [
    "### The advantage function"
   ]
  },
  {
   "cell_type": "markdown",
   "metadata": {},
   "source": [
    "Recall the definition of the state-value function $v_{\\pi}(s)$ and action-value function $q_{\\pi}(s,a)$:\n",
    "\n",
    "$$\n",
    "\\begin{align}\n",
    "v_{\\pi}(s) &= \\E{g(\\tau)|s_0 = s,\\pi} \\\\\n",
    "q_{\\pi}(s,a) &= \\E{g(\\tau)|s_0 = s,a_0=a,\\pi}.\n",
    "\\end{align}\n",
    "$$\n",
    "\n",
    "Both these functions represent the value of the state $s$. However, $v_\\pi$ averages over the first action according to the policy,\n",
    "while $q_\\pi$ fixes the first action and then continues according to the policy."
   ]
  },
  {
   "cell_type": "markdown",
   "metadata": {},
   "source": [
    "Their difference is known as the **advantage function**:\n",
    "$$\n",
    "a_\\pi(s,a) = q_\\pi(s,a)-v_\\pi(s).\n",
    "$$\n",
    "\n",
    "If $a_\\pi(s,a)>0$ it means that it's better (in expectation) to take action $a$ in state $s$ compared to the average action.\n",
    "In other words, $a_\\pi(s,a)$ represents the *advantage* of using action $a$ in state $s$ compared to the others."
   ]
  },
  {
   "cell_type": "markdown",
   "metadata": {},
   "source": [
    "So far we have used an estimate for $q_\\pi$ as our weighting term for the log-policy, with a fixed baseline per batch.\n",
    "\n",
    "$$\n",
    "\\hat\\grad\\mathcal{L}_{\\text{BPG}}(\\vec{\\theta})\n",
    "=-\\frac{1}{N}\\sum_{i=1}^{N}\\sum_{t\\geq0} \\left(\\hat{q}_{i,t}-b\\right) \\grad\\log \\pi_{\\vec{\\theta}}(a_{i,t}|s_{i,t}).\n",
    "$$\n"
   ]
  },
  {
   "cell_type": "markdown",
   "metadata": {},
   "source": [
    "Now, we will use the state value as a baseline, so that an estimate of the advantage function is our weighting term:\n",
    "\n",
    "$$\n",
    "\\hat\\grad\\mathcal{L}_{\\text{AAC}}(\\vec{\\theta})\n",
    "=-\\frac{1}{N}\\sum_{i=1}^{N}\\sum_{t\\geq0} \\left(\\hat{q}_{i,t}-v_\\pi(s_t)\\right) \\grad\\log \\pi_{\\vec{\\theta}}(a_{i,t}|s_{i,t}).\n",
    "$$\n",
    "\n",
    "Intuitively, using the advantage function makes sense because it means we're weighting our policy's actions according to\n",
    "how advantageous they are compared to other possible actions."
   ]
  },
  {
   "cell_type": "markdown",
   "metadata": {},
   "source": [
    "But how will we know $v_\\pi(s)$? We'll learn it of course, using another neural network.\n",
    "This is known as actor-critic learning. We simultaneously learn the policy (actor) and the value of states (critic).\n",
    "We'll treat it as a regression task: given a state $s_t$, our state-value network will output $\\hat{v}_\\pi(s_t)$,\n",
    "an estimate of the actual unknown state-value.\n",
    "Our regression targets will be the discounted rewards, $\\hat{q}_{i,t}$ (see question 2),\n",
    "and we can use a simple MSE as the loss function,\n",
    "$$\n",
    "\\mathcal{L}_{\\text{SV}} = \\frac{1}{N}\\sum_{i=1}^{N}\\sum_{t\\geq0}\\left(\\hat{v}_\\pi(s_t) - \\hat{q}_{i,t}\\right)^2.\n",
    "$$\n"
   ]
  },
  {
   "cell_type": "markdown",
   "metadata": {},
   "source": [
    "### Implementation"
   ]
  },
  {
   "cell_type": "markdown",
   "metadata": {},
   "source": [
    "We'll build heavily on our implementation of the regular policy-gradient method, and just add a new model class and a new loss class, with a small modification to the agent."
   ]
  },
  {
   "cell_type": "markdown",
   "metadata": {},
   "source": [
    "Let's start with the model. It will accept a state, and return action scores (as before), but also the value of that state.\n",
    "You can experiment with a dual-head network that has a shared base, or implement two separate parts within the network.\n",
    "\n",
    "**TODO**:\n",
    "1. Implement the model as the `AACPolicyNet` class in the `hw4/rl_ac.py` module.\n",
    "1. Set the hyperparameters in the `part1_aac_hyperparams()` function of the `hw4.answers` module."
   ]
  },
  {
   "cell_type": "code",
   "execution_count": null,
   "metadata": {},
   "outputs": [],
   "source": [
    "import hw4.rl_ac as hw4ac\n",
    "\n",
    "hp = hw4.answers.part1_aac_hyperparams()\n",
    "pv_net = hw4ac.AACPolicyNet.build_for_env(env, device, **hp)\n",
    "pv_net"
   ]
  },
  {
   "cell_type": "markdown",
   "metadata": {},
   "source": [
    "**TODO**: Complete the implementation of the agent class, `AACPolicyAgent`, in the `hw4/rl_ac.py` module."
   ]
  },
  {
   "cell_type": "code",
   "execution_count": null,
   "metadata": {},
   "outputs": [],
   "source": [
    "agent = hw4ac.AACPolicyAgent(env, pv_net, device)\n",
    "exp = agent.step()\n",
    "\n",
    "test.assertIsInstance(exp, hw4pg.Experience)\n",
    "print(exp)"
   ]
  },
  {
   "cell_type": "markdown",
   "metadata": {},
   "source": [
    "**TODO**: Implement the AAC loss function as the class `AACPolicyGradientLoss` in the `hw4/rl_ac.py` module."
   ]
  },
  {
   "cell_type": "code",
   "execution_count": null,
   "metadata": {},
   "outputs": [],
   "source": [
    "loss_fn_aac = hw4ac.AACPolicyGradientLoss(delta=1.)\n",
    "test_state_values = torch.ones(test_action_scores.shape[0], 1)\n",
    "loss_t, loss_dict = loss_fn_aac(test_batch, (test_action_scores, test_state_values))\n",
    "\n",
    "print(f'{loss_dict=}')\n",
    "test.assertAlmostEqual(loss_dict['adv_m'], -23.191, delta=1e-2)\n",
    "test.assertAlmostEqual(loss_t.item(), 1183.948, delta=1e-2)"
   ]
  },
  {
   "cell_type": "markdown",
   "metadata": {},
   "source": [
    "### Experimentation"
   ]
  },
  {
   "cell_type": "markdown",
   "metadata": {},
   "source": [
    "Let's run the same experiment as before, but with the AAC method and compare the results."
   ]
  },
  {
   "cell_type": "code",
   "execution_count": null,
   "metadata": {},
   "outputs": [],
   "source": [
    "def train_aac(baseline=False, entropy=False, **train_kwargs):\n",
    "    hp = hw4.answers.part1_aac_hyperparams()\n",
    "    loss_fns = [hw4ac.AACPolicyGradientLoss(hp['delta']), hw4pg.ActionEntropyLoss(ENV_N_ACTIONS, hp['beta'])]\n",
    "    return train_rl(hw4ac.AACPolicyAgent, hw4ac.AACPolicyNet, loss_fns, hp, **train_kwargs)"
   ]
  },
  {
   "cell_type": "code",
   "execution_count": null,
   "metadata": {},
   "outputs": [],
   "source": [
    "training_data_filename = os.path.join('results', f'part1_exp_aac.dat')\n",
    "\n",
    "# Set to True to force re-run (careful, will delete old experiment results)\n",
    "force_run = False\n",
    "\n",
    "if os.path.isfile(training_data_filename) and not force_run:\n",
    "    print(f'=== results file {training_data_filename} exists, skipping experiments.')\n",
    "    results_aac = load_training_data(training_data_filename)\n",
    "    \n",
    "else:\n",
    "    print(f'=== Running AAC experiment')\n",
    "    training_data = train_aac(max_episodes=exp_max_episodes)\n",
    "    results_aac = dict(aac=training_data)\n",
    "    dump_training_data(results_aac, training_data_filename)"
   ]
  },
  {
   "cell_type": "code",
   "execution_count": null,
   "metadata": {},
   "outputs": [],
   "source": [
    "experiments_results_fig = plot_experiment_results(results)\n",
    "plot_experiment_results(results_aac, fig=experiments_results_fig);"
   ]
  },
  {
   "cell_type": "markdown",
   "metadata": {},
   "source": [
    "You should get better results with the AAC method, so this time the bar is higher (again, you should aim for a mean reward of 100+).\n",
    "Compare the graphs with combined PG method and see if they make sense."
   ]
  },
  {
   "cell_type": "code",
   "execution_count": null,
   "metadata": {},
   "outputs": [],
   "source": [
    "best_aac_mean_reward = max(results_aac['aac']['mean_reward'])\n",
    "print(f'Best AAC mean reward: {best_aac_mean_reward:.2f}')\n",
    "\n",
    "test.assertGreater(best_aac_mean_reward, 50)"
   ]
  },
  {
   "cell_type": "markdown",
   "metadata": {},
   "source": [
    "### Final model training and visualization"
   ]
  },
  {
   "cell_type": "markdown",
   "metadata": {},
   "source": [
    "Now, using your best model and hyperparams, let's train model for much longer and see the performance.\n",
    "Just for fun, we'll also visualize an episode every now and then so that we can see how well the agent is playing."
   ]
  },
  {
   "cell_type": "markdown",
   "metadata": {},
   "source": [
    "**TODO**:\n",
    "- Run the following block to train.\n",
    "- Tweak model or hyperparams as necessary.\n",
    "- Aim for high mean reward, at least 150+. It's possible to get over 200.\n",
    "- When training is done and you're satisfied with the model's outputs, rename the checkpoint file by adding `_final` to the file name.\n",
    "  This will cause the block to skip training and instead load your saved model when running the homework submission script.\n",
    "  Note that your submission zip file will not include the checkpoint file. This is OK."
   ]
  },
  {
   "cell_type": "code",
   "execution_count": null,
   "metadata": {},
   "outputs": [],
   "source": [
    "import IPython.display\n",
    "\n",
    "CHECKPOINTS_FILE = f'checkpoints/{ENV_NAME}-ac.dat'\n",
    "CHECKPOINTS_FILE_FINAL = f'checkpoints/{ENV_NAME}-ac_final.dat'\n",
    "TARGET_REWARD = 125\n",
    "MAX_EPISODES = 15_000\n",
    "\n",
    "def post_batch_fn(batch_idx, p_net, batch, print_every=20, final=False):\n",
    "    if not final and batch_idx % print_every != 0:\n",
    "        return\n",
    "    env, n_steps, reward = hw4ac.AACPolicyAgent.monitor_episode(ENV_NAME, p_net)\n",
    "    html = show_monitor_video(env, width=\"500\")\n",
    "    IPython.display.clear_output(wait=True)\n",
    "    print(f'Monitor@#{batch_idx}: n_steps={n_steps}, total_reward={reward:.3f}, final={final}')\n",
    "    IPython.display.display_html(html)\n",
    "    \n",
    "    \n",
    "if os.path.isfile(CHECKPOINTS_FILE_FINAL):\n",
    "    print(f'=== {CHECKPOINTS_FILE_FINAL} exists, skipping training...')\n",
    "    checkpoint_data = torch.load(CHECKPOINTS_FILE_FINAL)\n",
    "    hp = hw4.answers.part1_aac_hyperparams()\n",
    "    pv_net = hw4ac.AACPolicyNet.build_for_env(env, **hp)\n",
    "    pv_net.load_state_dict(checkpoint_data['params'])\n",
    "    print(f'=== Running best model...')\n",
    "    env, n_steps, reward = hw4ac.AACPolicyAgent.monitor_episode(ENV_NAME, pv_net)\n",
    "    print(f'=== Best model ran for {n_steps} steps. Total reward: {reward:.2f}')\n",
    "    IPython.display.display_html(show_monitor_video(env))\n",
    "    best_mean_reward = checkpoint_data[\"best_mean_reward\"]\n",
    "else:\n",
    "    print(f'=== Starting training...')\n",
    "    train_data = train_aac(TARGET_REWARD, max_episodes=MAX_EPISODES,\n",
    "                           seed=None, checkpoints_file=CHECKPOINTS_FILE, post_batch_fn=post_batch_fn)\n",
    "    print(f'=== Done, ', end='')\n",
    "    best_mean_reward = train_data[\"best_mean_reward\"][-1]\n",
    "    print(f'num_episodes={train_data[\"episode_num\"][-1]}, best_mean_reward={best_mean_reward:.1f}')\n",
    "          \n",
    "test.assertGreaterEqual(best_mean_reward, TARGET_REWARD)"
   ]
  },
  {
   "cell_type": "markdown",
   "metadata": {},
   "source": [
    "## Questions\n",
    "<a id=part1_3></a>"
   ]
  },
  {
   "cell_type": "markdown",
   "metadata": {},
   "source": [
    "**TODO**: Answer the following questions. Write your answers in the appropriate variables in the module `hw4/answers.py`."
   ]
  },
  {
   "cell_type": "code",
   "execution_count": null,
   "metadata": {},
   "outputs": [],
   "source": [
    "from cs236781.answers import display_answer\n",
    "import hw4.answers"
   ]
  },
  {
   "cell_type": "markdown",
   "metadata": {},
   "source": [
    "### Question 1\n",
    "\n",
    "Explain qualitatively why subtracting a baseline in the policy-gradient helps reduce it's variance.\n",
    "Specifically, give an example where it helps."
   ]
  },
  {
   "cell_type": "code",
   "execution_count": null,
   "metadata": {},
   "outputs": [],
   "source": [
    "display_answer(hw4.answers.part1_q1)"
   ]
  },
  {
   "cell_type": "markdown",
   "metadata": {},
   "source": [
    "### Question 2\n",
    "\n",
    "In AAC, when using the estimated q-values as regression targets for our state-values, why do we get a valid approximation?\n",
    "Hint: how is $v_\\pi(s)$ expressed in terms of $q_\\pi(s,a)$?"
   ]
  },
  {
   "cell_type": "code",
   "execution_count": null,
   "metadata": {},
   "outputs": [],
   "source": [
    "display_answer(hw4.answers.part1_q2)"
   ]
  },
  {
   "cell_type": "markdown",
   "metadata": {},
   "source": [
    "### Question 3\n",
    "\n",
    "1. Analyze and explain the graphs you got in first experiment run.\n",
    "2. Compare the experiment graphs you got with the AAC method to the regular PG method (`cpg`)."
   ]
  },
  {
   "cell_type": "code",
   "execution_count": null,
   "metadata": {},
   "outputs": [],
   "source": [
    "display_answer(hw4.answers.part1_q3)"
   ]
  }
 ],
 "metadata": {
  "kernelspec": {
   "display_name": "Python 3",
   "language": "python",
   "name": "python3"
  },
  "language_info": {
   "codemirror_mode": {
    "name": "ipython",
    "version": 3
   },
   "file_extension": ".py",
   "mimetype": "text/x-python",
   "name": "python",
   "nbconvert_exporter": "python",
   "pygments_lexer": "ipython3",
   "version": "3.8.6"
  }
 },
 "nbformat": 4,
 "nbformat_minor": 4
}
