{
 "cells": [
  {
   "cell_type": "markdown",
   "metadata": {},
   "source": [
    "$$\n",
    "\\newcommand{\\mat}[1]{\\boldsymbol {#1}}\n",
    "\\newcommand{\\mattr}[1]{\\boldsymbol {#1}^\\top}\n",
    "\\newcommand{\\matinv}[1]{\\boldsymbol {#1}^{-1}}\n",
    "\\newcommand{\\vec}[1]{\\boldsymbol {#1}}\n",
    "\\newcommand{\\vectr}[1]{\\boldsymbol {#1}^\\top}\n",
    "\\newcommand{\\rvar}[1]{\\mathrm {#1}}\n",
    "\\newcommand{\\rvec}[1]{\\boldsymbol{\\mathrm{#1}}}\n",
    "\\newcommand{\\diag}{\\mathop{\\mathrm {diag}}}\n",
    "\\newcommand{\\set}[1]{\\mathbb {#1}}\n",
    "\\newcommand{\\cset}[1]{\\mathcal{#1}}\n",
    "\\newcommand{\\norm}[1]{\\left\\lVert#1\\right\\rVert}\n",
    "\\newcommand{\\pderiv}[2]{\\frac{\\partial #1}{\\partial #2}}\n",
    "\\newcommand{\\bb}[1]{\\boldsymbol{#1}}\n",
    "\\newcommand{\\E}[2][]{\\mathbb{E}_{#1}\\left[#2\\right]}\n",
    "\\newcommand{\\ip}[3]{\\left<#1,#2\\right>_{#3}}\n",
    "\\newcommand{\\given}[]{\\,\\middle\\vert\\,}\n",
    "\\newcommand{\\DKL}[2]{\\cset{D}_{\\text{KL}}\\left(#1\\,\\Vert\\, #2\\right)}\n",
    "\\newcommand{\\grad}[]{\\nabla}\n",
    "$$\n",
    "# Part 1: Deep Reinforcement Learning\n",
    "<a id=part1></a>"
   ]
  },
  {
   "cell_type": "markdown",
   "metadata": {},
   "source": [
    "In the tutorial we have seen value-based reinforcement learning, in which we learn to approximate the action-value function $q(s,a)$.\n",
    "\n",
    "In this exercise we'll explore a different approach, directly learning the agent's policy distribution, $\\pi(a|s)$\n",
    "by using *policy gradients*, in order to safely land on the moon!"
   ]
  },
  {
   "cell_type": "code",
   "execution_count": 1,
   "metadata": {},
   "outputs": [],
   "source": [
    "%load_ext autoreload\n",
    "%autoreload 2\n",
    "%matplotlib inline\n",
    "\n",
    "import unittest\n",
    "import os\n",
    "import sys\n",
    "import pathlib\n",
    "import urllib\n",
    "import shutil\n",
    "import re\n",
    "\n",
    "import numpy as np\n",
    "import torch\n",
    "import torch.nn as nn\n",
    "import torch.optim as optim\n",
    "import matplotlib.pyplot as plt"
   ]
  },
  {
   "cell_type": "code",
   "execution_count": 2,
   "metadata": {},
   "outputs": [
    {
     "name": "stdout",
     "output_type": "stream",
     "text": [
      "Using device: cpu\n"
     ]
    }
   ],
   "source": [
    "test = unittest.TestCase()\n",
    "plt.rcParams.update({'font.size': 12})\n",
    "device = torch.device('cuda' if torch.cuda.is_available() else 'cpu')\n",
    "\n",
    "# Prefer CPU, GPU won't help much in this assignment\n",
    "device = 'cpu'\n",
    "print('Using device:', device)\n",
    "\n",
    "# Seed for deterministic tests\n",
    "SEED = 42"
   ]
  },
  {
   "cell_type": "markdown",
   "metadata": {},
   "source": [
    "Some technical notes before we begin:\n",
    "\n",
    "- This part does not require a GPU. We won't need large models, and the computation bottleneck will be the generation of episodes to train on.\n",
    "- In order to run this notebook on the server, you must prepend the `xvfb-run` command to create a virtual screen. For example,\n",
    "    - to run this notebook with `srun` do\n",
    "        ```\n",
    "        srun -c2 --gres=gpu:1 xvfb-run -a -s \"-screen 0 1440x900x24\" python main.py run-nb <filename>\n",
    "        ```\n",
    "    - To run the submission script, do\n",
    "        ```\n",
    "        srun -c2 xvfb-run -a -s \"-screen 0 1440x900x24\" python main.py prepare-submission ...\n",
    "        ```\n",
    "    - note that we have already included the `xvfb-run` command inside the `jupyter-lab.sh` script, so you can use it as usual with `srun`.\n",
    "    and so on.\n",
    "- The OpenAI `gym` library is not officially supported on windows. However it should be possible to install and run the necessary environment for this exercise. However, we cannot provide you with technical support for this. If you have trouble installing locally, we suggest running on the course server."
   ]
  },
  {
   "cell_type": "markdown",
   "metadata": {},
   "source": [
    "## Policy gradients\n",
    "<a id=part1_1></a>"
   ]
  },
  {
   "cell_type": "markdown",
   "metadata": {},
   "source": [
    "Recall from the tutorial that we define the **policy** of an agent as the conditional distribution,\n",
    "$$\n",
    "\\pi(a|s) = \\Pr(a_t=a\\vert s_t=s),\n",
    "$$\n",
    "which defines how likely the agent is to take action $a$ at state $s$.\n",
    "\n",
    "Furthermore we define the action-value function,\n",
    "$$\n",
    "q_{\\pi}(s,a) = \\E{g_t(\\tau)|s_t = s,a_t=a,\\pi}\n",
    "$$\n",
    "where \n",
    "$$\n",
    "g_t(\\tau) = r_{t+1}+\\gamma r_{t+2} + \\dots = \\sum_{k=0}^{\\infty} \\gamma^k r_{t+1+k},\n",
    "$$\n",
    "is the total discounted reward of a specific trajectory $\\tau$ from time $t$, and the expectation in $q$ is over all possible\n",
    "trajectories,\n",
    "$\n",
    "\\tau=\\left\\{ (s_0,a_0,r_1,s_1), \\dots (s_T,a_T,r_{T+1},s_{T+1}) \\right\\}.\n",
    "$"
   ]
  },
  {
   "cell_type": "markdown",
   "metadata": {},
   "source": [
    "In the tutorial we saw that we can learn a value function starting with some random function and\n",
    "updating it iteratively by using the **Bellman optimality equation**.\n",
    "Given that we have some action-value function, we can immediately create a policy based on that\n",
    "by simply selecting an action which maximize the action-value at the current state, i.e.\n",
    "$$\n",
    "\\pi(a|s) =\n",
    "\\begin{cases}\n",
    "1, & a = \\arg\\max_{a'\\in\\cset{A}} q(s,a') \\\\\n",
    "0, & \\text{else}\n",
    "\\end{cases}.\n",
    "$$\n",
    "This is called $q$-learning. This approach aims to obtain a policy indirectly through the action-value function.\n",
    "Yet, in most cases we don't actually care about knowing the value of particular states,\n",
    "since all we need is a good policy for our agent. \n",
    "\n",
    "Here we'll take a different approach and learn a policy distribution $\\pi(a|s)$ directly - by using **policy gradients**."
   ]
  },
  {
   "cell_type": "markdown",
   "metadata": {},
   "source": [
    "### Formalism"
   ]
  },
  {
   "cell_type": "markdown",
   "metadata": {},
   "source": [
    "We define a parametric policy, $\\pi_\\vec{\\theta}(a|s)$, and maximize total discounted reward (or minimize the negative reward):\n",
    "$$\n",
    "\\mathcal{L}(\\vec{\\theta})=\\E[\\tau]{-g(\\tau)|\\pi_\\vec{\\theta}} = -\\int g(\\tau)p(\\tau|\\vec{\\theta})d\\tau,\n",
    "$$\n",
    "where $p(\\tau|\\vec{\\theta})$ is the probability of a specific trajectory $\\tau$ under the policy defined by $\\vec{\\theta}$.\n"
   ]
  },
  {
   "cell_type": "markdown",
   "metadata": {},
   "source": [
    "Since we want to find the parameters $\\vec{\\theta}$ which minimize $\\mathcal{L}(\\vec{\\theta})$, we'll compute the gradient w.r.t. $\\vec{\\theta}$:\n",
    "$$\n",
    "\\grad\\mathcal{L}(\\vec{\\theta}) = -\\int g(\\tau)\\grad p(\\tau|\\vec{\\theta})d\\tau.\n",
    "$$\n",
    "\n",
    "Unfortunately, if we try to write $p(\\tau|\\vec{\\theta})$ explicitly,\n",
    "we find that computing it's gradient with respect to $\\vec{\\theta}$ is\n",
    "quite intractable due to a huge product of terms depending on $\\vec{\\theta}$:\n",
    "$$\n",
    "p(\\tau|\\vec{\\theta})=p\\left(\\left\\{ (s_t,a_t,r_{t+1},s_{t+1})\\right\\}_{t\\geq0}\\given\\vec{\\theta}\\right)\n",
    "=p(s_0)\\prod_{t\\geq0} \\pi_{\\vec{\\theta}}(a_t|s_t)p(s_{t+1}|s_t,a_t).\n",
    "$$"
   ]
  },
  {
   "cell_type": "markdown",
   "metadata": {},
   "source": [
    "However, by using the fact that $\\grad_{x}\\log(f(x))=\\frac{\\grad_{x}f(x)}{f(x)}$, we can convert the product into a sum:\n",
    "$$\n",
    "\\begin{align}\n",
    "\\grad\\mathcal{L}(\\vec{\\theta})\n",
    "&= -\\int g(\\tau)\\grad p(\\tau|\\vec{\\theta})d\\tau\n",
    "= -\\int g(\\tau)\\frac{\\grad p(\\tau|\\vec{\\theta})}{p(\\tau|\\vec{\\theta})}p(\\tau|\\vec{\\theta})d\\tau \\\\\n",
    "&= -\\int g(\\tau)\\grad\\log\\left(p(\\tau|\\vec{\\theta})\\right)p(\\tau|\\vec{\\theta})d\\tau \\\\\n",
    "&= -\\int g(\\tau)\\grad\\log\\left( p(s_0)\\prod_{t\\geq0} \\pi_{\\vec{\\theta}}(a_t|s_t)p(s_{t+1}|s_t,a_t) \\right)\n",
    "p(\\tau|\\vec{\\theta})d\\tau \\\\\n",
    "&= -\\int g(\\tau)\\grad\\left( \\log p(s_0) + \\sum_{t\\geq0} \\log \\pi_{\\vec{\\theta}}(a_t|s_t) + \n",
    "\\sum_{t\\geq0}\\log p(s_{t+1}|s_t,a_t) \\right) p(\\tau|\\vec{\\theta})d\\tau \\\\\n",
    "&= -\\int g(\\tau)\\sum_{t\\geq0} \\grad\\log \\pi_{\\vec{\\theta}}(a_t|s_t) p(\\tau|\\vec{\\theta})d\\tau \\\\\n",
    "&= \\E[\\tau]{-g(\\tau)\\sum_{t\\geq0} \\grad\\log \\pi_{\\vec{\\theta}}(a_t|s_t)}.\n",
    "\\end{align}\n",
    "$$"
   ]
  },
  {
   "cell_type": "markdown",
   "metadata": {},
   "source": [
    "This is the \"vanilla\" version of the policy gradient. We can interpret is as a weighted log-likelihood function.\n",
    "The log-policy is the log-likelihood term we wish to maximize and the total discounted reward acts as a weight: high-return positive\n",
    "trajectories will cause the probability of actions taken during them to increase, and negative-return trajectories will cause the\n",
    "probabilities of actions taken to decrease.\n",
    "\n",
    "In the following figures we see three trajectories: high-return positive-reward (green), low-return positive-reward (yellow) and negative-return (red) and the action probabilities along the trajectories after the update. Credit: Sergey Levine.\n",
    "\n",
    "|<strong></strong>||\n",
    "|-----| ----|\n",
    "|<img src=\"imgs/pg1.png\" height=\"200\">|<img src=\"imgs/pg2.png\" height=\"200\">|\n"
   ]
  },
  {
   "cell_type": "markdown",
   "metadata": {},
   "source": [
    "The major drawback of the policy-gradient is it's high variance, which causes erratic optimization behavior and therefore slow convergence.\n",
    "One reason for this is that the log-policy weight term, $g(\\tau)$ can vary wildly between different trajectories, even if they're similar in\n",
    "actions. Later on we'll implement the loss and explore some methods of variance reduction."
   ]
  },
  {
   "cell_type": "markdown",
   "metadata": {},
   "source": [
    "### Landing on the moon with policy gradients"
   ]
  },
  {
   "cell_type": "markdown",
   "metadata": {},
   "source": [
    "In the spirit of the recent achievements of the Israeli space industry,\n",
    "we'll apply our reinforcement learning skills to solve a simple game called **LunarLander**.\n",
    "\n",
    "This game is available as an `environment` in OpenAI `gym`.\n",
    "\n",
    "<video loop autoplay src=\"http://gym.openai.com/videos/2019-04-06--My9IiAbqha/LunarLander-v2/original.mp4\" />"
   ]
  },
  {
   "cell_type": "markdown",
   "metadata": {},
   "source": [
    "In this environment, you need to control the lander and get it to land safely on the moon.\n",
    "To do so, you must apply bottom, right or left thrusters (each are either fully on or fully off)\n",
    "and get it to land within the designated zone as quickly as possible and with minimal wasted fuel."
   ]
  },
  {
   "cell_type": "code",
   "execution_count": 3,
   "metadata": {},
   "outputs": [],
   "source": [
    "import gym\n",
    "\n",
    "# Just for fun :) ... but also to re-define the default max number of steps\n",
    "ENV_NAME = 'Beresheet-v2'\n",
    "MAX_EPISODE_STEPS = 300\n",
    "if ENV_NAME not in gym.envs.registry.env_specs:\n",
    "    gym.register(\n",
    "        id=ENV_NAME,\n",
    "        entry_point='gym.envs.box2d:LunarLander',\n",
    "        max_episode_steps=MAX_EPISODE_STEPS,\n",
    "        reward_threshold=200,\n",
    "    )"
   ]
  },
  {
   "cell_type": "code",
   "execution_count": 4,
   "metadata": {},
   "outputs": [
    {
     "name": "stdout",
     "output_type": "stream",
     "text": [
      "<TimeLimit<LunarLander<Beresheet-v2>>>\n",
      "observations space: Box(-inf, inf, (8,), float32)\n",
      "action space: Discrete(4)\n"
     ]
    }
   ],
   "source": [
    "import gym\n",
    "\n",
    "env = gym.make(ENV_NAME)\n",
    "\n",
    "print(env)\n",
    "print(f'observations space: {env.observation_space}')\n",
    "print(f'action space: {env.action_space}')\n",
    "\n",
    "ENV_N_ACTIONS = env.action_space.n\n",
    "ENV_N_OBSERVATIONS = env.observation_space.shape[0]\n"
   ]
  },
  {
   "cell_type": "markdown",
   "metadata": {},
   "source": [
    "The observations at each step is the Lander's position, velocity, angle, angular velocity and ground contact state.\n",
    "The actions are no-op, fire left truster, bottom thruster and right thruster.\n",
    "\n",
    "You are **highly encouraged** to read the [documentation](https://github.com/openai/gym/blob/master/gym/envs/box2d/lunar_lander.py) in the source code of the `LunarLander` environment to understand the reward system,\n",
    "and see how the actions and observations are created."
   ]
  },
  {
   "cell_type": "markdown",
   "metadata": {},
   "source": [
    "### Policy network and Agent"
   ]
  },
  {
   "cell_type": "markdown",
   "metadata": {},
   "source": [
    "Let's start with our policy-model. This will be a simple neural net, which should take an observation and return a score for each possible action."
   ]
  },
  {
   "cell_type": "markdown",
   "metadata": {},
   "source": [
    "**TODO**:\n",
    "1. Implement all methods in the `PolicyNet` class in the `hw4/rl_pg.py` module.\n",
    "   Start small. A simple MLP with a few hidden layers is a good starting point. You can come back and change it later based on the the experiments.  \n",
    "   Notice that we'll use the `build_for_env` method to instantiate a `PolicyNet` based on the configuration of a given environment.\n",
    "2. If you need hyperparameters to configure your model (e.g. number of hidden layers, sizes, etc.), add them in `part1_pg_hyperparams()` in `hw4/answers.py`."
   ]
  },
  {
   "cell_type": "code",
   "execution_count": 5,
   "metadata": {},
   "outputs": [
    {
     "data": {
      "text/plain": [
       "PolicyNet(\n",
       "  (network): Sequential(\n",
       "    (0): Linear(in_features=8, out_features=32, bias=True)\n",
       "    (1): ReLU()\n",
       "    (2): Linear(in_features=32, out_features=32, bias=True)\n",
       "    (3): ReLU()\n",
       "    (4): Linear(in_features=32, out_features=4, bias=True)\n",
       "  )\n",
       ")"
      ]
     },
     "execution_count": 5,
     "metadata": {},
     "output_type": "execute_result"
    }
   ],
   "source": [
    "import hw4.rl_pg as hw4pg\n",
    "import hw4.answers\n",
    "\n",
    "hp = hw4.answers.part1_pg_hyperparams()\n",
    "\n",
    "# You can add keyword-args to this function which will be populated from the\n",
    "# hyperparameters dict.\n",
    "p_net = hw4pg.PolicyNet.build_for_env(env, device, **hp)\n",
    "p_net"
   ]
  },
  {
   "cell_type": "markdown",
   "metadata": {},
   "source": [
    "Now we need an **agent**. The purpose of our agent will be to act according to the current policy and generate experiences.\n",
    "Our `PolicyAgent` will use a `PolicyNet` as the current policy function.\n",
    "\n",
    "\n",
    "We'll also define some extra datatypes to help us represent the data generated by our agent.\n",
    "You can find the `Experience`, `Episode` and `TrainBatch` datatypes in the `hw4/rl_data.py` module."
   ]
  },
  {
   "cell_type": "markdown",
   "metadata": {},
   "source": [
    "**TODO**: Implement the `current_action_distribution()` method of the `PolicyAgent` class in the `hw4/rl_pg.py` module."
   ]
  },
  {
   "cell_type": "code",
   "execution_count": 6,
   "metadata": {},
   "outputs": [
    {
     "name": "stdout",
     "output_type": "stream",
     "text": [
      "tensor([0.2386, 0.3333, 0.2369, 0.1913])\n"
     ]
    }
   ],
   "source": [
    "for i in range (10):\n",
    "    agent = hw4pg.PolicyAgent(env, p_net, device)\n",
    "    d = agent.current_action_distribution()\n",
    "    \n",
    "    test.assertSequenceEqual(d.shape, (env.action_space.n,))\n",
    "    test.assertAlmostEqual(d.sum(), 1.0, delta=1e-5)\n",
    "    \n",
    "print(d)"
   ]
  },
  {
   "cell_type": "markdown",
   "metadata": {},
   "source": [
    "**TODO**: Implement the `step()` method of the `PolicyAgent`."
   ]
  },
  {
   "cell_type": "code",
   "execution_count": 7,
   "metadata": {},
   "outputs": [
    {
     "name": "stdout",
     "output_type": "stream",
     "text": [
      "Experience(state=tensor([-0.0063,  1.4067, -0.6411, -0.1864,  0.0073,  0.1452,  0.0000,  0.0000]), action=2, reward=1.184521405886852, is_done=False)\n"
     ]
    }
   ],
   "source": [
    "agent = hw4pg.PolicyAgent(env, p_net, device)\n",
    "exp = agent.step()\n",
    "\n",
    "test.assertIsInstance(exp, hw4pg.Experience)\n",
    "print(exp)"
   ]
  },
  {
   "cell_type": "markdown",
   "metadata": {},
   "source": [
    "To test our agent, we'll write some code that allows it to play an environment. We'll use the `Monitor`\n",
    "wrapper in `gym` to generate a video of the episode for visual debugging."
   ]
  },
  {
   "cell_type": "markdown",
   "metadata": {},
   "source": [
    "**TODO**: Complete the implementation of the `monitor_episode()` method of the `PolicyAgent`."
   ]
  },
  {
   "cell_type": "code",
   "execution_count": 8,
   "metadata": {},
   "outputs": [],
   "source": [
    "env, n_steps, reward = agent.monitor_episode(ENV_NAME, p_net, device=device)"
   ]
  },
  {
   "cell_type": "markdown",
   "metadata": {},
   "source": [
    "To display the Monitor video in this notebook, we'll use a helper function from our `jupyter_utils` and a small wrapper that extracts the path of the last video file. "
   ]
  },
  {
   "cell_type": "code",
   "execution_count": 9,
   "metadata": {},
   "outputs": [],
   "source": [
    "import cs236781.jupyter_utils as jupyter_utils\n",
    "\n",
    "def show_monitor_video(monitor_env, idx=0, **kw):\n",
    "    # Extract video path\n",
    "    video_path = monitor_env.videos[idx][0]\n",
    "    video_path = os.path.relpath(video_path, start=os.path.curdir)\n",
    "    \n",
    "    # Use helper function to embed the video\n",
    "    return jupyter_utils.show_video_in_notebook(video_path, **kw)"
   ]
  },
  {
   "cell_type": "code",
   "execution_count": 10,
   "metadata": {},
   "outputs": [
    {
     "name": "stdout",
     "output_type": "stream",
     "text": [
      "Episode ran for 79 steps. Total reward: 9.65\n"
     ]
    },
    {
     "data": {
      "text/html": [
       "<video src=\"data:video/mp4;base64,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\" controls autoplay width=\"500\" height=\"auto\" />"
      ],
      "text/plain": [
       "<IPython.core.display.HTML object>"
      ]
     },
     "execution_count": 10,
     "metadata": {},
     "output_type": "execute_result"
    }
   ],
   "source": [
    "print(f'Episode ran for {n_steps} steps. Total reward: {reward:.2f}')\n",
    "\n",
    "show_monitor_video(env)"
   ]
  },
  {
   "cell_type": "markdown",
   "metadata": {},
   "source": [
    "### Training data"
   ]
  },
  {
   "cell_type": "markdown",
   "metadata": {},
   "source": [
    "The next step is to create data to train on.\n",
    "We need to train on batches of state-action pairs, so that our network can learn to predict the actions.\n",
    "\n",
    "We'll split this task into three parts:\n",
    "1. Generate a batch of `Episode`s, by using an `Agent` that's playing according to our current policy network.\n",
    "   Each `Episode` object contains the `Experience` objects created by the agent.\n",
    "2. Calculate the total discounted reward for each state we encountered and action we took. This is our action-value estimate.\n",
    "3. Convert the `Episode`s into a batch of tensors to train on.\n",
    "   Each batch will contain states, action taken per state, reward accrued, and the calculated estimated state-values.\n",
    "   These will be stored in a `TrainBatch` object.\n"
   ]
  },
  {
   "cell_type": "markdown",
   "metadata": {},
   "source": [
    "**TODO**: Complete the implementation of the `episode_batch_generator()` method in the `TrainBatchDataset` class within the `hw4.rl_data` module. This will address part 1 in the list above."
   ]
  },
  {
   "cell_type": "code",
   "execution_count": 11,
   "metadata": {},
   "outputs": [
    {
     "name": "stdout",
     "output_type": "stream",
     "text": [
      "First episode: Episode(total_reward=-440.01, #experences=89)\n"
     ]
    }
   ],
   "source": [
    "import hw4.rl_data as hw4data\n",
    "\n",
    "def agent_fn():\n",
    "    env = gym.make(ENV_NAME)\n",
    "    hp = hw4.answers.part1_pg_hyperparams()\n",
    "    p_net = hw4pg.PolicyNet.build_for_env(env, device, **hp)\n",
    "    return hw4pg.PolicyAgent(env, p_net, device)\n",
    "    \n",
    "ds = hw4data.TrainBatchDataset(agent_fn, episode_batch_size=8, gamma=0.9)\n",
    "batch_gen = ds.episode_batch_generator()\n",
    "b = next(batch_gen)\n",
    "print('First episode:', b[0])\n",
    "\n",
    "test.assertEqual(len(b), 8)\n",
    "for ep in b:\n",
    "    test.assertIsInstance(ep, hw4data.Episode)\n",
    "    \n",
    "    # Check that it's a full episode\n",
    "    is_done = [exp.is_done for exp in ep.experiences]\n",
    "    test.assertFalse(any(is_done[0:-1]))\n",
    "    test.assertTrue(is_done[-1])"
   ]
  },
  {
   "cell_type": "markdown",
   "metadata": {},
   "source": [
    "**TODO**: Complete the implementation of the `calc_qvals()` method in the `Episode` class.\n",
    "This will address part 2.\n",
    "These q-values are an estimate of the actual action value function: $$\\hat{q}_{t} = \\sum_{t'\\geq t} \\gamma^{t'-t}r_{t'+1}.$$"
   ]
  },
  {
   "cell_type": "code",
   "execution_count": 14,
   "metadata": {},
   "outputs": [],
   "source": [
    "np.random.seed(SEED)\n",
    "test_rewards = np.random.randint(-10, 10, 100)\n",
    "test_experiences = [hw4pg.Experience(None,None,r,False) for r in test_rewards] \n",
    "test_episode = hw4data.Episode(np.sum(test_rewards), test_experiences)\n",
    "\n",
    "qvals = test_episode.calc_qvals(0.9)\n",
    "qvals = list(qvals)\n",
    "\n",
    "expected_qvals = np.load(os.path.join('tests', 'assets', 'part1_expected_qvals.npy'))\n",
    "for i in range(len(test_rewards)):\n",
    "    test.assertAlmostEqual(expected_qvals[i], qvals[i], delta=1e-3)"
   ]
  },
  {
   "cell_type": "markdown",
   "metadata": {},
   "source": [
    "**TODO**: Complete the implementation of the `from_episodes()` method in the `TrainBatch` class.\n",
    "This will address part 3.\n",
    "\n",
    "Notes:\n",
    "- The `TrainBatchDataset` class provides a generator function that will use the above function to lazily generate batches of training samples and labels on demand.\n",
    "- This allows us to use a standard `PyTorch` dataloader to wrap our Dataset and provide us with parallel data loading for free!\n",
    "  This means we can run multiple environments with multiple agents in separate background processes to generate data for training and thus prevent the data loading bottleneck which is caused by the fact that we must generate full Episodes to train on in order to calculate the q-values.\n",
    "- We'll set the `DataLoader`'s `batch_size` to `None` because we have already implemented custom batching in our dataset.\n",
    "- You can choose the number of worker processes generating data using the `num_workers` parameter in the hyperparams dict. Set `num_workers=0` to disable parallelization."
   ]
  },
  {
   "cell_type": "code",
   "execution_count": 25,
   "metadata": {},
   "outputs": [
    {
     "name": "stdout",
     "output_type": "stream",
     "text": [
      "#0: TrainBatch(states: torch.Size([693, 8]), actions: torch.Size([693]), q_vals: torch.Size([693])), num_episodes: 8)\n",
      "#1: TrainBatch(states: torch.Size([857, 8]), actions: torch.Size([857]), q_vals: torch.Size([857])), num_episodes: 8)\n",
      "#2: TrainBatch(states: torch.Size([676, 8]), actions: torch.Size([676]), q_vals: torch.Size([676])), num_episodes: 8)\n",
      "#3: TrainBatch(states: torch.Size([714, 8]), actions: torch.Size([714]), q_vals: torch.Size([714])), num_episodes: 8)\n",
      "#4: TrainBatch(states: torch.Size([746, 8]), actions: torch.Size([746]), q_vals: torch.Size([746])), num_episodes: 8)\n",
      "#5: TrainBatch(states: torch.Size([717, 8]), actions: torch.Size([717]), q_vals: torch.Size([717])), num_episodes: 8)\n",
      "#6: TrainBatch(states: torch.Size([597, 8]), actions: torch.Size([597]), q_vals: torch.Size([597])), num_episodes: 8)\n"
     ]
    }
   ],
   "source": [
    "from torch.utils.data import DataLoader\n",
    "\n",
    "hp = hw4.answers.part1_pg_hyperparams()\n",
    "\n",
    "ds = hw4data.TrainBatchDataset(agent_fn, episode_batch_size=8, gamma=0.9)\n",
    "dl = DataLoader(\n",
    "    ds,\n",
    "    batch_size=None,\n",
    "    num_workers=hp['num_workers'],\n",
    "    multiprocessing_context='fork' if hp['num_workers'] > 0 else None\n",
    ")\n",
    "\n",
    "\n",
    "for i, train_batch in enumerate(dl):\n",
    "    states, actions, qvals, reward_mean = train_batch\n",
    "    print(f'#{i}: {train_batch}')\n",
    "    test.assertEqual(states.shape[0], actions.shape[0])\n",
    "    test.assertEqual(qvals.shape[0], actions.shape[0])\n",
    "    test.assertEqual(states.shape[1], env.observation_space.shape[0])\n",
    "    if i > 5:\n",
    "        break"
   ]
  },
  {
   "cell_type": "markdown",
   "metadata": {},
   "source": [
    "### Loss functions"
   ]
  },
  {
   "cell_type": "markdown",
   "metadata": {},
   "source": [
    "As usual, we need a loss function to optimize over.\n",
    "We'll calculate three types of losses:\n",
    "1. The causal vanilla policy gradient loss.\n",
    "1. The policy gradient loss, with a baseline to reduce variance.\n",
    "2. An entropy-based loss whos purpose is to diversify the agent's action selection,\n",
    "   and prevent it from being \"too sure\" about its actions.\n",
    "   This loss will be used together with one of the above losses."
   ]
  },
  {
   "cell_type": "markdown",
   "metadata": {},
   "source": [
    "#### Causal vanilla policy-gradient"
   ]
  },
  {
   "cell_type": "markdown",
   "metadata": {},
   "source": [
    "We have derived the policy-gradient as\n",
    "$$\n",
    "\\grad\\mathcal{L}(\\vec{\\theta}) = \\E[\\tau]{-g(\\tau)\\sum_{t\\geq0} \\grad\\log \\pi_{\\vec{\\theta}}(a_t|s_t)}.\n",
    "$$\n",
    "\n",
    "By writing the discounted reward explicitly and enforcing causality, i.e. the action taken at time $t$ can't affect\n",
    "the reward at time $t'<t$, we can get a slightly lower-variance version of the policy gradient:\n",
    "\n",
    "$$\n",
    "\\grad\\mathcal{L}_{\\text{PG}}(\\vec{\\theta}) = \n",
    "\\E[\\tau]{-\\sum_{t\\geq0} \\left(\\sum_{t'\\geq t} \\gamma^{t'-t}r_{t'+1} \\right)\\grad\\log \\pi_{\\vec{\\theta}}(a_t|s_t)}.\n",
    "$$"
   ]
  },
  {
   "cell_type": "markdown",
   "metadata": {},
   "source": [
    "In practice, the expectation over trajectories is calculated using a Monte-Carlo approach, i.e. simply sampling $N$\n",
    "trajectories and average the term inside the expectation. Therefore, we will use the following estimated version of the policy gradient:\n",
    "\n",
    "$$\n",
    "\\begin{align}\n",
    "\\hat\\grad\\mathcal{L}_{\\text{PG}}(\\vec{\\theta})\n",
    "&=-\\frac{1}{N}\\sum_{i=1}^{N}\\sum_{t\\geq0} \\left(\\sum_{t'\\geq t} \\gamma^{t'-t}r_{i,t'+1} \\right)\\grad\\log \\pi_{\\vec{\\theta}}(a_{i,t}|s_{i,t}) \\\\\n",
    "&=-\\frac{1}{N}\\sum_{i=1}^{N}\\sum_{t\\geq0} \\hat{q}_{i,t} \\grad\\log \\pi_{\\vec{\\theta}}(a_{i,t}|s_{i,t}).\n",
    "\\end{align}\n",
    "$$\n",
    "\n",
    "Note the use of the notation $\\hat{q}_{i,t}$ to represent the estimated action-value at time $t$ in the sampled trajectory $i$.\n",
    "Here $\\hat{q}_{i,t}$ is acting as the weight-term for the policy gradient."
   ]
  },
  {
   "cell_type": "markdown",
   "metadata": {},
   "source": [
    "**TODO**: Complete the implementation of the `VanillaPolicyGradientLoss` class in the `hw4/rl_pg.py` module."
   ]
  },
  {
   "cell_type": "code",
   "execution_count": null,
   "metadata": {},
   "outputs": [],
   "source": [
    "# Ensure deterministic run\n",
    "env = gym.make(ENV_NAME)\n",
    "env.seed(SEED)\n",
    "torch.manual_seed(SEED)\n",
    "\n",
    "def agent_fn():\n",
    "    # Use a simple \"network\" here, so that this test doesn't depend on\n",
    "    # your specific PolicyNet implementation\n",
    "    p_net_test = nn.Linear(ENV_N_OBSERVATIONS, ENV_N_ACTIONS, bias=True)\n",
    "    agent = hw4pg.PolicyAgent(env, p_net_test)\n",
    "    return agent\n",
    "\n",
    "dataloader = hw4data.TrainBatchDataset(agent_fn, gamma=0.9, episode_batch_size=4)\n",
    "\n",
    "test_batch = next(iter(dataloader))\n",
    "test_action_scores = torch.randn(len(test_batch), env.action_space.n)\n",
    "print(f\"{test_batch=}\", end='\\n\\n')\n",
    "print(f\"test_action_scores=\\n{test_action_scores}\\nshape={test_action_scores.shape}\", end='\\n\\n')\n",
    "\n",
    "loss_fn_p = hw4pg.VanillaPolicyGradientLoss()\n",
    "loss_p, _ = loss_fn_p(test_batch, test_action_scores)\n",
    "\n",
    "print(f'{loss_p=}')\n",
    "test.assertAlmostEqual(loss_p.item(), -36.642, delta=1e-2)"
   ]
  },
  {
   "cell_type": "markdown",
   "metadata": {},
   "source": [
    "#### Policy-gradient with baseline"
   ]
  },
  {
   "cell_type": "markdown",
   "metadata": {},
   "source": [
    "Another way to reduce the variance of our gradient is to use relative weighting of the log-policy instead of absolute reward values.\n",
    "$$\n",
    "\\hat\\grad\\mathcal{L}_{\\text{BPG}}(\\vec{\\theta})\n",
    "=-\\frac{1}{N}\\sum_{i=1}^{N}\\sum_{t\\geq0} \\left(\\hat{q}_{i,t}-b\\right) \\grad\\log \\pi_{\\vec{\\theta}}(a_{i,t}|s_{i,t}).\n",
    "$$\n",
    "In other words, we don't measure a trajectory's worth by it's total reward, but by how much better that total reward is relative to some\n",
    "expected (\"baseline\") reward value, denoted above by $b$.\n",
    "Note that subtracting a baseline has no effect on the expected value of the policy gradient. It's easy to prove this directly by definition.\n",
    "\n",
    "Here we'll implement a very simple baseline (not optimal in terms of variance reduction): the average of the estimated state-values $\\hat{q}_{i,t}$."
   ]
  },
  {
   "cell_type": "markdown",
   "metadata": {},
   "source": [
    "**TODO**: Complete the implementation of the `BaselinePolicyGradientLoss` class in the `hw4/rl_pg.py` module."
   ]
  },
  {
   "cell_type": "code",
   "execution_count": null,
   "metadata": {},
   "outputs": [],
   "source": [
    "# Using the same batch and action_scores from above cell\n",
    "loss_fn_p = hw4pg.BaselinePolicyGradientLoss()\n",
    "loss_p, loss_dict = loss_fn_p(test_batch, test_action_scores)\n",
    "\n",
    "print(f'{loss_dict=}')\n",
    "test.assertAlmostEqual(loss_dict['baseline'], -22.191, delta=1e-2)\n",
    "test.assertAlmostEqual(loss_p.item(), -0.278, delta=1e-2)"
   ]
  },
  {
   "cell_type": "markdown",
   "metadata": {},
   "source": [
    "#### Entropy loss"
   ]
  },
  {
   "cell_type": "markdown",
   "metadata": {},
   "source": [
    "The entropy of a probability distribution (in our case the policy), is\n",
    "$$\n",
    "H(\\pi) = -\\sum_{a} \\pi(a|s)\\log\\pi(a|s).\n",
    "$$\n",
    "The entropy is always positive and obtains it's maximum for a uniform distribution.\n",
    "We'll use the entropy of the policy as a bonus, i.e. we'll try to maximize it.\n",
    "The idea is the prevent the policy distribution from becoming too narrow and thus promote the agent's exploration."
   ]
  },
  {
   "cell_type": "markdown",
   "metadata": {},
   "source": [
    "First, we'll calculate the maximal possible entropy value of the action distribution for a set number of possible actions.\n",
    "This will be used as a normalization term.\n",
    "\n",
    "**TODO**: Complete the implementation of the `calc_max_entropy()` method in the `ActionEntropyLoss` class."
   ]
  },
  {
   "cell_type": "code",
   "execution_count": null,
   "metadata": {},
   "outputs": [],
   "source": [
    "loss_fn_e = hw4pg.ActionEntropyLoss(env.action_space.n)\n",
    "print('max_entropy = ', loss_fn_e.max_entropy)\n",
    "\n",
    "test.assertAlmostEqual(loss_fn_e.max_entropy, 1.38629436, delta=1e-3)"
   ]
  },
  {
   "cell_type": "markdown",
   "metadata": {},
   "source": [
    "**TODO**: Complete the implementation of the `forward()` method in the `ActionEntropyLoss` class."
   ]
  },
  {
   "cell_type": "code",
   "execution_count": null,
   "metadata": {},
   "outputs": [],
   "source": [
    "loss_e, _ = loss_fn_e(test_batch, test_action_scores)\n",
    "print('loss = ', loss_e)\n",
    "\n",
    "test.assertAlmostEqual(loss_e.item(), -0.8103, delta=1e-2)"
   ]
  },
  {
   "cell_type": "markdown",
   "metadata": {},
   "source": [
    "### Training"
   ]
  },
  {
   "cell_type": "markdown",
   "metadata": {},
   "source": [
    "We'll implement our training procedure as follows:\n",
    "\n",
    "1. Initialize the current policy to be a random policy.\n",
    "1. Sample $N$ trajectories from the environment using the current policy.\n",
    "2. Calculate the estimated $q$-values, $\\hat{q}_{i,t} = \\sum_{t'\\geq t} \\gamma^{t'}r_{i,t'+1}$ for each trajectory $i$.\n",
    "3. Calculate policy gradient estimate $\\hat\\grad\\mathcal{L}(\\vec{\\theta})$ as defined above.\n",
    "4. Perform SGD update $\\vec{\\theta}\\leftarrow\\vec{\\theta}-\\eta\\hat\\grad\\mathcal{L}(\\vec{\\theta})$.\n",
    "5. Repeat from step 2.\n",
    "\n",
    "This is known as the **REINFORCE** algorithm."
   ]
  },
  {
   "cell_type": "markdown",
   "metadata": {},
   "source": [
    "Fortunately, we've already implemented everything we need for steps 1-4 so we need only a bit more code to put it all together.\n",
    "\n",
    "The following block implements a wrapper, `train_pg` to create all the objects we need in order to train our policy gradient model.\n"
   ]
  },
  {
   "cell_type": "code",
   "execution_count": null,
   "metadata": {},
   "outputs": [],
   "source": [
    "import hw4.answers\n",
    "from functools import partial\n",
    "\n",
    "ENV_NAME = \"Beresheet-v2\"\n",
    "\n",
    "def agent_fn_train(agent_type, p_net, seed, envs_dict):\n",
    "    winfo = torch.utils.data.get_worker_info()\n",
    "    wid = winfo.id if winfo else 0\n",
    "    seed = seed + wid if seed else wid\n",
    "\n",
    "    env = gym.make(ENV_NAME)\n",
    "    envs_dict[wid] = env\n",
    "    env.seed(seed)\n",
    "    np.random.seed(seed)\n",
    "    torch.manual_seed(seed)\n",
    "\n",
    "    return agent_type(env, p_net)\n",
    "\n",
    "def train_rl(agent_type, net_type, loss_fns, hp, seed=None, checkpoints_file=None, **train_kw):\n",
    "    print(f'hyperparams: {hp}')\n",
    "    \n",
    "    envs = {}\n",
    "    p_net = net_type(ENV_N_OBSERVATIONS, ENV_N_ACTIONS, **hp)\n",
    "    p_net.share_memory()\n",
    "    agent_fn = partial(agent_fn_train, agent_type, p_net, seed, envs)\n",
    "    \n",
    "    dataset = hw4data.TrainBatchDataset(agent_fn, hp['batch_size'], hp['gamma'])\n",
    "    dataloader = DataLoader(\n",
    "        dataset, batch_size=None, num_workers=hp['num_workers'],\n",
    "        multiprocessing_context='fork' if hp['num_workers'] > 0 else None\n",
    "    )\n",
    "    optimizer = optim.Adam(p_net.parameters(), lr=hp['learn_rate'], eps=hp['eps'])\n",
    "    \n",
    "    trainer = hw4pg.PolicyTrainer(p_net, optimizer, loss_fns, dataloader, checkpoints_file)\n",
    "    try:\n",
    "        trainer.train(**train_kw)\n",
    "    except KeyboardInterrupt as e:\n",
    "        print('Training interrupted by user.')\n",
    "    finally:\n",
    "        for env in envs.values():\n",
    "            env.close()\n",
    "\n",
    "    # Include final model state\n",
    "    training_data = trainer.training_data\n",
    "    training_data['model_state'] = p_net.state_dict()\n",
    "    return training_data\n",
    "    \n",
    "def train_pg(baseline=False, entropy=False, **train_kwargs):\n",
    "    hp = hw4.answers.part1_pg_hyperparams()\n",
    "    \n",
    "    loss_fns = []\n",
    "    if baseline:\n",
    "        loss_fns.append(hw4pg.BaselinePolicyGradientLoss())\n",
    "    else:\n",
    "        loss_fns.append(hw4pg.VanillaPolicyGradientLoss())\n",
    "    if entropy:\n",
    "        loss_fns.append(hw4pg.ActionEntropyLoss(ENV_N_ACTIONS, hp['beta']))\n",
    "\n",
    "    return train_rl(hw4pg.PolicyAgent, hw4pg.PolicyNet, loss_fns, hp, **train_kwargs)"
   ]
  },
  {
   "cell_type": "markdown",
   "metadata": {},
   "source": [
    "The `PolicyTrainer` class implements the training loop, collects the losses and rewards and provides some useful checkpointing functionality.\n",
    "The training loop will generate batches of episodes and train on them until either:\n",
    "- The average total reward from the last `running_mean_len` episodes is greater than the `target_reward`, OR\n",
    "- The number of generated episodes reached `max_episodes`.\n",
    "\n",
    "Most of this class is already implemented for you. "
   ]
  },
  {
   "cell_type": "markdown",
   "metadata": {},
   "source": [
    "**TODO**:\n",
    "1. Complete the training loop by implementing the `train_batch()` method of the `PolicyTrainer`.\n",
    "2. Tweak the hyperparameters in the `part1_pg_hyperparams()` function within the `hw4/answers.py` module as needed. You get some sane defaults."
   ]
  },
  {
   "cell_type": "markdown",
   "metadata": {},
   "source": [
    "Let's check whether our model is actually training.\n",
    "We'll try to reach a very low (bad) target reward, just as a sanity check to see that training works.\n",
    "Your model should be able to reach this target reward within a few batches.\n",
    "\n",
    "You can increase the target reward and use this block to manually tweak your model and hyperparameters a few times."
   ]
  },
  {
   "cell_type": "code",
   "execution_count": null,
   "metadata": {},
   "outputs": [],
   "source": [
    "target_reward = -140 # VERY LOW target\n",
    "train_data = train_pg(target_reward=target_reward, seed=SEED, max_episodes=2000, running_mean_len=10)\n",
    "\n",
    "test.assertGreater(train_data['mean_reward'][-1], target_reward)"
   ]
  },
  {
   "cell_type": "markdown",
   "metadata": {},
   "source": [
    "### Experimenting with different losses"
   ]
  },
  {
   "cell_type": "markdown",
   "metadata": {},
   "source": [
    "We'll now run a few experiments to see the effect of diferent loss functions on the training dynamics. Namely, we'll try:\n",
    "1. Vanilla PG (`vpg`): No baseline, no entropy\n",
    "2. Baseline PG (`bpg`): Baseline, no entropy loss\n",
    "3. Entropy PG (`epg`): No baseline, with entropy loss\n",
    "3. Combined PG (`cpg`): Baseline, with entropy loss"
   ]
  },
  {
   "cell_type": "code",
   "execution_count": null,
   "metadata": {},
   "outputs": [],
   "source": [
    "from collections import namedtuple\n",
    "from pprint import pprint\n",
    "import itertools as it\n",
    "\n",
    "\n",
    "ExpConfig = namedtuple('ExpConfig', ('name','baseline','entropy'))\n",
    "\n",
    "def exp_configs():\n",
    "    exp_names = ('vpg', 'epg', 'bpg', 'cpg')\n",
    "    z = zip(exp_names, it.product((False, True), (False, True)))\n",
    "    return (ExpConfig(n, b, e) for (n, (b, e)) in z)\n",
    "\n",
    "pprint(list(exp_configs()))"
   ]
  },
  {
   "cell_type": "markdown",
   "metadata": {},
   "source": [
    "We'll save the training data from each experiment for plotting."
   ]
  },
  {
   "cell_type": "code",
   "execution_count": null,
   "metadata": {},
   "outputs": [],
   "source": [
    "import pickle\n",
    "\n",
    "def dump_training_data(data, filename):\n",
    "    os.makedirs(os.path.dirname(filename), exist_ok=True)\n",
    "    with open(filename, mode='wb') as file:\n",
    "        pickle.dump(data, file)\n",
    "        \n",
    "def load_training_data(filename):\n",
    "    with open(filename, mode='rb') as file:\n",
    "        return pickle.load(file)"
   ]
  },
  {
   "cell_type": "markdown",
   "metadata": {},
   "source": [
    "Let's run the experiments! We'll run each configuration for a fixed number of episodes so that we can compare them.\n",
    "\n",
    "Notes:\n",
    "1. Until your models start working, you can decrease the number of episodes for each experiment, or only run one experiment.\n",
    "2.  The results will be saved in a file. To re-run the experiments, you can set `force_run` to `True`."
   ]
  },
  {
   "cell_type": "code",
   "execution_count": null,
   "metadata": {},
   "outputs": [],
   "source": [
    "import math\n",
    "\n",
    "exp_max_episodes = 4000\n",
    "\n",
    "results = {}\n",
    "training_data_filename = os.path.join('results', f'part1_exp.dat')\n",
    "\n",
    "# Set to True to force re-run (careful! will delete old experiment results)\n",
    "force_run = False\n",
    "\n",
    "# Skip running if results file exists.\n",
    "if os.path.isfile(training_data_filename) and not force_run:\n",
    "    print(f'=== results file {training_data_filename} exists, skipping experiments.')\n",
    "    results = load_training_data(training_data_filename)\n",
    "    \n",
    "else:\n",
    "    for n, b, e in exp_configs():\n",
    "        print(f'=== Experiment {n}')\n",
    "        results[n] = train_pg(baseline=b, entropy=e, max_episodes=exp_max_episodes, post_batch_fn=None)\n",
    "        \n",
    "    dump_training_data(results, training_data_filename)"
   ]
  },
  {
   "cell_type": "code",
   "execution_count": null,
   "metadata": {},
   "outputs": [],
   "source": [
    "def plot_experiment_results(results, fig=None):\n",
    "    if fig is None:\n",
    "        fig, _ = plt.subplots(nrows=2, ncols=2, sharex=True, figsize=(18,12))\n",
    "    for i, plot_type in enumerate(('loss_p', 'baseline', 'loss_e', 'mean_reward')):\n",
    "        ax = fig.axes[i]\n",
    "        for exp_name, exp_res in results.items():\n",
    "            if plot_type not in exp_res:\n",
    "                continue\n",
    "            ax.plot(exp_res['episode_num'], exp_res[plot_type], label=exp_name)\n",
    "        ax.set_title(plot_type)\n",
    "        ax.set_xlabel('episode')\n",
    "        ax.legend()\n",
    "    return fig\n",
    "    \n",
    "experiments_results_fig = plot_experiment_results(results)"
   ]
  },
  {
   "cell_type": "markdown",
   "metadata": {},
   "source": [
    "You should see positive training dynamics in the graphs (reward going up).\n",
    "If you don't, use them to further update your model or hyperparams.\n",
    "\n",
    "To pass the test, you'll need to get a best total mean reward of at least 10 in the fixed number of epochs using the combined loss.\n",
    "It's possible to get much higher (over 100)."
   ]
  },
  {
   "cell_type": "code",
   "execution_count": null,
   "metadata": {},
   "outputs": [],
   "source": [
    "best_cpg_mean_reward = max(results['cpg']['mean_reward'])\n",
    "print(f'Best CPG mean reward: {best_cpg_mean_reward:.2f}')\n",
    "\n",
    "test.assertGreater(best_cpg_mean_reward, 10)"
   ]
  },
  {
   "cell_type": "markdown",
   "metadata": {},
   "source": [
    "Now let's take a look at a gameplay video of our `cpg` model after the short training!"
   ]
  },
  {
   "cell_type": "code",
   "execution_count": null,
   "metadata": {},
   "outputs": [],
   "source": [
    "hp = hw4.answers.part1_pg_hyperparams()\n",
    "p_net_cpg = hw4pg.PolicyNet.build_for_env(env, **hp)\n",
    "p_net_cpg.load_state_dict(results['cpg']['model_state'])\n",
    "\n",
    "env, n_steps, reward = hw4pg.PolicyAgent.monitor_episode(ENV_NAME, p_net_cpg)\n",
    "print(f'{n_steps} steps, total reward: {reward:.2f}')\n",
    "show_monitor_video(env)"
   ]
  },
  {
   "cell_type": "markdown",
   "metadata": {},
   "source": [
    "## Advantage Actor-Critic (AAC)\n",
    "<a id=part1_2></a>"
   ]
  },
  {
   "cell_type": "markdown",
   "metadata": {},
   "source": [
    "We have seen that the policy-gradient loss can be interpreted as a log-likelihood of the policy term\n",
    "(selecting a specific action at a specific state), weighted by the future rewards of that choice of action.\n",
    "\n",
    "However, naïvely weighting by rewards has significant drawbacks in terms of the variance of the resulting gradient.\n",
    "We addressed this by adding a simple baseline term which represented our \"expected reward\" so that we increase probability of actions\n",
    "leading to trajectories which exceed this expectation and vice-versa.\n",
    "\n",
    "In this part we'll explore a more powerful baseline, which is the idea behind the AAC method."
   ]
  },
  {
   "cell_type": "markdown",
   "metadata": {},
   "source": [
    "### The advantage function"
   ]
  },
  {
   "cell_type": "markdown",
   "metadata": {},
   "source": [
    "Recall the definition of the state-value function $v_{\\pi}(s)$ and action-value function $q_{\\pi}(s,a)$:\n",
    "\n",
    "$$\n",
    "\\begin{align}\n",
    "v_{\\pi}(s) &= \\E{g(\\tau)|s_0 = s,\\pi} \\\\\n",
    "q_{\\pi}(s,a) &= \\E{g(\\tau)|s_0 = s,a_0=a,\\pi}.\n",
    "\\end{align}\n",
    "$$\n",
    "\n",
    "Both these functions represent the value of the state $s$. However, $v_\\pi$ averages over the first action according to the policy,\n",
    "while $q_\\pi$ fixes the first action and then continues according to the policy."
   ]
  },
  {
   "cell_type": "markdown",
   "metadata": {},
   "source": [
    "Their difference is known as the **advantage function**:\n",
    "$$\n",
    "a_\\pi(s,a) = q_\\pi(s,a)-v_\\pi(s).\n",
    "$$\n",
    "\n",
    "If $a_\\pi(s,a)>0$ it means that it's better (in expectation) to take action $a$ in state $s$ compared to the average action.\n",
    "In other words, $a_\\pi(s,a)$ represents the *advantage* of using action $a$ in state $s$ compared to the others."
   ]
  },
  {
   "cell_type": "markdown",
   "metadata": {},
   "source": [
    "So far we have used an estimate for $q_\\pi$ as our weighting term for the log-policy, with a fixed baseline per batch.\n",
    "\n",
    "$$\n",
    "\\hat\\grad\\mathcal{L}_{\\text{BPG}}(\\vec{\\theta})\n",
    "=-\\frac{1}{N}\\sum_{i=1}^{N}\\sum_{t\\geq0} \\left(\\hat{q}_{i,t}-b\\right) \\grad\\log \\pi_{\\vec{\\theta}}(a_{i,t}|s_{i,t}).\n",
    "$$\n"
   ]
  },
  {
   "cell_type": "markdown",
   "metadata": {},
   "source": [
    "Now, we will use the state value as a baseline, so that an estimate of the advantage function is our weighting term:\n",
    "\n",
    "$$\n",
    "\\hat\\grad\\mathcal{L}_{\\text{AAC}}(\\vec{\\theta})\n",
    "=-\\frac{1}{N}\\sum_{i=1}^{N}\\sum_{t\\geq0} \\left(\\hat{q}_{i,t}-v_\\pi(s_t)\\right) \\grad\\log \\pi_{\\vec{\\theta}}(a_{i,t}|s_{i,t}).\n",
    "$$\n",
    "\n",
    "Intuitively, using the advantage function makes sense because it means we're weighting our policy's actions according to\n",
    "how advantageous they are compared to other possible actions."
   ]
  },
  {
   "cell_type": "markdown",
   "metadata": {},
   "source": [
    "But how will we know $v_\\pi(s)$? We'll learn it of course, using another neural network.\n",
    "This is known as actor-critic learning. We simultaneously learn the policy (actor) and the value of states (critic).\n",
    "We'll treat it as a regression task: given a state $s_t$, our state-value network will output $\\hat{v}_\\pi(s_t)$,\n",
    "an estimate of the actual unknown state-value.\n",
    "Our regression targets will be the discounted rewards, $\\hat{q}_{i,t}$ (see question 2),\n",
    "and we can use a simple MSE as the loss function,\n",
    "$$\n",
    "\\mathcal{L}_{\\text{SV}} = \\frac{1}{N}\\sum_{i=1}^{N}\\sum_{t\\geq0}\\left(\\hat{v}_\\pi(s_t) - \\hat{q}_{i,t}\\right)^2.\n",
    "$$\n"
   ]
  },
  {
   "cell_type": "markdown",
   "metadata": {},
   "source": [
    "### Implementation"
   ]
  },
  {
   "cell_type": "markdown",
   "metadata": {},
   "source": [
    "We'll build heavily on our implementation of the regular policy-gradient method, and just add a new model class and a new loss class, with a small modification to the agent."
   ]
  },
  {
   "cell_type": "markdown",
   "metadata": {},
   "source": [
    "Let's start with the model. It will accept a state, and return action scores (as before), but also the value of that state.\n",
    "You can experiment with a dual-head network that has a shared base, or implement two separate parts within the network.\n",
    "\n",
    "**TODO**:\n",
    "1. Implement the model as the `AACPolicyNet` class in the `hw4/rl_ac.py` module.\n",
    "1. Set the hyperparameters in the `part1_aac_hyperparams()` function of the `hw4.answers` module."
   ]
  },
  {
   "cell_type": "code",
   "execution_count": null,
   "metadata": {},
   "outputs": [],
   "source": [
    "import hw4.rl_ac as hw4ac\n",
    "\n",
    "hp = hw4.answers.part1_aac_hyperparams()\n",
    "pv_net = hw4ac.AACPolicyNet.build_for_env(env, device, **hp)\n",
    "pv_net"
   ]
  },
  {
   "cell_type": "markdown",
   "metadata": {},
   "source": [
    "**TODO**: Complete the implementation of the agent class, `AACPolicyAgent`, in the `hw4/rl_ac.py` module."
   ]
  },
  {
   "cell_type": "code",
   "execution_count": null,
   "metadata": {},
   "outputs": [],
   "source": [
    "agent = hw4ac.AACPolicyAgent(env, pv_net, device)\n",
    "exp = agent.step()\n",
    "\n",
    "test.assertIsInstance(exp, hw4pg.Experience)\n",
    "print(exp)"
   ]
  },
  {
   "cell_type": "markdown",
   "metadata": {},
   "source": [
    "**TODO**: Implement the AAC loss function as the class `AACPolicyGradientLoss` in the `hw4/rl_ac.py` module."
   ]
  },
  {
   "cell_type": "code",
   "execution_count": null,
   "metadata": {},
   "outputs": [],
   "source": [
    "loss_fn_aac = hw4ac.AACPolicyGradientLoss(delta=1.)\n",
    "test_state_values = torch.ones(test_action_scores.shape[0], 1)\n",
    "loss_t, loss_dict = loss_fn_aac(test_batch, (test_action_scores, test_state_values))\n",
    "\n",
    "print(f'{loss_dict=}')\n",
    "test.assertAlmostEqual(loss_dict['adv_m'], -23.191, delta=1e-2)\n",
    "test.assertAlmostEqual(loss_t.item(), 1183.948, delta=1e-2)"
   ]
  },
  {
   "cell_type": "markdown",
   "metadata": {},
   "source": [
    "### Experimentation"
   ]
  },
  {
   "cell_type": "markdown",
   "metadata": {},
   "source": [
    "Let's run the same experiment as before, but with the AAC method and compare the results."
   ]
  },
  {
   "cell_type": "code",
   "execution_count": null,
   "metadata": {},
   "outputs": [],
   "source": [
    "def train_aac(baseline=False, entropy=False, **train_kwargs):\n",
    "    hp = hw4.answers.part1_aac_hyperparams()\n",
    "    loss_fns = [hw4ac.AACPolicyGradientLoss(hp['delta']), hw4pg.ActionEntropyLoss(ENV_N_ACTIONS, hp['beta'])]\n",
    "    return train_rl(hw4ac.AACPolicyAgent, hw4ac.AACPolicyNet, loss_fns, hp, **train_kwargs)"
   ]
  },
  {
   "cell_type": "code",
   "execution_count": null,
   "metadata": {},
   "outputs": [],
   "source": [
    "training_data_filename = os.path.join('results', f'part1_exp_aac.dat')\n",
    "\n",
    "# Set to True to force re-run (careful, will delete old experiment results)\n",
    "force_run = False\n",
    "\n",
    "if os.path.isfile(training_data_filename) and not force_run:\n",
    "    print(f'=== results file {training_data_filename} exists, skipping experiments.')\n",
    "    results_aac = load_training_data(training_data_filename)\n",
    "    \n",
    "else:\n",
    "    print(f'=== Running AAC experiment')\n",
    "    training_data = train_aac(max_episodes=exp_max_episodes)\n",
    "    results_aac = dict(aac=training_data)\n",
    "    dump_training_data(results_aac, training_data_filename)"
   ]
  },
  {
   "cell_type": "code",
   "execution_count": null,
   "metadata": {},
   "outputs": [],
   "source": [
    "experiments_results_fig = plot_experiment_results(results)\n",
    "plot_experiment_results(results_aac, fig=experiments_results_fig);"
   ]
  },
  {
   "cell_type": "markdown",
   "metadata": {},
   "source": [
    "You should get better results with the AAC method, so this time the bar is higher (again, you should aim for a mean reward of 100+).\n",
    "Compare the graphs with combined PG method and see if they make sense."
   ]
  },
  {
   "cell_type": "code",
   "execution_count": null,
   "metadata": {},
   "outputs": [],
   "source": [
    "best_aac_mean_reward = max(results_aac['aac']['mean_reward'])\n",
    "print(f'Best AAC mean reward: {best_aac_mean_reward:.2f}')\n",
    "\n",
    "test.assertGreater(best_aac_mean_reward, 50)"
   ]
  },
  {
   "cell_type": "markdown",
   "metadata": {},
   "source": [
    "### Final model training and visualization"
   ]
  },
  {
   "cell_type": "markdown",
   "metadata": {},
   "source": [
    "Now, using your best model and hyperparams, let's train model for much longer and see the performance.\n",
    "Just for fun, we'll also visualize an episode every now and then so that we can see how well the agent is playing."
   ]
  },
  {
   "cell_type": "markdown",
   "metadata": {},
   "source": [
    "**TODO**:\n",
    "- Run the following block to train.\n",
    "- Tweak model or hyperparams as necessary.\n",
    "- Aim for high mean reward, at least 150+. It's possible to get over 200.\n",
    "- When training is done and you're satisfied with the model's outputs, rename the checkpoint file by adding `_final` to the file name.\n",
    "  This will cause the block to skip training and instead load your saved model when running the homework submission script.\n",
    "  Note that your submission zip file will not include the checkpoint file. This is OK."
   ]
  },
  {
   "cell_type": "code",
   "execution_count": null,
   "metadata": {},
   "outputs": [],
   "source": [
    "import IPython.display\n",
    "\n",
    "CHECKPOINTS_FILE = f'checkpoints/{ENV_NAME}-ac.dat'\n",
    "CHECKPOINTS_FILE_FINAL = f'checkpoints/{ENV_NAME}-ac_final.dat'\n",
    "TARGET_REWARD = 125\n",
    "MAX_EPISODES = 15_000\n",
    "\n",
    "def post_batch_fn(batch_idx, p_net, batch, print_every=20, final=False):\n",
    "    if not final and batch_idx % print_every != 0:\n",
    "        return\n",
    "    env, n_steps, reward = hw4ac.AACPolicyAgent.monitor_episode(ENV_NAME, p_net)\n",
    "    html = show_monitor_video(env, width=\"500\")\n",
    "    IPython.display.clear_output(wait=True)\n",
    "    print(f'Monitor@#{batch_idx}: n_steps={n_steps}, total_reward={reward:.3f}, final={final}')\n",
    "    IPython.display.display_html(html)\n",
    "    \n",
    "    \n",
    "if os.path.isfile(CHECKPOINTS_FILE_FINAL):\n",
    "    print(f'=== {CHECKPOINTS_FILE_FINAL} exists, skipping training...')\n",
    "    checkpoint_data = torch.load(CHECKPOINTS_FILE_FINAL)\n",
    "    hp = hw4.answers.part1_aac_hyperparams()\n",
    "    pv_net = hw4ac.AACPolicyNet.build_for_env(env, **hp)\n",
    "    pv_net.load_state_dict(checkpoint_data['params'])\n",
    "    print(f'=== Running best model...')\n",
    "    env, n_steps, reward = hw4ac.AACPolicyAgent.monitor_episode(ENV_NAME, pv_net)\n",
    "    print(f'=== Best model ran for {n_steps} steps. Total reward: {reward:.2f}')\n",
    "    IPython.display.display_html(show_monitor_video(env))\n",
    "    best_mean_reward = checkpoint_data[\"best_mean_reward\"]\n",
    "else:\n",
    "    print(f'=== Starting training...')\n",
    "    train_data = train_aac(TARGET_REWARD, max_episodes=MAX_EPISODES,\n",
    "                           seed=None, checkpoints_file=CHECKPOINTS_FILE, post_batch_fn=post_batch_fn)\n",
    "    print(f'=== Done, ', end='')\n",
    "    best_mean_reward = train_data[\"best_mean_reward\"][-1]\n",
    "    print(f'num_episodes={train_data[\"episode_num\"][-1]}, best_mean_reward={best_mean_reward:.1f}')\n",
    "          \n",
    "test.assertGreaterEqual(best_mean_reward, TARGET_REWARD)"
   ]
  },
  {
   "cell_type": "markdown",
   "metadata": {},
   "source": [
    "## Questions\n",
    "<a id=part1_3></a>"
   ]
  },
  {
   "cell_type": "markdown",
   "metadata": {},
   "source": [
    "**TODO**: Answer the following questions. Write your answers in the appropriate variables in the module `hw4/answers.py`."
   ]
  },
  {
   "cell_type": "code",
   "execution_count": null,
   "metadata": {},
   "outputs": [],
   "source": [
    "from cs236781.answers import display_answer\n",
    "import hw4.answers"
   ]
  },
  {
   "cell_type": "markdown",
   "metadata": {},
   "source": [
    "### Question 1\n",
    "\n",
    "Explain qualitatively why subtracting a baseline in the policy-gradient helps reduce it's variance.\n",
    "Specifically, give an example where it helps."
   ]
  },
  {
   "cell_type": "code",
   "execution_count": null,
   "metadata": {},
   "outputs": [],
   "source": [
    "display_answer(hw4.answers.part1_q1)"
   ]
  },
  {
   "cell_type": "markdown",
   "metadata": {},
   "source": [
    "### Question 2\n",
    "\n",
    "In AAC, when using the estimated q-values as regression targets for our state-values, why do we get a valid approximation?\n",
    "Hint: how is $v_\\pi(s)$ expressed in terms of $q_\\pi(s,a)$?"
   ]
  },
  {
   "cell_type": "code",
   "execution_count": null,
   "metadata": {},
   "outputs": [],
   "source": [
    "display_answer(hw4.answers.part1_q2)"
   ]
  },
  {
   "cell_type": "markdown",
   "metadata": {},
   "source": [
    "### Question 3\n",
    "\n",
    "1. Analyze and explain the graphs you got in first experiment run.\n",
    "2. Compare the experiment graphs you got with the AAC method to the regular PG method (`cpg`)."
   ]
  },
  {
   "cell_type": "code",
   "execution_count": null,
   "metadata": {},
   "outputs": [],
   "source": [
    "display_answer(hw4.answers.part1_q3)"
   ]
  }
 ],
 "metadata": {
  "kernelspec": {
   "display_name": "Python 3",
   "language": "python",
   "name": "python3"
  },
  "language_info": {
   "codemirror_mode": {
    "name": "ipython",
    "version": 3
   },
   "file_extension": ".py",
   "mimetype": "text/x-python",
   "name": "python",
   "nbconvert_exporter": "python",
   "pygments_lexer": "ipython3",
   "version": "3.8.6"
  }
 },
 "nbformat": 4,
 "nbformat_minor": 4
}
