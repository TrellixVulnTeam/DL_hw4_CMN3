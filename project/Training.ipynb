{
 "cells": [
  {
   "cell_type": "code",
   "execution_count": 19,
   "id": "e212c475",
   "metadata": {},
   "outputs": [
    {
     "name": "stdout",
     "output_type": "stream",
     "text": [
      "The autoreload extension is already loaded. To reload it, use:\n",
      "  %reload_ext autoreload\n"
     ]
    }
   ],
   "source": [
    "%load_ext autoreload\n",
    "%autoreload 2\n",
    "%matplotlib inline"
   ]
  },
  {
   "cell_type": "markdown",
   "id": "1966362e",
   "metadata": {
    "pycharm": {
     "name": "#%% md\n"
    }
   },
   "source": [
    "# Loading the dataset & Pre trained word embeddings"
   ]
  },
  {
   "cell_type": "code",
   "execution_count": 20,
   "id": "7f5261b2",
   "metadata": {
    "collapsed": false,
    "jupyter": {
     "outputs_hidden": false
    },
    "pycharm": {
     "name": "#%%\n"
    }
   },
   "outputs": [
    {
     "name": "stdout",
     "output_type": "stream",
     "text": [
      "device = cuda\n"
     ]
    }
   ],
   "source": [
    "import os\n",
    "import sys\n",
    "import torch\n",
    "import torchtext.data\n",
    "import torchtext.datasets\n",
    "import numpy as np \n",
    "import time\n",
    "from RNN import SentimentGRU\n",
    "import inspect\n",
    "\n",
    "currentdir = os.path.dirname(os.path.abspath(inspect.getfile(inspect.currentframe())))\n",
    "parentdir = os.path.dirname(currentdir)\n",
    "sys.path.insert(0, parentdir) \n",
    "\n",
    "from cs236781.train_results import FitResult\n",
    "from cs236781 import plot\n",
    "\n",
    "device = torch.device('cuda' if torch.cuda.is_available() else 'cpu')\n",
    "print(\"device =\", device)"
   ]
  },
  {
   "cell_type": "markdown",
   "id": "187a2871",
   "metadata": {},
   "source": [
    "load the data set:"
   ]
  },
  {
   "cell_type": "code",
   "execution_count": 21,
   "id": "e8fc32db",
   "metadata": {},
   "outputs": [
    {
     "name": "stderr",
     "output_type": "stream",
     "text": [
      "/home/dor.bitton/miniconda3/envs/cs236781-hw/lib/python3.8/site-packages/torchtext/data/field.py:150: UserWarning: Field class will be retired in the 0.8.0 release and moved to torchtext.legacy. Please see 0.7.0 release notes for further information.\n",
      "  warnings.warn('{} class will be retired in the 0.8.0 release and moved to torchtext.legacy. Please see 0.7.0 release notes for further information.'.format(self.__class__.__name__), UserWarning)\n"
     ]
    },
    {
     "name": "stdout",
     "output_type": "stream",
     "text": [
      "Number of training   samples: 8544\n",
      "Number of validation samples: 1101\n",
      "Number of test       samples: 2210\n"
     ]
    }
   ],
   "source": [
    "if os.sys.platform == 'linux':\n",
    "    data_dir = os.path.expanduser('~/HW4/project/GloVe')\n",
    "else:\n",
    "    data_dir = os.path.expanduser('~/.pytorch-datasets')\n",
    "    \n",
    "# torchtext Field objects parse text (e.g. a review) and create a tensor representation\n",
    "\n",
    "# This Field object will be used for tokenizing the movie reviews text\n",
    "review_parser = torchtext.data.Field(\n",
    "    sequential=True, use_vocab=True, lower=True,\n",
    "    init_token='<sos>', eos_token='<eos>', dtype=torch.long,\n",
    "    tokenize='spacy', tokenizer_language='en_core_web_sm'\n",
    ")\n",
    "\n",
    "# This Field object converts the text labels into numeric values (0,1,2)\n",
    "label_parser = torchtext.data.Field(\n",
    "    is_target=True, sequential=False, unk_token=None, use_vocab=True\n",
    ")\n",
    "\n",
    "# Load SST, tokenize the samples and labels\n",
    "# ds_X are Dataset objects which will use the parsers to return tensors\n",
    "ds_train, ds_valid, ds_test = torchtext.datasets.SST.splits(\n",
    "    review_parser, label_parser, root=data_dir\n",
    ")\n",
    "\n",
    "n_train = len(ds_train)\n",
    "print(f'Number of training   samples: {n_train}')\n",
    "print(f'Number of validation samples: {len(ds_valid)}')\n",
    "print(f'Number of test       samples: {len(ds_test)}')"
   ]
  },
  {
   "cell_type": "markdown",
   "id": "961fbb1c",
   "metadata": {
    "pycharm": {
     "name": "#%% md\n"
    }
   },
   "source": [
    "As required, we'll use the pre-trained word embeddings of glove 6B."
   ]
  },
  {
   "cell_type": "code",
   "execution_count": 22,
   "id": "5cfd7684",
   "metadata": {
    "pycharm": {
     "name": "#%%\n"
    }
   },
   "outputs": [],
   "source": [
    "#Vocabulary size is 40k, Embedding chosen size in 50\n",
    "vocab, embeddings = [],[]\n",
    "with open('./GloVe/glove.6B.50d.txt','rt',encoding='utf8') as fi:\n",
    "    full_content = fi.read().strip().split('\\n')\n",
    "for i in range(len(full_content)):\n",
    "    i_word = full_content[i].split(' ')[0]\n",
    "    i_embeddings = [float(val) for val in full_content[i].split(' ')[1:]]\n",
    "    vocab.append(i_word)\n",
    "    embeddings.append(i_embeddings)\n",
    "    "
   ]
  },
  {
   "cell_type": "markdown",
   "id": "dd5b6540",
   "metadata": {
    "pycharm": {
     "name": "#%% md\n"
    }
   },
   "source": [
    "add padding and unknown tokens to the embeddings array:"
   ]
  },
  {
   "cell_type": "code",
   "execution_count": 23,
   "id": "b5c85fe9",
   "metadata": {
    "pycharm": {
     "name": "#%%\n"
    }
   },
   "outputs": [
    {
     "name": "stdout",
     "output_type": "stream",
     "text": [
      "['<pad>' '<unk>' 'the' ',' '.' 'of' 'to' 'and' 'in' 'a']\n"
     ]
    }
   ],
   "source": [
    "# Add the padding and the unknown tokens to the vocab and embeddings arrays\n",
    "\n",
    "vocab = np.array(vocab) \n",
    "embeddings = np.array(embeddings)\n",
    "vocab = np.insert(vocab, 0, '<pad>')\n",
    "vocab = np.insert(vocab, 1, '<unk>')\n",
    "\n",
    "unk_emb = np.mean(embeddings, axis=0, keepdims=True)\n",
    "pad_emb = np.zeros_like(embeddings[0]).reshape(1,-1)\n",
    "\n",
    "\n",
    "embeddings = np.vstack((pad_emb, unk_emb, embeddings))\n",
    "\n",
    "print(vocab[:10])"
   ]
  },
  {
   "cell_type": "markdown",
   "id": "7aa3e9bc",
   "metadata": {
    "pycharm": {
     "name": "#%% md\n"
    }
   },
   "source": [
    "## Baseline Model - Sentiment Analysis using RNN - GRU\n",
    "\n",
    "As for the first part in our experiment\n"
   ]
  },
  {
   "cell_type": "code",
   "execution_count": 39,
   "id": "fb5ea6d8",
   "metadata": {
    "pycharm": {
     "name": "#%%\n"
    }
   },
   "outputs": [],
   "source": [
    "def train(model, optimizer, loss_fn, dl_train, dl_test, max_epochs=100,\n",
    "          num_batches=400, save_path=None):\n",
    "    \n",
    "    best_test_acc = 0\n",
    "    res = FitResult(max_epochs,[],[],[],[] )\n",
    "    \n",
    "    for epoch_idx in range(max_epochs):\n",
    "        total_loss, num_correct = 0, 0\n",
    "        num_samples = 0\n",
    "        start_time = time.time()\n",
    "\n",
    "        for batch_idx, batch in enumerate(dl_train):\n",
    "            X, y = batch.text, batch.label\n",
    "\n",
    "            # Forward pass\n",
    "            _, y_pred_log_proba = model(X)\n",
    "\n",
    "            # Backward pass\n",
    "            optimizer.zero_grad()\n",
    "            loss = loss_fn(y_pred_log_proba, y)\n",
    "            loss.backward()\n",
    "\n",
    "            # Weight updates\n",
    "            optimizer.step()\n",
    "\n",
    "            # Calculate accuracy\n",
    "            total_loss += loss.item()\n",
    "            y_pred = torch.argmax(y_pred_log_proba, dim=1)\n",
    "            num_samples += y_pred.shape[0]\n",
    "            num_correct += torch.sum(y_pred == y).float().item()\n",
    "\n",
    "            if batch_idx == num_batches-1:\n",
    "                break\n",
    "        \n",
    "        curr_test_loss, curr_test_acc = test_epoch(model, loss_fn, dl_test)\n",
    "        res.test_loss.append(curr_test_loss)\n",
    "        res.test_acc.append(curr_test_acc)\n",
    "        \n",
    "        curr_train_loss = total_loss /(num_batches)\n",
    "        curr_train_acc = num_correct /(num_samples)\n",
    "        res.train_loss.append(curr_train_loss)\n",
    "        res.train_acc.append(curr_train_acc)\n",
    "        \n",
    "        \n",
    "        print(f\"Epoch #{epoch_idx}, loss={curr_train_loss:.3f}, accuracy={curr_train_acc:.3f}, elapsed={time.time()-start_time:.1f} sec\")\n",
    "        \n",
    "        if save_path and curr_test_acc > best_test_acc:\n",
    "            print(\"---saving model ---\")\n",
    "            torch.save(model, save_path)\n",
    "            best_test_acc = curr_test_acc\n",
    "            \n",
    "    return res"
   ]
  },
  {
   "cell_type": "code",
   "execution_count": 40,
   "id": "768c919c",
   "metadata": {},
   "outputs": [],
   "source": [
    "def test_epoch(model, loss_fn, dataloader):\n",
    "    model.eval()\n",
    "    total_loss = 0\n",
    "    num_correct = 0 \n",
    "    num_batches = 0\n",
    "    num_samples = 0\n",
    "\n",
    "    # since we're not training, we don't need to calculate the gradients for our outputs\n",
    "    with torch.no_grad():\n",
    "        for batch_idx, batch in enumerate(dataloader):\n",
    "            num_batches = batch_idx\n",
    "            X, y = batch.text, batch.label\n",
    "\n",
    "            _, y_test = model(X)\n",
    "            loss = loss_fn(y_test, y)\n",
    "            total_loss += loss.item()\n",
    "            \n",
    "            # Calculate accuracy\n",
    "            y_pred = torch.argmax(y_test, dim=1)\n",
    "            num_correct += torch.sum(y_pred == y).float().item()\n",
    "            num_samples += y_pred.shape[0]\n",
    "\n",
    "        num_batches += 1   \n",
    "        \n",
    "        test_loss = total_loss /(num_batches)\n",
    "        test_acc = num_correct /(num_samples)\n",
    "        print(\"Test Accuracy is ----\", test_acc, \"-----\")\n",
    "\n",
    "    model.train()\n",
    "    return test_loss, test_acc"
   ]
  },
  {
   "cell_type": "code",
   "execution_count": null,
   "id": "dc059d57",
   "metadata": {
    "tags": []
   },
   "outputs": [],
   "source": [
    "EMBEDDING_DIM = 50\n",
    "BATCH_SIZE = 32\n",
    "HIDDEN_SIZE = 256\n",
    "NUM_LAYERS = 2\n",
    "DROPOUT = 0\n",
    "LEARNING_RATE = 1e-3"
   ]
  },
  {
   "cell_type": "code",
   "execution_count": 27,
   "id": "4eade0c0",
   "metadata": {},
   "outputs": [],
   "source": [
    "dl_train, dl_valid, dl_test = torchtext.data.BucketIterator.splits(\n",
    "    (ds_train, ds_valid, ds_test), batch_size=BATCH_SIZE,\n",
    "    shuffle=True, device=device)\n",
    "review_parser.build_vocab(ds_train)\n",
    "label_parser.build_vocab(ds_train)"
   ]
  },
  {
   "cell_type": "code",
   "execution_count": 28,
   "id": "f8ce7503",
   "metadata": {},
   "outputs": [],
   "source": [
    "# defining the baseline model\n",
    "model = SentimentGRU(embeddings, hidden_size=HIDDEN_SIZE,\n",
    "                     num_layers=NUM_LAYERS, dropout=DROPOUT).to(device)\n",
    "\n",
    "optimizer = torch.optim.Adam(model.parameters(), lr=LEARNING_RATE)\n",
    "\n",
    "loss_fn = torch.nn.NLLLoss()\n"
   ]
  },
  {
   "cell_type": "code",
   "execution_count": 29,
   "id": "e0bfbe6a",
   "metadata": {
    "pycharm": {
     "name": "#%%\n"
    }
   },
   "outputs": [
    {
     "name": "stdout",
     "output_type": "stream",
     "text": [
      "Test loss is ---- 1.0351219960621425 -----\n",
      "Epoch #0, loss=0.562, accuracy=0.413, elapsed=1.7 sec\n",
      "---saving model ---\n",
      "Test loss is ---- 1.0615631759166717 -----\n",
      "Epoch #1, loss=0.560, accuracy=0.409, elapsed=1.8 sec\n",
      "Test loss is ---- 1.0271973643984114 -----\n",
      "Epoch #2, loss=0.560, accuracy=0.420, elapsed=1.7 sec\n",
      "---saving model ---\n",
      "Test loss is ---- 1.0293724306992122 -----\n",
      "Epoch #3, loss=0.560, accuracy=0.422, elapsed=1.7 sec\n",
      "---saving model ---\n",
      "Test loss is ---- 1.0384848237037658 -----\n",
      "Epoch #4, loss=0.560, accuracy=0.417, elapsed=1.7 sec\n"
     ]
    },
    {
     "ename": "KeyboardInterrupt",
     "evalue": "",
     "output_type": "error",
     "traceback": [
      "\u001B[0;31m---------------------------------------------------------------------------\u001B[0m",
      "\u001B[0;31mKeyboardInterrupt\u001B[0m                         Traceback (most recent call last)",
      "\u001B[0;32m<ipython-input-29-b4f1ed9a81de>\u001B[0m in \u001B[0;36m<module>\u001B[0;34m\u001B[0m\n\u001B[0;32m----> 1\u001B[0;31m fit_res = train(model, optimizer, loss_fn, dl_train, dl_test, max_epochs=100,\n\u001B[0m\u001B[1;32m      2\u001B[0m       num_batches=500, save_path = \"./models/sentimentGRU.pt\")\n",
      "\u001B[0;32m<ipython-input-24-97695f37169b>\u001B[0m in \u001B[0;36mtrain\u001B[0;34m(model, optimizer, loss_fn, dl_train, dl_test, max_epochs, num_batches, save_path)\u001B[0m\n\u001B[1;32m     19\u001B[0m             \u001B[0moptimizer\u001B[0m\u001B[0;34m.\u001B[0m\u001B[0mzero_grad\u001B[0m\u001B[0;34m(\u001B[0m\u001B[0;34m)\u001B[0m\u001B[0;34m\u001B[0m\u001B[0;34m\u001B[0m\u001B[0m\n\u001B[1;32m     20\u001B[0m             \u001B[0mloss\u001B[0m \u001B[0;34m=\u001B[0m \u001B[0mloss_fn\u001B[0m\u001B[0;34m(\u001B[0m\u001B[0my_pred_log_proba\u001B[0m\u001B[0;34m,\u001B[0m \u001B[0my\u001B[0m\u001B[0;34m)\u001B[0m\u001B[0;34m\u001B[0m\u001B[0;34m\u001B[0m\u001B[0m\n\u001B[0;32m---> 21\u001B[0;31m             \u001B[0mloss\u001B[0m\u001B[0;34m.\u001B[0m\u001B[0mbackward\u001B[0m\u001B[0;34m(\u001B[0m\u001B[0;34m)\u001B[0m\u001B[0;34m\u001B[0m\u001B[0;34m\u001B[0m\u001B[0m\n\u001B[0m\u001B[1;32m     22\u001B[0m \u001B[0;34m\u001B[0m\u001B[0m\n\u001B[1;32m     23\u001B[0m             \u001B[0;31m# Weight updates\u001B[0m\u001B[0;34m\u001B[0m\u001B[0;34m\u001B[0m\u001B[0;34m\u001B[0m\u001B[0m\n",
      "\u001B[0;32m~/miniconda3/envs/cs236781-hw/lib/python3.8/site-packages/torch/tensor.py\u001B[0m in \u001B[0;36mbackward\u001B[0;34m(self, gradient, retain_graph, create_graph)\u001B[0m\n\u001B[1;32m    183\u001B[0m                 \u001B[0mproducts\u001B[0m\u001B[0;34m.\u001B[0m \u001B[0mDefaults\u001B[0m \u001B[0mto\u001B[0m\u001B[0;31m \u001B[0m\u001B[0;31m`\u001B[0m\u001B[0;31m`\u001B[0m\u001B[0;32mFalse\u001B[0m\u001B[0;31m`\u001B[0m\u001B[0;31m`\u001B[0m\u001B[0;34m.\u001B[0m\u001B[0;34m\u001B[0m\u001B[0;34m\u001B[0m\u001B[0m\n\u001B[1;32m    184\u001B[0m         \"\"\"\n\u001B[0;32m--> 185\u001B[0;31m         \u001B[0mtorch\u001B[0m\u001B[0;34m.\u001B[0m\u001B[0mautograd\u001B[0m\u001B[0;34m.\u001B[0m\u001B[0mbackward\u001B[0m\u001B[0;34m(\u001B[0m\u001B[0mself\u001B[0m\u001B[0;34m,\u001B[0m \u001B[0mgradient\u001B[0m\u001B[0;34m,\u001B[0m \u001B[0mretain_graph\u001B[0m\u001B[0;34m,\u001B[0m \u001B[0mcreate_graph\u001B[0m\u001B[0;34m)\u001B[0m\u001B[0;34m\u001B[0m\u001B[0;34m\u001B[0m\u001B[0m\n\u001B[0m\u001B[1;32m    186\u001B[0m \u001B[0;34m\u001B[0m\u001B[0m\n\u001B[1;32m    187\u001B[0m     \u001B[0;32mdef\u001B[0m \u001B[0mregister_hook\u001B[0m\u001B[0;34m(\u001B[0m\u001B[0mself\u001B[0m\u001B[0;34m,\u001B[0m \u001B[0mhook\u001B[0m\u001B[0;34m)\u001B[0m\u001B[0;34m:\u001B[0m\u001B[0;34m\u001B[0m\u001B[0;34m\u001B[0m\u001B[0m\n",
      "\u001B[0;32m~/miniconda3/envs/cs236781-hw/lib/python3.8/site-packages/torch/autograd/__init__.py\u001B[0m in \u001B[0;36mbackward\u001B[0;34m(tensors, grad_tensors, retain_graph, create_graph, grad_variables)\u001B[0m\n\u001B[1;32m    123\u001B[0m         \u001B[0mretain_graph\u001B[0m \u001B[0;34m=\u001B[0m \u001B[0mcreate_graph\u001B[0m\u001B[0;34m\u001B[0m\u001B[0;34m\u001B[0m\u001B[0m\n\u001B[1;32m    124\u001B[0m \u001B[0;34m\u001B[0m\u001B[0m\n\u001B[0;32m--> 125\u001B[0;31m     Variable._execution_engine.run_backward(\n\u001B[0m\u001B[1;32m    126\u001B[0m         \u001B[0mtensors\u001B[0m\u001B[0;34m,\u001B[0m \u001B[0mgrad_tensors\u001B[0m\u001B[0;34m,\u001B[0m \u001B[0mretain_graph\u001B[0m\u001B[0;34m,\u001B[0m \u001B[0mcreate_graph\u001B[0m\u001B[0;34m,\u001B[0m\u001B[0;34m\u001B[0m\u001B[0;34m\u001B[0m\u001B[0m\n\u001B[1;32m    127\u001B[0m         allow_unreachable=True)  # allow_unreachable flag\n",
      "\u001B[0;31mKeyboardInterrupt\u001B[0m: "
     ]
    }
   ],
   "source": [
    "fit_res = train(model, optimizer, loss_fn, dl_train, dl_test, max_epochs=100,\n",
    "      num_batches=500, save_path = \"./models/sentimentGRU.pt\")"
   ]
  },
  {
   "cell_type": "code",
   "execution_count": null,
   "id": "afcf2f2a",
   "metadata": {
    "collapsed": false,
    "jupyter": {
     "outputs_hidden": false
    },
    "pycharm": {
     "name": "#%%\n"
    }
   },
   "outputs": [],
   "source": [
    "plot.plot_fit(fit_res)"
   ]
  },
  {
   "cell_type": "code",
   "execution_count": null,
   "id": "ff4eb19f-9eaf-4230-9760-f7ec0c2efb0a",
   "metadata": {},
   "outputs": [],
   "source": [
    "# Load the best model achieved during training\n",
    "model = torch.load(\"./models/sentimentGRU.pt\")\n",
    "print(model)"
   ]
  },
  {
   "cell_type": "code",
   "execution_count": 41,
   "id": "2d67c25a-9934-4c4f-97a4-327037e3bb67",
   "metadata": {},
   "outputs": [],
   "source": [
    "# Self Attenttion Hyper parameters:\n",
    "\n",
    "EMBEDDING_DIM = 50\n",
    "BATCH_SIZE = 8\n",
    "NUM_HEADS = 1\n",
    "D_MODEL = 50\n",
    "TWO_LAYERS = False\n",
    "DROPOUT = 0.7\n",
    "LEARNING_RATE = 1e-3"
   ]
  },
  {
   "cell_type": "code",
   "execution_count": 42,
   "id": "be9a02c1",
   "metadata": {
    "collapsed": false,
    "jupyter": {
     "outputs_hidden": false
    },
    "pycharm": {
     "name": "#%%\n"
    }
   },
   "outputs": [
    {
     "name": "stdout",
     "output_type": "stream",
     "text": [
      "SentimentSelfAttention(\n",
      "  (embedding_layer): Embedding(400002, 50)\n",
      "  (PositionalEncoding): PositionalEncoding()\n",
      "  (q_feedforward): Sequential(\n",
      "    (0): Linear(in_features=50, out_features=50, bias=True)\n",
      "    (1): Dropout(p=0.7, inplace=False)\n",
      "    (2): ReLU()\n",
      "  )\n",
      "  (k_feedforward): Sequential(\n",
      "    (0): Linear(in_features=50, out_features=50, bias=True)\n",
      "    (1): Dropout(p=0.7, inplace=False)\n",
      "    (2): ReLU()\n",
      "  )\n",
      "  (v_feedforward): Sequential(\n",
      "    (0): Linear(in_features=50, out_features=50, bias=True)\n",
      "    (1): Dropout(p=0.7, inplace=False)\n",
      "    (2): ReLU()\n",
      "  )\n",
      "  (SelfAttention1): MultiheadAttention(\n",
      "    (out_proj): _LinearWithBias(in_features=50, out_features=50, bias=True)\n",
      "  )\n",
      "  (attention_out_feedforward): Sequential(\n",
      "    (0): Linear(in_features=50, out_features=50, bias=True)\n",
      "    (1): Dropout(p=0.7, inplace=False)\n",
      "    (2): ReLU()\n",
      "  )\n",
      "  (dense_linear): Linear(in_features=50, out_features=3, bias=True)\n",
      "  (log_softmax): LogSoftmax(dim=1)\n",
      ")\n",
      "trainable params: 20553\n"
     ]
    }
   ],
   "source": [
    "from SelfAttention import SentimentSelfAttention\n",
    "\n",
    "dl_train, dl_valid, dl_test = torchtext.data.BucketIterator.splits(\n",
    "    (ds_train, ds_valid, ds_test), batch_size=BATCH_SIZE,\n",
    "    shuffle=True, device=device)\n",
    "review_parser.build_vocab(ds_train)\n",
    "label_parser.build_vocab(ds_train)\n",
    "\n",
    "model_attention = SentimentSelfAttention(embeddings,\n",
    "                                         d_model=D_MODEL,\n",
    "                                         num_heads=NUM_HEADS,\n",
    "                                         dropout=DROPOUT,\n",
    "                                         two_layers=TWO_LAYERS).to(device)\n",
    "\n",
    "att_optimizer = torch.optim.Adam(model_attention.parameters(), lr=LEARNING_RATE)\n",
    "\n",
    "print(model_attention)\n",
    "print(\"trainable params:\", \n",
    "      sum(p.numel() for p in model_attention.parameters() if p.requires_grad)) \n"
   ]
  },
  {
   "cell_type": "code",
   "execution_count": null,
   "id": "18833e33",
   "metadata": {
    "collapsed": false,
    "jupyter": {
     "outputs_hidden": false
    },
    "pycharm": {
     "name": "#%%\n"
    }
   },
   "outputs": [
    {
     "name": "stdout",
     "output_type": "stream",
     "text": [
      "Test Accuracy is ---- 0.41266968325791853 -----\n",
      "Epoch #0, loss=1.067, accuracy=0.404, elapsed=4.1 sec\n",
      "---saving model ---\n",
      "Test Accuracy is ---- 0.4104072398190045 -----\n",
      "Epoch #1, loss=1.054, accuracy=0.404, elapsed=4.0 sec\n",
      "Test Accuracy is ---- 0.4235294117647059 -----\n",
      "Epoch #2, loss=1.049, accuracy=0.422, elapsed=4.1 sec\n",
      "---saving model ---\n",
      "Test Accuracy is ---- 0.4113122171945701 -----\n",
      "Epoch #3, loss=1.045, accuracy=0.412, elapsed=4.0 sec\n",
      "Test Accuracy is ---- 0.4113122171945701 -----\n",
      "Epoch #4, loss=1.053, accuracy=0.412, elapsed=4.0 sec\n",
      "Test Accuracy is ---- 0.4113122171945701 -----\n",
      "Epoch #5, loss=1.043, accuracy=0.422, elapsed=4.0 sec\n",
      "Test Accuracy is ---- 0.4113122171945701 -----\n",
      "Epoch #6, loss=1.056, accuracy=0.423, elapsed=4.0 sec\n",
      "Test Accuracy is ---- 0.4113122171945701 -----\n",
      "Epoch #7, loss=1.047, accuracy=0.415, elapsed=4.0 sec\n",
      "Test Accuracy is ---- 0.4108597285067873 -----\n",
      "Epoch #8, loss=1.051, accuracy=0.420, elapsed=4.0 sec\n"
     ]
    }
   ],
   "source": [
    "Attention_res = train(model_attention, att_optimizer, loss_fn, dl_train, dl_test, max_epochs=100,\n",
    "          num_batches=500, save_path=\"./models/selfAttention.pt\")"
   ]
  },
  {
   "cell_type": "code",
   "execution_count": null,
   "id": "83f5ea38-04d6-4ced-a2e8-cb1f08fa1c88",
   "metadata": {},
   "outputs": [],
   "source": [
    "plot.plot_fit(Attention_res)"
   ]
  },
  {
   "cell_type": "code",
   "execution_count": null,
   "id": "2b239160",
   "metadata": {
    "collapsed": false,
    "jupyter": {
     "outputs_hidden": false
    },
    "pycharm": {
     "name": "#%%\n"
    }
   },
   "outputs": [],
   "source": [
    "import matplotlib.pyplot as plt\n",
    "from sklearn.metrics import plot_confusion_matrix, ConfusionMatrixDisplay\n",
    "\n",
    "# get the best predictions from the model\n",
    "def get_preds_and_labels(model, dl, device):\n",
    "    model.eval()\n",
    "    all_preds = torch.tensor([]).to(device)\n",
    "    GT_labels = torch.tensor([]).to(device)\n",
    "\n",
    "    for i,batch in enumerate(dl):\n",
    "        X, y = batch\n",
    "        \n",
    "        _, preds = model(X)\n",
    "        preds = torch.argmax(preds, dim=1)\n",
    "        \n",
    "        \n",
    "        all_preds = torch.cat((all_preds, preds), dim=0)\n",
    "        GT_labels = torch.cat((GT_labels, y), dim=0)\n",
    "\n",
    "    return all_preds , GT_labels\n",
    "\n",
    "with torch.no_grad():\n",
    "    # baseline VS SelfAttention Confusion matrices\n",
    "    bl_best_preds, bl_GT_preds= get_preds_and_labels(model, dl_test, device)\n",
    "    se_best_preds, se_GT_preds = get_preds_and_labels(model_attention, dl_test, device)\n",
    "    \n",
    "    # Now lets demonstrate the confusion matrix of the test set.\n",
    "    IC = type('IdentityClassifier', (), {\"predict\": lambda i : i, \"_estimator_type\": \"classifier\"})\n",
    "    class_names = ['Positive','Negative','Neutral']\n",
    "\n",
    "    fig, (ax1, ax2) = plt.subplots(ncols = 2, nrows = 1 , figsize=(25, 10))\n",
    "    disp = plot_confusion_matrix(IC, bl_GT_preds.cpu(), bl_best_preds.cpu() ,display_labels=class_names, cmap=plt.cm.Blues, normalize='true', ax=ax1);\n",
    "    disp.ax_.set_title('Baseline Confusion Matrix\\n')\n",
    "\n",
    "    disp = plot_confusion_matrix(IC, se_GT_preds.cpu(), se_best_preds.cpu() ,display_labels=class_names, cmap=plt.cm.Blues, normalize='true', ax=ax2);\n",
    "    disp.ax_.set_title('Self-Attention Confusion Matrix\\n')\n",
    "\n",
    "    "
   ]
  }
 ],
 "metadata": {
  "kernelspec": {
   "display_name": "Python 3",
   "language": "python",
   "name": "python3"
  },
  "language_info": {
   "codemirror_mode": {
    "name": "ipython",
    "version": 3
   },
   "file_extension": ".py",
   "mimetype": "text/x-python",
   "name": "python",
   "nbconvert_exporter": "python",
   "pygments_lexer": "ipython3",
   "version": "3.8.6"
  }
 },
 "nbformat": 4,
 "nbformat_minor": 5
}